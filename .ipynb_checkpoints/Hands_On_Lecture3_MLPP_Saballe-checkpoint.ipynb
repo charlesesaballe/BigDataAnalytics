{
 "cells": [
  {
   "cell_type": "markdown",
   "id": "52a5e80b",
   "metadata": {},
   "source": [
    "### Hands-on Lecture 3: Exercise 1\n",
    "Fit a classifier on the wine dataset with GridSearchCV.\n",
    "Follow the example on https://scikit-learn.org/stable/modules/generated/sklearn.model_selection.GridSearchCV.html"
   ]
  },
  {
   "cell_type": "code",
   "execution_count": 1,
   "id": "64c5b4f8",
   "metadata": {
    "ExecuteTime": {
     "end_time": "2021-10-21T19:53:10.964839Z",
     "start_time": "2021-10-21T19:53:09.919897Z"
    }
   },
   "outputs": [],
   "source": [
    "from sklearn.datasets import load_wine\n",
    "from sklearn.model_selection import train_test_split, GridSearchCV\n",
    "from sklearn.svm import SVC\n",
    "from sklearn.preprocessing import StandardScaler\n",
    "from sklearn.pipeline import Pipeline"
   ]
  },
  {
   "cell_type": "code",
   "execution_count": 2,
   "id": "97021065",
   "metadata": {
    "ExecuteTime": {
     "end_time": "2021-10-21T19:53:10.970536Z",
     "start_time": "2021-10-21T19:53:10.966328Z"
    }
   },
   "outputs": [],
   "source": [
    "#loading wine data\n",
    "Xw, yw = load_wine(return_X_y=True)"
   ]
  },
  {
   "cell_type": "code",
   "execution_count": 3,
   "id": "10362db5",
   "metadata": {
    "ExecuteTime": {
     "end_time": "2021-10-21T19:53:12.961765Z",
     "start_time": "2021-10-21T19:53:10.971586Z"
    }
   },
   "outputs": [
    {
     "name": "stdout",
     "output_type": "stream",
     "text": [
      "Best parameters: {'C': 0.1, 'kernel': 'linear'}\n",
      "Best cross-validation score: 0.96\n"
     ]
    }
   ],
   "source": [
    "#splitting data into train and test\n",
    "X_train, X_test, y_train, y_test = train_test_split(Xw, yw, random_state=2)\n",
    "#specifying the parameter grids for parameters kernels, C and gamma.\n",
    "param_grid = [{'kernel': ['rbf'],\n",
    "               'C': [0.001, 0.01, 0.1, 1, 10, 100],\n",
    "               'gamma': [0.001, 0.01, 0.1, 1, 10, 100]},\n",
    "              {'kernel': ['linear'],\n",
    "               'C': [0.001, 0.01, 0.1, 1, 10, 100]}]\n",
    "#running the models using grid search and finding best model\n",
    "grid_search = GridSearchCV(SVC(), param_grid, cv=5)\n",
    "grid_search.fit(X_train, y_train)\n",
    "print(\"Best parameters: {}\".format(grid_search.best_params_))\n",
    "print(\"Best cross-validation score: {:.2f}\".format(grid_search.best_score_))"
   ]
  },
  {
   "cell_type": "markdown",
   "id": "e52096d9",
   "metadata": {
    "ExecuteTime": {
     "end_time": "2021-10-21T16:09:49.298685Z",
     "start_time": "2021-10-21T16:09:49.293897Z"
    }
   },
   "source": [
    "### Hands-on exercise 2\n",
    "Create a pipeline class combining one scaler and one model.\n",
    "\n",
    "Run a gridsearch with this pipeline on the wine dataset."
   ]
  },
  {
   "cell_type": "code",
   "execution_count": 4,
   "id": "bf956463",
   "metadata": {
    "ExecuteTime": {
     "end_time": "2021-10-21T19:53:13.238083Z",
     "start_time": "2021-10-21T19:53:12.963161Z"
    }
   },
   "outputs": [
    {
     "name": "stdout",
     "output_type": "stream",
     "text": [
      "Best cross-validation accuracy: 0.99\n",
      "Test set score: 0.98\n",
      "Best parameters: {'classifier__C': 10, 'classifier__gamma': 0.01}\n"
     ]
    }
   ],
   "source": [
    "#Creating the pipeline class using Standard scaler and SVC classifier model\n",
    "pipe = Pipeline([(\"scaler\", StandardScaler()), ('classifier', SVC())])\n",
    "\n",
    "#Specifying the parameter grid\n",
    "param_grid_pipe = {'classifier__C': [0.001, 0.01, 0.1, 1, 10, 100],\n",
    "              'classifier__gamma': [0.001, 0.01, 0.1, 1, 10, 100]}\n",
    "\n",
    "#running the models using the pipeline with grid search and finding best model\n",
    "grid = GridSearchCV(pipe, param_grid=param_grid_pipe, cv=3)\n",
    "grid.fit(X_train, y_train)\n",
    "print(\"Best cross-validation accuracy: {:.2f}\".format(grid.best_score_))\n",
    "print(\"Test set score: {:.2f}\".format(grid.score(X_test, y_test)))\n",
    "print(\"Best parameters: {}\".format(grid.best_params_))"
   ]
  }
 ],
 "metadata": {
  "hide_input": false,
  "kernelspec": {
   "display_name": "Python 3 (ipykernel)",
   "language": "python",
   "name": "python3"
  },
  "language_info": {
   "codemirror_mode": {
    "name": "ipython",
    "version": 3
   },
   "file_extension": ".py",
   "mimetype": "text/x-python",
   "name": "python",
   "nbconvert_exporter": "python",
   "pygments_lexer": "ipython3",
   "version": "3.7.8"
  }
 },
 "nbformat": 4,
 "nbformat_minor": 5
}
