{
 "cells": [
  {
   "cell_type": "markdown",
   "metadata": {},
   "source": [
    "# Hands-On\n",
    "\n",
    "## Hands-On 1"
   ]
  },
  {
   "cell_type": "code",
   "execution_count": 1,
   "metadata": {
    "ExecuteTime": {
     "end_time": "2021-11-05T15:32:12.419339Z",
     "start_time": "2021-11-05T15:32:10.877310Z"
    }
   },
   "outputs": [],
   "source": [
    "#Collecting needed libraries\n",
    "import pandas as pd\n",
    "import numpy as np\n",
    "\n",
    "from sklearn.model_selection import train_test_split\n",
    "from sklearn.linear_model import LogisticRegression\n",
    "from sklearn.impute import KNNImputer\n",
    "from impyute.imputation.cs import fast_knn"
   ]
  },
  {
   "cell_type": "markdown",
   "metadata": {},
   "source": [
    "Here we are going to compare the performance of one model under different imputations of the data.\n",
    "\n",
    "1. Get the data from https://raw.githubusercontent.com/jbrownlee/Datasets/master/pima-indians-diabetes.csv\n",
    "Hint: use pandas as df = pd.read_csv(,header=None)\n",
    "\n",
    "Features:\n",
    "\n",
    "    0. Number of times pregnant.\n",
    "    1. Plasma glucose concentration a 2 hours in an oral glucose tolerance test.\n",
    "    2. Diastolic blood pressure (mm Hg).\n",
    "    3. Triceps skinfold thickness (mm).\n",
    "    4. 2-Hour serum insulin (mu U/ml).\n",
    "    5. Body mass index (weight in kg/(height in m)^2).\n",
    "    6. Diabetes pedigree function.\n",
    "    7. Age (years).\n",
    "    8. Class variable (0 or 1)."
   ]
  },
  {
   "cell_type": "markdown",
   "metadata": {},
   "source": [
    "2. Inspect the data using *describe*\n",
    "\n",
    "3. Replace the 0 values in the first 5 feature columns as:  \n",
    " *df[[0,1,2,3,4]] = df[[0,1,2,3,4]].replace(0, np.nan)*\n",
    "\n",
    "4. Fit a binary classifier for predicting the 8 column.\n",
    "\n",
    "5. Perform some imputation on the dataset obtained in the part 3. Fit your model again, do the accuracy improves?"
   ]
  },
  {
   "cell_type": "code",
   "execution_count": 2,
   "metadata": {
    "ExecuteTime": {
     "end_time": "2021-11-05T15:32:18.692264Z",
     "start_time": "2021-11-05T15:32:18.519539Z"
    }
   },
   "outputs": [],
   "source": [
    "#Getting the data\n",
    "url = 'https://raw.githubusercontent.com/jbrownlee/Datasets/master/pima-indians-diabetes.csv'\n",
    "df = pd.read_csv(url,header=None)"
   ]
  },
  {
   "cell_type": "code",
   "execution_count": 3,
   "metadata": {
    "ExecuteTime": {
     "end_time": "2021-11-05T15:32:20.030365Z",
     "start_time": "2021-11-05T15:32:19.995081Z"
    }
   },
   "outputs": [
    {
     "data": {
      "text/html": [
       "<div>\n",
       "<style scoped>\n",
       "    .dataframe tbody tr th:only-of-type {\n",
       "        vertical-align: middle;\n",
       "    }\n",
       "\n",
       "    .dataframe tbody tr th {\n",
       "        vertical-align: top;\n",
       "    }\n",
       "\n",
       "    .dataframe thead th {\n",
       "        text-align: right;\n",
       "    }\n",
       "</style>\n",
       "<table border=\"1\" class=\"dataframe\">\n",
       "  <thead>\n",
       "    <tr style=\"text-align: right;\">\n",
       "      <th></th>\n",
       "      <th>0</th>\n",
       "      <th>1</th>\n",
       "      <th>2</th>\n",
       "      <th>3</th>\n",
       "      <th>4</th>\n",
       "      <th>5</th>\n",
       "      <th>6</th>\n",
       "      <th>7</th>\n",
       "      <th>8</th>\n",
       "    </tr>\n",
       "  </thead>\n",
       "  <tbody>\n",
       "    <tr>\n",
       "      <th>count</th>\n",
       "      <td>768.000000</td>\n",
       "      <td>768.000000</td>\n",
       "      <td>768.000000</td>\n",
       "      <td>768.000000</td>\n",
       "      <td>768.000000</td>\n",
       "      <td>768.000000</td>\n",
       "      <td>768.000000</td>\n",
       "      <td>768.000000</td>\n",
       "      <td>768.000000</td>\n",
       "    </tr>\n",
       "    <tr>\n",
       "      <th>mean</th>\n",
       "      <td>3.845052</td>\n",
       "      <td>120.894531</td>\n",
       "      <td>69.105469</td>\n",
       "      <td>20.536458</td>\n",
       "      <td>79.799479</td>\n",
       "      <td>31.992578</td>\n",
       "      <td>0.471876</td>\n",
       "      <td>33.240885</td>\n",
       "      <td>0.348958</td>\n",
       "    </tr>\n",
       "    <tr>\n",
       "      <th>std</th>\n",
       "      <td>3.369578</td>\n",
       "      <td>31.972618</td>\n",
       "      <td>19.355807</td>\n",
       "      <td>15.952218</td>\n",
       "      <td>115.244002</td>\n",
       "      <td>7.884160</td>\n",
       "      <td>0.331329</td>\n",
       "      <td>11.760232</td>\n",
       "      <td>0.476951</td>\n",
       "    </tr>\n",
       "    <tr>\n",
       "      <th>min</th>\n",
       "      <td>0.000000</td>\n",
       "      <td>0.000000</td>\n",
       "      <td>0.000000</td>\n",
       "      <td>0.000000</td>\n",
       "      <td>0.000000</td>\n",
       "      <td>0.000000</td>\n",
       "      <td>0.078000</td>\n",
       "      <td>21.000000</td>\n",
       "      <td>0.000000</td>\n",
       "    </tr>\n",
       "    <tr>\n",
       "      <th>25%</th>\n",
       "      <td>1.000000</td>\n",
       "      <td>99.000000</td>\n",
       "      <td>62.000000</td>\n",
       "      <td>0.000000</td>\n",
       "      <td>0.000000</td>\n",
       "      <td>27.300000</td>\n",
       "      <td>0.243750</td>\n",
       "      <td>24.000000</td>\n",
       "      <td>0.000000</td>\n",
       "    </tr>\n",
       "    <tr>\n",
       "      <th>50%</th>\n",
       "      <td>3.000000</td>\n",
       "      <td>117.000000</td>\n",
       "      <td>72.000000</td>\n",
       "      <td>23.000000</td>\n",
       "      <td>30.500000</td>\n",
       "      <td>32.000000</td>\n",
       "      <td>0.372500</td>\n",
       "      <td>29.000000</td>\n",
       "      <td>0.000000</td>\n",
       "    </tr>\n",
       "    <tr>\n",
       "      <th>75%</th>\n",
       "      <td>6.000000</td>\n",
       "      <td>140.250000</td>\n",
       "      <td>80.000000</td>\n",
       "      <td>32.000000</td>\n",
       "      <td>127.250000</td>\n",
       "      <td>36.600000</td>\n",
       "      <td>0.626250</td>\n",
       "      <td>41.000000</td>\n",
       "      <td>1.000000</td>\n",
       "    </tr>\n",
       "    <tr>\n",
       "      <th>max</th>\n",
       "      <td>17.000000</td>\n",
       "      <td>199.000000</td>\n",
       "      <td>122.000000</td>\n",
       "      <td>99.000000</td>\n",
       "      <td>846.000000</td>\n",
       "      <td>67.100000</td>\n",
       "      <td>2.420000</td>\n",
       "      <td>81.000000</td>\n",
       "      <td>1.000000</td>\n",
       "    </tr>\n",
       "  </tbody>\n",
       "</table>\n",
       "</div>"
      ],
      "text/plain": [
       "                0           1           2           3           4           5  \\\n",
       "count  768.000000  768.000000  768.000000  768.000000  768.000000  768.000000   \n",
       "mean     3.845052  120.894531   69.105469   20.536458   79.799479   31.992578   \n",
       "std      3.369578   31.972618   19.355807   15.952218  115.244002    7.884160   \n",
       "min      0.000000    0.000000    0.000000    0.000000    0.000000    0.000000   \n",
       "25%      1.000000   99.000000   62.000000    0.000000    0.000000   27.300000   \n",
       "50%      3.000000  117.000000   72.000000   23.000000   30.500000   32.000000   \n",
       "75%      6.000000  140.250000   80.000000   32.000000  127.250000   36.600000   \n",
       "max     17.000000  199.000000  122.000000   99.000000  846.000000   67.100000   \n",
       "\n",
       "                6           7           8  \n",
       "count  768.000000  768.000000  768.000000  \n",
       "mean     0.471876   33.240885    0.348958  \n",
       "std      0.331329   11.760232    0.476951  \n",
       "min      0.078000   21.000000    0.000000  \n",
       "25%      0.243750   24.000000    0.000000  \n",
       "50%      0.372500   29.000000    0.000000  \n",
       "75%      0.626250   41.000000    1.000000  \n",
       "max      2.420000   81.000000    1.000000  "
      ]
     },
     "execution_count": 3,
     "metadata": {},
     "output_type": "execute_result"
    }
   ],
   "source": [
    "df.describe()"
   ]
  },
  {
   "cell_type": "code",
   "execution_count": 4,
   "metadata": {
    "ExecuteTime": {
     "end_time": "2021-11-05T15:32:23.017792Z",
     "start_time": "2021-11-05T15:32:23.014735Z"
    }
   },
   "outputs": [],
   "source": [
    "#Running a classification model for baseline\n",
    "#Splitting data into features and label\n",
    "X_data = df.iloc[:,0:8]\n",
    "y_data = df[8]"
   ]
  },
  {
   "cell_type": "code",
   "execution_count": 5,
   "metadata": {
    "ExecuteTime": {
     "end_time": "2021-11-05T15:32:24.140421Z",
     "start_time": "2021-11-05T15:32:24.135009Z"
    }
   },
   "outputs": [],
   "source": [
    "#Splitting data into training+validation and test\n",
    "X_trainval, X_test, y_trainval, y_test = train_test_split(X_data, y_data, random_state=10)\n",
    "\n",
    "#Splitting train+validation set into training and validation sets\n",
    "X_train, X_valid, y_train, y_valid = train_test_split(X_trainval, y_trainval, random_state=10)"
   ]
  },
  {
   "cell_type": "code",
   "execution_count": 6,
   "metadata": {
    "ExecuteTime": {
     "end_time": "2021-11-05T15:32:29.357907Z",
     "start_time": "2021-11-05T15:32:29.317155Z"
    }
   },
   "outputs": [
    {
     "name": "stdout",
     "output_type": "stream",
     "text": [
      "Validation score: 0.78\n"
     ]
    }
   ],
   "source": [
    "#Running Logistic Regression\n",
    "model_train = LogisticRegression(max_iter=10000, random_state=10).fit(X_train, y_train)\n",
    "#Scoring and printing the model using the validation data\n",
    "val_score = model_train.score(X_valid, y_valid)\n",
    "print(\"Validation score: {:.2f}\".format(val_score))"
   ]
  },
  {
   "cell_type": "code",
   "execution_count": 7,
   "metadata": {
    "ExecuteTime": {
     "end_time": "2021-11-05T15:32:31.813138Z",
     "start_time": "2021-11-05T15:32:31.779355Z"
    }
   },
   "outputs": [
    {
     "name": "stdout",
     "output_type": "stream",
     "text": [
      "Test score: 0.73\n"
     ]
    }
   ],
   "source": [
    "#Building the model on training+validation set using the pipeline\n",
    "model_trainval = model_train.fit(X_trainval,y_trainval)\n",
    "\n",
    "#Scoring the model using the test data\n",
    "test_score = model_trainval.score(X_test, y_test)\n",
    "print(\"Test score: {:.2f}\".format(test_score))"
   ]
  },
  {
   "cell_type": "code",
   "execution_count": 8,
   "metadata": {
    "ExecuteTime": {
     "end_time": "2021-11-05T15:32:35.211522Z",
     "start_time": "2021-11-05T15:32:35.209122Z"
    }
   },
   "outputs": [],
   "source": [
    "#Relicating nan values\n",
    "df_nan = df.copy()"
   ]
  },
  {
   "cell_type": "code",
   "execution_count": 9,
   "metadata": {
    "ExecuteTime": {
     "end_time": "2021-11-05T15:32:38.241763Z",
     "start_time": "2021-11-05T15:32:38.210973Z"
    }
   },
   "outputs": [
    {
     "data": {
      "text/html": [
       "<div>\n",
       "<style scoped>\n",
       "    .dataframe tbody tr th:only-of-type {\n",
       "        vertical-align: middle;\n",
       "    }\n",
       "\n",
       "    .dataframe tbody tr th {\n",
       "        vertical-align: top;\n",
       "    }\n",
       "\n",
       "    .dataframe thead th {\n",
       "        text-align: right;\n",
       "    }\n",
       "</style>\n",
       "<table border=\"1\" class=\"dataframe\">\n",
       "  <thead>\n",
       "    <tr style=\"text-align: right;\">\n",
       "      <th></th>\n",
       "      <th>0</th>\n",
       "      <th>1</th>\n",
       "      <th>2</th>\n",
       "      <th>3</th>\n",
       "      <th>4</th>\n",
       "      <th>5</th>\n",
       "      <th>6</th>\n",
       "      <th>7</th>\n",
       "      <th>8</th>\n",
       "    </tr>\n",
       "  </thead>\n",
       "  <tbody>\n",
       "    <tr>\n",
       "      <th>count</th>\n",
       "      <td>657.000000</td>\n",
       "      <td>763.000000</td>\n",
       "      <td>733.000000</td>\n",
       "      <td>541.000000</td>\n",
       "      <td>394.000000</td>\n",
       "      <td>768.000000</td>\n",
       "      <td>768.000000</td>\n",
       "      <td>768.000000</td>\n",
       "      <td>768.000000</td>\n",
       "    </tr>\n",
       "    <tr>\n",
       "      <th>mean</th>\n",
       "      <td>4.494673</td>\n",
       "      <td>121.686763</td>\n",
       "      <td>72.405184</td>\n",
       "      <td>29.153420</td>\n",
       "      <td>155.548223</td>\n",
       "      <td>31.992578</td>\n",
       "      <td>0.471876</td>\n",
       "      <td>33.240885</td>\n",
       "      <td>0.348958</td>\n",
       "    </tr>\n",
       "    <tr>\n",
       "      <th>std</th>\n",
       "      <td>3.217291</td>\n",
       "      <td>30.535641</td>\n",
       "      <td>12.382158</td>\n",
       "      <td>10.476982</td>\n",
       "      <td>118.775855</td>\n",
       "      <td>7.884160</td>\n",
       "      <td>0.331329</td>\n",
       "      <td>11.760232</td>\n",
       "      <td>0.476951</td>\n",
       "    </tr>\n",
       "    <tr>\n",
       "      <th>min</th>\n",
       "      <td>1.000000</td>\n",
       "      <td>44.000000</td>\n",
       "      <td>24.000000</td>\n",
       "      <td>7.000000</td>\n",
       "      <td>14.000000</td>\n",
       "      <td>0.000000</td>\n",
       "      <td>0.078000</td>\n",
       "      <td>21.000000</td>\n",
       "      <td>0.000000</td>\n",
       "    </tr>\n",
       "    <tr>\n",
       "      <th>25%</th>\n",
       "      <td>2.000000</td>\n",
       "      <td>99.000000</td>\n",
       "      <td>64.000000</td>\n",
       "      <td>22.000000</td>\n",
       "      <td>76.250000</td>\n",
       "      <td>27.300000</td>\n",
       "      <td>0.243750</td>\n",
       "      <td>24.000000</td>\n",
       "      <td>0.000000</td>\n",
       "    </tr>\n",
       "    <tr>\n",
       "      <th>50%</th>\n",
       "      <td>4.000000</td>\n",
       "      <td>117.000000</td>\n",
       "      <td>72.000000</td>\n",
       "      <td>29.000000</td>\n",
       "      <td>125.000000</td>\n",
       "      <td>32.000000</td>\n",
       "      <td>0.372500</td>\n",
       "      <td>29.000000</td>\n",
       "      <td>0.000000</td>\n",
       "    </tr>\n",
       "    <tr>\n",
       "      <th>75%</th>\n",
       "      <td>7.000000</td>\n",
       "      <td>141.000000</td>\n",
       "      <td>80.000000</td>\n",
       "      <td>36.000000</td>\n",
       "      <td>190.000000</td>\n",
       "      <td>36.600000</td>\n",
       "      <td>0.626250</td>\n",
       "      <td>41.000000</td>\n",
       "      <td>1.000000</td>\n",
       "    </tr>\n",
       "    <tr>\n",
       "      <th>max</th>\n",
       "      <td>17.000000</td>\n",
       "      <td>199.000000</td>\n",
       "      <td>122.000000</td>\n",
       "      <td>99.000000</td>\n",
       "      <td>846.000000</td>\n",
       "      <td>67.100000</td>\n",
       "      <td>2.420000</td>\n",
       "      <td>81.000000</td>\n",
       "      <td>1.000000</td>\n",
       "    </tr>\n",
       "  </tbody>\n",
       "</table>\n",
       "</div>"
      ],
      "text/plain": [
       "                0           1           2           3           4           5  \\\n",
       "count  657.000000  763.000000  733.000000  541.000000  394.000000  768.000000   \n",
       "mean     4.494673  121.686763   72.405184   29.153420  155.548223   31.992578   \n",
       "std      3.217291   30.535641   12.382158   10.476982  118.775855    7.884160   \n",
       "min      1.000000   44.000000   24.000000    7.000000   14.000000    0.000000   \n",
       "25%      2.000000   99.000000   64.000000   22.000000   76.250000   27.300000   \n",
       "50%      4.000000  117.000000   72.000000   29.000000  125.000000   32.000000   \n",
       "75%      7.000000  141.000000   80.000000   36.000000  190.000000   36.600000   \n",
       "max     17.000000  199.000000  122.000000   99.000000  846.000000   67.100000   \n",
       "\n",
       "                6           7           8  \n",
       "count  768.000000  768.000000  768.000000  \n",
       "mean     0.471876   33.240885    0.348958  \n",
       "std      0.331329   11.760232    0.476951  \n",
       "min      0.078000   21.000000    0.000000  \n",
       "25%      0.243750   24.000000    0.000000  \n",
       "50%      0.372500   29.000000    0.000000  \n",
       "75%      0.626250   41.000000    1.000000  \n",
       "max      2.420000   81.000000    1.000000  "
      ]
     },
     "execution_count": 9,
     "metadata": {},
     "output_type": "execute_result"
    }
   ],
   "source": [
    "nan = np.nan\n",
    "df_nan[[0,1,2,3,4]] = df_nan[[0,1,2,3,4]].replace(0, np.nan)\n",
    "df_nan.describe()"
   ]
  },
  {
   "cell_type": "code",
   "execution_count": 10,
   "metadata": {
    "ExecuteTime": {
     "end_time": "2021-11-05T15:32:41.792256Z",
     "start_time": "2021-11-05T15:32:41.789229Z"
    }
   },
   "outputs": [],
   "source": [
    "#Splitting data into features and label\n",
    "X_data_nan = df_nan.iloc[:,0:8]\n",
    "y_data_nan = df_nan[8]"
   ]
  },
  {
   "cell_type": "markdown",
   "metadata": {},
   "source": [
    "Running the model with the missing data naturally resulted in errors. We now use some data imputation to replace the missing data."
   ]
  },
  {
   "cell_type": "code",
   "execution_count": 11,
   "metadata": {
    "ExecuteTime": {
     "end_time": "2021-11-05T15:32:42.910029Z",
     "start_time": "2021-11-05T15:32:42.879759Z"
    }
   },
   "outputs": [],
   "source": [
    "#Imputing data using KNN\n",
    "imputer = KNNImputer(n_neighbors=4, weights=\"uniform\")\n",
    "X_data_nan = imputer.fit_transform(X_data_nan)"
   ]
  },
  {
   "cell_type": "code",
   "execution_count": 12,
   "metadata": {
    "ExecuteTime": {
     "end_time": "2021-11-05T15:32:43.887225Z",
     "start_time": "2021-11-05T15:32:43.883227Z"
    }
   },
   "outputs": [
    {
     "data": {
      "text/plain": [
       "array([[  6.   , 148.   ,  72.   , ...,  33.6  ,   0.627,  50.   ],\n",
       "       [  1.   ,  85.   ,  66.   , ...,  26.6  ,   0.351,  31.   ],\n",
       "       [  8.   , 183.   ,  64.   , ...,  23.3  ,   0.672,  32.   ],\n",
       "       ...,\n",
       "       [  5.   , 121.   ,  72.   , ...,  26.2  ,   0.245,  30.   ],\n",
       "       [  1.   , 126.   ,  60.   , ...,  30.1  ,   0.349,  47.   ],\n",
       "       [  1.   ,  93.   ,  70.   , ...,  30.4  ,   0.315,  23.   ]])"
      ]
     },
     "execution_count": 12,
     "metadata": {},
     "output_type": "execute_result"
    }
   ],
   "source": [
    "X_data_nan"
   ]
  },
  {
   "cell_type": "code",
   "execution_count": 13,
   "metadata": {
    "ExecuteTime": {
     "end_time": "2021-11-05T15:36:44.139922Z",
     "start_time": "2021-11-05T15:36:44.135346Z"
    }
   },
   "outputs": [],
   "source": [
    "#Splitting data into training+validation and test\n",
    "X_trainval_nan, X_test_nan, y_trainval_nan, y_test_nan = train_test_split(X_data_nan, y_data_nan, random_state=10)\n",
    "\n",
    "#Splitting train+validation set into training and validation sets\n",
    "X_train_nan, X_valid_nan, y_train_nan, y_valid_nan = train_test_split(X_trainval_nan, y_trainval_nan, random_state=10)"
   ]
  },
  {
   "cell_type": "code",
   "execution_count": 14,
   "metadata": {
    "ExecuteTime": {
     "end_time": "2021-11-05T15:36:45.246212Z",
     "start_time": "2021-11-05T15:36:45.209682Z"
    }
   },
   "outputs": [
    {
     "name": "stdout",
     "output_type": "stream",
     "text": [
      "Validation score: 0.77\n"
     ]
    }
   ],
   "source": [
    "#Running Logistic Regression\n",
    "model_train_nan = LogisticRegression(max_iter=10000, random_state=10).fit(X_train_nan, y_train_nan)\n",
    "#Scoring and printing the model using the validation data\n",
    "val_score_nan = model_train_nan.score(X_valid_nan, y_valid_nan)\n",
    "print(\"Validation score: {:.2f}\".format(val_score_nan))"
   ]
  },
  {
   "cell_type": "code",
   "execution_count": 15,
   "metadata": {
    "ExecuteTime": {
     "end_time": "2021-11-05T15:36:47.556718Z",
     "start_time": "2021-11-05T15:36:47.517476Z"
    }
   },
   "outputs": [
    {
     "name": "stdout",
     "output_type": "stream",
     "text": [
      "Test score: 0.76\n"
     ]
    }
   ],
   "source": [
    "#Building the model on training+validation set using the pipeline\n",
    "model_trainval_nan = model_train.fit(X_trainval_nan,y_trainval_nan)\n",
    "\n",
    "#Scoring the model using the test data\n",
    "test_score_nan = model_trainval.score(X_test_nan, y_test_nan)\n",
    "print(\"Test score: {:.2f}\".format(test_score_nan))"
   ]
  },
  {
   "cell_type": "markdown",
   "metadata": {},
   "source": [
    "The model with the imputed data usinf KNN imputer(n_neighbors=4) resulted in a slightly lower validation score (0.77 versus 0.78) but had better Test score (0.76 versus 0.73)."
   ]
  },
  {
   "cell_type": "markdown",
   "metadata": {},
   "source": [
    "## Hands-on 2\n",
    "\n",
    "Walk throught the Keras example with colab  \n",
    "https://keras.io/examples/timeseries/timeseries_anomaly_detection/  \n",
    "Click on the 'view in colab' and walk it through"
   ]
  },
  {
   "cell_type": "code",
   "execution_count": null,
   "metadata": {},
   "outputs": [],
   "source": []
  },
  {
   "cell_type": "markdown",
   "metadata": {},
   "source": [
    "## Hands-on 3\n",
    "1. Use the get_dataset() function defined before to generate data  \n",
    "2. Use an outlier detection method mentioned before to manually find outliers  \n",
    "3. Rule out the outliers  \n",
    "4. fit a linear regression  \n",
    "5. plot results  "
   ]
  },
  {
   "cell_type": "code",
   "execution_count": 16,
   "metadata": {
    "ExecuteTime": {
     "end_time": "2021-11-05T15:39:34.034838Z",
     "start_time": "2021-11-05T15:39:33.949489Z"
    }
   },
   "outputs": [],
   "source": [
    "from random import random\n",
    "from random import randint\n",
    "from random import seed\n",
    "from numpy import arange\n",
    "from numpy import mean\n",
    "from numpy import std\n",
    "from numpy import absolute\n",
    "from sklearn.datasets import make_regression\n",
    "from sklearn.linear_model import LinearRegression\n",
    "from sklearn.model_selection import cross_val_score\n",
    "from sklearn.model_selection import RepeatedKFold\n",
    "from matplotlib import pyplot\n",
    " \n",
    "#Preparing the dataset\n",
    "def get_dataset():\n",
    "    X, y = make_regression(n_samples=200, n_features=1, tail_strength=0.9, effective_rank=1, n_informative=1, noise=3, bias=50, random_state=11)\n",
    "    # add some artificial outliers\n",
    "    seed(1)\n",
    "    for i in range(10):\n",
    "        factor = randint(2, 4)\n",
    "        if random() > 0.5:\n",
    "            X[i] += factor * X.std()\n",
    "        else:\n",
    "            X[i] -= factor * X.std()\n",
    "    return X, y"
   ]
  },
  {
   "cell_type": "code",
   "execution_count": 17,
   "metadata": {
    "ExecuteTime": {
     "end_time": "2021-11-05T15:39:35.317049Z",
     "start_time": "2021-11-05T15:39:35.197138Z"
    }
   },
   "outputs": [
    {
     "name": "stdout",
     "output_type": "stream",
     "text": [
      "(200, 1) (200,)\n"
     ]
    },
    {
     "data": {
      "image/png": "[encoded data removed]",
      "text/plain": [
       "<Figure size 432x288 with 1 Axes>"
      ]
     },
     "metadata": {
      "needs_background": "light"
     },
     "output_type": "display_data"
    }
   ],
   "source": [
    "# load dataset\n",
    "X, y = get_dataset()\n",
    "# summarize shape\n",
    "print(X.shape, y.shape)\n",
    "# scatter plot of input vs output\n",
    "pyplot.scatter(X, y)\n",
    "pyplot.show()"
   ]
  },
  {
   "cell_type": "code",
   "execution_count": 18,
   "metadata": {
    "ExecuteTime": {
     "end_time": "2021-11-05T15:39:38.013962Z",
     "start_time": "2021-11-05T15:39:38.009543Z"
    }
   },
   "outputs": [],
   "source": [
    "# evaluate a model\n",
    "def evaluate_model(X, y, model):\n",
    "    # define model evaluation method\n",
    "    cv = RepeatedKFold(n_splits=10, n_repeats=3, random_state=1)\n",
    "    # evaluate model\n",
    "    scores = cross_val_score(model, X, y, scoring='neg_mean_absolute_error', cv=cv, n_jobs=-1)\n",
    "    # force scores to be positive\n",
    "    return absolute(scores)\n",
    " \n",
    "# plot the dataset and the model's line of best fit\n",
    "def plot_best_fit(X, y, model):\n",
    "    # fut the model on all data\n",
    "    model.fit(X, y)\n",
    "    # plot the dataset\n",
    "    pyplot.scatter(X, y)\n",
    "    # plot the line of best fit\n",
    "    xaxis = arange(X.min(), X.max(), 0.01)\n",
    "    yaxis = model.predict(xaxis.reshape((len(xaxis), 1)))\n",
    "    pyplot.plot(xaxis, yaxis, color='r')\n",
    "    # show the plot\n",
    "    pyplot.title(type(model).__name__)\n",
    "    pyplot.show()"
   ]
  },
  {
   "cell_type": "markdown",
   "metadata": {},
   "source": [
    "## Fitting a linear model on baseline data (with outlier data)"
   ]
  },
  {
   "cell_type": "code",
   "execution_count": 19,
   "metadata": {
    "ExecuteTime": {
     "end_time": "2021-11-05T15:39:52.370738Z",
     "start_time": "2021-11-05T15:39:49.723486Z"
    }
   },
   "outputs": [
    {
     "name": "stdout",
     "output_type": "stream",
     "text": [
      "Mean MAE: 2.783 (0.499)\n"
     ]
    },
    {
     "data": {
      "image/png": "[encoded data removed]",
      "text/plain": [
       "<Figure size 432x288 with 1 Axes>"
      ]
     },
     "metadata": {
      "needs_background": "light"
     },
     "output_type": "display_data"
    }
   ],
   "source": [
    "from sklearn.linear_model import HuberRegressor\n",
    "# define the model\n",
    "model = HuberRegressor()\n",
    "# evaluate model\n",
    "results = evaluate_model(X, y, model)\n",
    "print('Mean MAE: %.3f (%.3f)' % (mean(results), std(results)))\n",
    "# plot the line of best fit\n",
    "plot_best_fit(X, y, model)"
   ]
  },
  {
   "cell_type": "markdown",
   "metadata": {},
   "source": [
    "## Rulling out the outliers"
   ]
  },
  {
   "cell_type": "code",
   "execution_count": 20,
   "metadata": {
    "ExecuteTime": {
     "end_time": "2021-11-05T15:39:57.999532Z",
     "start_time": "2021-11-05T15:39:57.996943Z"
    }
   },
   "outputs": [],
   "source": [
    "from sklearn.neighbors import LocalOutlierFactor\n",
    "from numpy import quantile, where, random"
   ]
  },
  {
   "cell_type": "code",
   "execution_count": 21,
   "metadata": {
    "ExecuteTime": {
     "end_time": "2021-11-05T15:40:00.449350Z",
     "start_time": "2021-11-05T15:40:00.446924Z"
    }
   },
   "outputs": [],
   "source": [
    "X_data = X.copy()\n",
    "y_data = y.copy()"
   ]
  },
  {
   "cell_type": "code",
   "execution_count": 22,
   "metadata": {
    "ExecuteTime": {
     "end_time": "2021-11-05T15:40:03.131909Z",
     "start_time": "2021-11-05T15:40:03.127036Z"
    }
   },
   "outputs": [],
   "source": [
    "lof = LocalOutlierFactor(n_neighbors=20, contamination=.03)\n",
    "y_pred = lof.fit_predict(X_data)"
   ]
  },
  {
   "cell_type": "code",
   "execution_count": 23,
   "metadata": {
    "ExecuteTime": {
     "end_time": "2021-11-05T15:40:04.818266Z",
     "start_time": "2021-11-05T15:40:04.813412Z"
    }
   },
   "outputs": [
    {
     "data": {
      "text/plain": [
       "(array([  1,   2,   4,   6,   8, 156]),)"
      ]
     },
     "execution_count": 23,
     "metadata": {},
     "output_type": "execute_result"
    }
   ],
   "source": [
    "lofs_index = where(y_pred==-1)\n",
    "lofs_index"
   ]
  },
  {
   "cell_type": "code",
   "execution_count": 24,
   "metadata": {
    "ExecuteTime": {
     "end_time": "2021-11-05T15:40:11.660110Z",
     "start_time": "2021-11-05T15:40:11.657184Z"
    }
   },
   "outputs": [],
   "source": [
    "#Dropping the outliers from the data\n",
    "X_clean = np.delete(X,[1,2,4,6,8,156])\n",
    "y_clean = np.delete(y,[1,2,4,6,8,156])"
   ]
  },
  {
   "cell_type": "code",
   "execution_count": 25,
   "metadata": {
    "ExecuteTime": {
     "end_time": "2021-11-05T15:40:15.581625Z",
     "start_time": "2021-11-05T15:40:15.579028Z"
    }
   },
   "outputs": [],
   "source": [
    "X_clean = X_clean.reshape(-1,1)"
   ]
  },
  {
   "cell_type": "markdown",
   "metadata": {},
   "source": [
    "## Fitting a linear model on cleaned data (without outlier)"
   ]
  },
  {
   "cell_type": "code",
   "execution_count": 28,
   "metadata": {
    "ExecuteTime": {
     "end_time": "2021-11-05T15:42:16.572309Z",
     "start_time": "2021-11-05T15:42:15.593424Z"
    }
   },
   "outputs": [
    {
     "name": "stdout",
     "output_type": "stream",
     "text": [
      "Mean MAE: 2.658 (0.529)\n"
     ]
    },
    {
     "data": {
      "image/png": "[encoded data removed]",
      "text/plain": [
       "<Figure size 432x288 with 1 Axes>"
      ]
     },
     "metadata": {
      "needs_background": "light"
     },
     "output_type": "display_data"
    }
   ],
   "source": [
    "#model_clean = HuberRegressor()\n",
    "# evaluate model\n",
    "results_clean = evaluate_model(X_clean, y_clean, model)\n",
    "print('Mean MAE: %.3f (%.3f)' % (mean(results_clean), std(results_clean)))\n",
    "# plot the line of best fit\n",
    "plot_best_fit(X_clean, y_clean, model)"
   ]
  },
  {
   "cell_type": "code",
   "execution_count": null,
   "metadata": {},
   "outputs": [],
   "source": []
  }
 ],
 "metadata": {
  "hide_input": false,
  "kernelspec": {
   "display_name": "Python 3 (ipykernel)",
   "language": "python",
   "name": "python3"
  },
  "language_info": {
   "codemirror_mode": {
    "name": "ipython",
    "version": 3
   },
   "file_extension": ".py",
   "mimetype": "text/x-python",
   "name": "python",
   "nbconvert_exporter": "python",
   "pygments_lexer": "ipython3",
   "version": "3.7.8"
  }
 },
 "nbformat": 4,
 "nbformat_minor": 4
}
