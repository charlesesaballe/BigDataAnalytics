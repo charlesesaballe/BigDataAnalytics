{
 "cells": [
  {
   "cell_type": "markdown",
   "metadata": {},
   "source": [
    "# Assignment1\n",
    "\n",
    "Remember -> submission using itslearning, both notebook and github repo *deadline on 22.11.2021*"
   ]
  },
  {
   "cell_type": "markdown",
   "metadata": {
    "heading_collapsed": true
   },
   "source": [
    "### Updating environment"
   ]
  },
  {
   "cell_type": "code",
   "execution_count": null,
   "metadata": {
    "hidden": true
   },
   "outputs": [],
   "source": [
    "#updating and restarting sklearn\n",
    "!pip install --upgrade scikit-learn --quiet"
   ]
  },
  {
   "cell_type": "code",
   "execution_count": null,
   "metadata": {
    "hidden": true
   },
   "outputs": [],
   "source": [
    "import sklearn\n",
    "sklearn.__version__"
   ]
  },
  {
   "cell_type": "code",
   "execution_count": null,
   "metadata": {
    "hidden": true
   },
   "outputs": [],
   "source": [
    "# First upgrade the environment.\n",
    "import pip\n",
    "from subprocess import run\n",
    "# add what you will need\n",
    "modules =[\n",
    "    'xlrd',\n",
    "    'matplotlib', \n",
    "    'numpy',\n",
    "    'sklearn',\n",
    "    'pandas',\n",
    "    'zipfile36'\n",
    "]\n",
    "proc = run(f'pip install {\" \".join(modules)} --upgrade --no-input', \n",
    "       shell=True, \n",
    "       text=True, \n",
    "       capture_output=True, \n",
    "       timeout=120) #a couple of minutes\n",
    "print(proc.stderr)"
   ]
  },
  {
   "cell_type": "markdown",
   "metadata": {},
   "source": [
    "## Collecting and importing needed libraries"
   ]
  },
  {
   "cell_type": "code",
   "execution_count": 1,
   "metadata": {
    "ExecuteTime": {
     "end_time": "2021-10-22T06:04:56.097318Z",
     "start_time": "2021-10-22T06:04:54.328984Z"
    }
   },
   "outputs": [],
   "source": [
    "#Importing needed libraries\n",
    "import zipfile\n",
    "import pandas as pd\n",
    "import numpy as np\n",
    "from pandas import set_option\n",
    "\n",
    "from sklearn.model_selection import train_test_split\n",
    "from sklearn.preprocessing import StandardScaler, MinMaxScaler\n",
    "from sklearn.linear_model import LinearRegression, Ridge, LogisticRegression, Lasso, ElasticNet\n",
    "from sklearn.svm import LinearSVC, SVC\n",
    "from sklearn.tree import DecisionTreeClassifier, export_graphviz\n",
    "from sklearn.ensemble import RandomForestClassifier, GradientBoostingClassifier\n",
    "from sklearn.metrics import confusion_matrix, accuracy_score, f1_score\n",
    "from sklearn.neighbors import KNeighborsClassifier\n",
    "from sklearn.naive_bayes import GaussianNB\n",
    "\n",
    "import matplotlib.pyplot as plt\n",
    "import seaborn as sns\n",
    "\n",
    "import warnings\n",
    "warnings.filterwarnings(\"ignore\", category=DeprecationWarning) \n",
    "warnings.filterwarnings(\"ignore\", category=FutureWarning)"
   ]
  },
  {
   "cell_type": "markdown",
   "metadata": {
    "ExecuteTime": {
     "end_time": "2021-10-18T03:22:02.783192Z",
     "start_time": "2021-10-18T03:22:02.778846Z"
    }
   },
   "source": [
    "# Task 1 (3 points):\n",
    "\n",
    "Regression $\\to$ Superconductivity Data Set\n",
    "\n",
    "The goal here is to predict the critical temperature based on the features extracted.\n",
    "\n",
    "https://archive.ics.uci.edu/ml/datasets/Superconductivty+Data\n",
    "\n",
    "* Fit two regression models to predict the critical temperature. Report the score with the default parameters of each model.\n",
    "* Perform a simple manual optimization for one of the default parameters (at least 5 different values) and plot the new obtained score as a function of the chosen parameter. Plot the coefficient magnitudes for the best model. "
   ]
  },
  {
   "cell_type": "markdown",
   "metadata": {},
   "source": [
    "## Reading and loading data and creating the functions to be used to run models"
   ]
  },
  {
   "cell_type": "code",
   "execution_count": 2,
   "metadata": {
    "ExecuteTime": {
     "end_time": "2021-10-22T06:05:02.500486Z",
     "start_time": "2021-10-22T06:04:59.368830Z"
    }
   },
   "outputs": [],
   "source": [
    "#Reading and loading the data set for Task 1\n",
    "import zipfile, requests, io\n",
    "url = 'https://archive.ics.uci.edu/ml/machine-learning-databases/00464/superconduct.zip'\n",
    "file_name = 'train.csv'\n",
    "data = pd.read_csv(zipfile.ZipFile(io.BytesIO(requests.get(url, stream=True).content)).open(file_name))"
   ]
  },
  {
   "cell_type": "code",
   "execution_count": 3,
   "metadata": {
    "ExecuteTime": {
     "end_time": "2021-10-22T06:05:04.672358Z",
     "start_time": "2021-10-22T06:05:04.477128Z"
    }
   },
   "outputs": [
    {
     "data": {
      "text/html": [
       "<div>\n",
       "<style scoped>\n",
       "    .dataframe tbody tr th:only-of-type {\n",
       "        vertical-align: middle;\n",
       "    }\n",
       "\n",
       "    .dataframe tbody tr th {\n",
       "        vertical-align: top;\n",
       "    }\n",
       "\n",
       "    .dataframe thead th {\n",
       "        text-align: right;\n",
       "    }\n",
       "</style>\n",
       "<table border=\"1\" class=\"dataframe\">\n",
       "  <thead>\n",
       "    <tr style=\"text-align: right;\">\n",
       "      <th></th>\n",
       "      <th>number_of_elements</th>\n",
       "      <th>mean_atomic_mass</th>\n",
       "      <th>wtd_mean_atomic_mass</th>\n",
       "      <th>gmean_atomic_mass</th>\n",
       "      <th>wtd_gmean_atomic_mass</th>\n",
       "      <th>entropy_atomic_mass</th>\n",
       "      <th>wtd_entropy_atomic_mass</th>\n",
       "      <th>range_atomic_mass</th>\n",
       "      <th>wtd_range_atomic_mass</th>\n",
       "      <th>std_atomic_mass</th>\n",
       "      <th>...</th>\n",
       "      <th>wtd_mean_Valence</th>\n",
       "      <th>gmean_Valence</th>\n",
       "      <th>wtd_gmean_Valence</th>\n",
       "      <th>entropy_Valence</th>\n",
       "      <th>wtd_entropy_Valence</th>\n",
       "      <th>range_Valence</th>\n",
       "      <th>wtd_range_Valence</th>\n",
       "      <th>std_Valence</th>\n",
       "      <th>wtd_std_Valence</th>\n",
       "      <th>critical_temp</th>\n",
       "    </tr>\n",
       "  </thead>\n",
       "  <tbody>\n",
       "    <tr>\n",
       "      <th>count</th>\n",
       "      <td>21263.00</td>\n",
       "      <td>21263.00</td>\n",
       "      <td>21263.00</td>\n",
       "      <td>21263.00</td>\n",
       "      <td>21263.00</td>\n",
       "      <td>21263.00</td>\n",
       "      <td>21263.00</td>\n",
       "      <td>21263.00</td>\n",
       "      <td>21263.00</td>\n",
       "      <td>21263.00</td>\n",
       "      <td>...</td>\n",
       "      <td>21263.00</td>\n",
       "      <td>21263.00</td>\n",
       "      <td>21263.00</td>\n",
       "      <td>21263.00</td>\n",
       "      <td>21263.00</td>\n",
       "      <td>21263.00</td>\n",
       "      <td>21263.00</td>\n",
       "      <td>21263.00</td>\n",
       "      <td>21263.00</td>\n",
       "      <td>2.13e+04</td>\n",
       "    </tr>\n",
       "    <tr>\n",
       "      <th>mean</th>\n",
       "      <td>4.12</td>\n",
       "      <td>87.56</td>\n",
       "      <td>72.99</td>\n",
       "      <td>71.29</td>\n",
       "      <td>58.54</td>\n",
       "      <td>1.17</td>\n",
       "      <td>1.06</td>\n",
       "      <td>115.60</td>\n",
       "      <td>33.23</td>\n",
       "      <td>44.39</td>\n",
       "      <td>...</td>\n",
       "      <td>3.15</td>\n",
       "      <td>3.06</td>\n",
       "      <td>3.06</td>\n",
       "      <td>1.30</td>\n",
       "      <td>1.05</td>\n",
       "      <td>2.04</td>\n",
       "      <td>1.48</td>\n",
       "      <td>0.84</td>\n",
       "      <td>0.67</td>\n",
       "      <td>3.44e+01</td>\n",
       "    </tr>\n",
       "    <tr>\n",
       "      <th>std</th>\n",
       "      <td>1.44</td>\n",
       "      <td>29.68</td>\n",
       "      <td>33.49</td>\n",
       "      <td>31.03</td>\n",
       "      <td>36.65</td>\n",
       "      <td>0.36</td>\n",
       "      <td>0.40</td>\n",
       "      <td>54.63</td>\n",
       "      <td>26.97</td>\n",
       "      <td>20.04</td>\n",
       "      <td>...</td>\n",
       "      <td>1.19</td>\n",
       "      <td>1.05</td>\n",
       "      <td>1.17</td>\n",
       "      <td>0.39</td>\n",
       "      <td>0.38</td>\n",
       "      <td>1.24</td>\n",
       "      <td>0.98</td>\n",
       "      <td>0.48</td>\n",
       "      <td>0.46</td>\n",
       "      <td>3.43e+01</td>\n",
       "    </tr>\n",
       "    <tr>\n",
       "      <th>min</th>\n",
       "      <td>1.00</td>\n",
       "      <td>6.94</td>\n",
       "      <td>6.42</td>\n",
       "      <td>5.32</td>\n",
       "      <td>1.96</td>\n",
       "      <td>0.00</td>\n",
       "      <td>0.00</td>\n",
       "      <td>0.00</td>\n",
       "      <td>0.00</td>\n",
       "      <td>0.00</td>\n",
       "      <td>...</td>\n",
       "      <td>1.00</td>\n",
       "      <td>1.00</td>\n",
       "      <td>1.00</td>\n",
       "      <td>0.00</td>\n",
       "      <td>0.00</td>\n",
       "      <td>0.00</td>\n",
       "      <td>0.00</td>\n",
       "      <td>0.00</td>\n",
       "      <td>0.00</td>\n",
       "      <td>2.10e-04</td>\n",
       "    </tr>\n",
       "    <tr>\n",
       "      <th>25%</th>\n",
       "      <td>3.00</td>\n",
       "      <td>72.46</td>\n",
       "      <td>52.14</td>\n",
       "      <td>58.04</td>\n",
       "      <td>35.25</td>\n",
       "      <td>0.97</td>\n",
       "      <td>0.78</td>\n",
       "      <td>78.51</td>\n",
       "      <td>16.82</td>\n",
       "      <td>32.89</td>\n",
       "      <td>...</td>\n",
       "      <td>2.12</td>\n",
       "      <td>2.28</td>\n",
       "      <td>2.09</td>\n",
       "      <td>1.06</td>\n",
       "      <td>0.78</td>\n",
       "      <td>1.00</td>\n",
       "      <td>0.92</td>\n",
       "      <td>0.45</td>\n",
       "      <td>0.31</td>\n",
       "      <td>5.37e+00</td>\n",
       "    </tr>\n",
       "    <tr>\n",
       "      <th>50%</th>\n",
       "      <td>4.00</td>\n",
       "      <td>84.92</td>\n",
       "      <td>60.70</td>\n",
       "      <td>66.36</td>\n",
       "      <td>39.92</td>\n",
       "      <td>1.20</td>\n",
       "      <td>1.15</td>\n",
       "      <td>122.91</td>\n",
       "      <td>26.64</td>\n",
       "      <td>45.12</td>\n",
       "      <td>...</td>\n",
       "      <td>2.62</td>\n",
       "      <td>2.62</td>\n",
       "      <td>2.43</td>\n",
       "      <td>1.37</td>\n",
       "      <td>1.17</td>\n",
       "      <td>2.00</td>\n",
       "      <td>1.06</td>\n",
       "      <td>0.80</td>\n",
       "      <td>0.50</td>\n",
       "      <td>2.00e+01</td>\n",
       "    </tr>\n",
       "    <tr>\n",
       "      <th>75%</th>\n",
       "      <td>5.00</td>\n",
       "      <td>100.40</td>\n",
       "      <td>86.10</td>\n",
       "      <td>78.12</td>\n",
       "      <td>73.11</td>\n",
       "      <td>1.44</td>\n",
       "      <td>1.36</td>\n",
       "      <td>154.12</td>\n",
       "      <td>38.36</td>\n",
       "      <td>59.32</td>\n",
       "      <td>...</td>\n",
       "      <td>4.03</td>\n",
       "      <td>3.73</td>\n",
       "      <td>3.91</td>\n",
       "      <td>1.59</td>\n",
       "      <td>1.33</td>\n",
       "      <td>3.00</td>\n",
       "      <td>1.92</td>\n",
       "      <td>1.20</td>\n",
       "      <td>1.02</td>\n",
       "      <td>6.30e+01</td>\n",
       "    </tr>\n",
       "    <tr>\n",
       "      <th>max</th>\n",
       "      <td>9.00</td>\n",
       "      <td>208.98</td>\n",
       "      <td>208.98</td>\n",
       "      <td>208.98</td>\n",
       "      <td>208.98</td>\n",
       "      <td>1.98</td>\n",
       "      <td>1.96</td>\n",
       "      <td>207.97</td>\n",
       "      <td>205.59</td>\n",
       "      <td>101.02</td>\n",
       "      <td>...</td>\n",
       "      <td>7.00</td>\n",
       "      <td>7.00</td>\n",
       "      <td>7.00</td>\n",
       "      <td>2.14</td>\n",
       "      <td>1.95</td>\n",
       "      <td>6.00</td>\n",
       "      <td>6.99</td>\n",
       "      <td>3.00</td>\n",
       "      <td>3.00</td>\n",
       "      <td>1.85e+02</td>\n",
       "    </tr>\n",
       "  </tbody>\n",
       "</table>\n",
       "<p>8 rows × 82 columns</p>\n",
       "</div>"
      ],
      "text/plain": [
       "       number_of_elements  mean_atomic_mass  wtd_mean_atomic_mass  \\\n",
       "count            21263.00          21263.00              21263.00   \n",
       "mean                 4.12             87.56                 72.99   \n",
       "std                  1.44             29.68                 33.49   \n",
       "min                  1.00              6.94                  6.42   \n",
       "25%                  3.00             72.46                 52.14   \n",
       "50%                  4.00             84.92                 60.70   \n",
       "75%                  5.00            100.40                 86.10   \n",
       "max                  9.00            208.98                208.98   \n",
       "\n",
       "       gmean_atomic_mass  wtd_gmean_atomic_mass  entropy_atomic_mass  \\\n",
       "count           21263.00               21263.00             21263.00   \n",
       "mean               71.29                  58.54                 1.17   \n",
       "std                31.03                  36.65                 0.36   \n",
       "min                 5.32                   1.96                 0.00   \n",
       "25%                58.04                  35.25                 0.97   \n",
       "50%                66.36                  39.92                 1.20   \n",
       "75%                78.12                  73.11                 1.44   \n",
       "max               208.98                 208.98                 1.98   \n",
       "\n",
       "       wtd_entropy_atomic_mass  range_atomic_mass  wtd_range_atomic_mass  \\\n",
       "count                 21263.00           21263.00               21263.00   \n",
       "mean                      1.06             115.60                  33.23   \n",
       "std                       0.40              54.63                  26.97   \n",
       "min                       0.00               0.00                   0.00   \n",
       "25%                       0.78              78.51                  16.82   \n",
       "50%                       1.15             122.91                  26.64   \n",
       "75%                       1.36             154.12                  38.36   \n",
       "max                       1.96             207.97                 205.59   \n",
       "\n",
       "       std_atomic_mass  ...  wtd_mean_Valence  gmean_Valence  \\\n",
       "count         21263.00  ...          21263.00       21263.00   \n",
       "mean             44.39  ...              3.15           3.06   \n",
       "std              20.04  ...              1.19           1.05   \n",
       "min               0.00  ...              1.00           1.00   \n",
       "25%              32.89  ...              2.12           2.28   \n",
       "50%              45.12  ...              2.62           2.62   \n",
       "75%              59.32  ...              4.03           3.73   \n",
       "max             101.02  ...              7.00           7.00   \n",
       "\n",
       "       wtd_gmean_Valence  entropy_Valence  wtd_entropy_Valence  range_Valence  \\\n",
       "count           21263.00         21263.00             21263.00       21263.00   \n",
       "mean                3.06             1.30                 1.05           2.04   \n",
       "std                 1.17             0.39                 0.38           1.24   \n",
       "min                 1.00             0.00                 0.00           0.00   \n",
       "25%                 2.09             1.06                 0.78           1.00   \n",
       "50%                 2.43             1.37                 1.17           2.00   \n",
       "75%                 3.91             1.59                 1.33           3.00   \n",
       "max                 7.00             2.14                 1.95           6.00   \n",
       "\n",
       "       wtd_range_Valence  std_Valence  wtd_std_Valence  critical_temp  \n",
       "count           21263.00     21263.00         21263.00       2.13e+04  \n",
       "mean                1.48         0.84             0.67       3.44e+01  \n",
       "std                 0.98         0.48             0.46       3.43e+01  \n",
       "min                 0.00         0.00             0.00       2.10e-04  \n",
       "25%                 0.92         0.45             0.31       5.37e+00  \n",
       "50%                 1.06         0.80             0.50       2.00e+01  \n",
       "75%                 1.92         1.20             1.02       6.30e+01  \n",
       "max                 6.99         3.00             3.00       1.85e+02  \n",
       "\n",
       "[8 rows x 82 columns]"
      ]
     },
     "execution_count": 3,
     "metadata": {},
     "output_type": "execute_result"
    }
   ],
   "source": [
    "#Inspecting the data\n",
    "set_option('precision', 2)\n",
    "data.describe()"
   ]
  },
  {
   "cell_type": "code",
   "execution_count": 4,
   "metadata": {
    "ExecuteTime": {
     "end_time": "2021-10-22T06:05:09.259765Z",
     "start_time": "2021-10-22T06:05:09.256860Z"
    }
   },
   "outputs": [],
   "source": [
    "#Creating a function that splits the data into features and labels\n",
    "def split_data (df, label_name):\n",
    "    #Splitting data into features and labels\n",
    "    features_X = df.loc[:, df.columns != label_name]\n",
    "    labels_y = df[[label_name]].values.ravel()\n",
    "    return features_X, labels_y"
   ]
  },
  {
   "cell_type": "code",
   "execution_count": 5,
   "metadata": {
    "ExecuteTime": {
     "end_time": "2021-10-22T06:05:10.357099Z",
     "start_time": "2021-10-22T06:05:10.350168Z"
    }
   },
   "outputs": [],
   "source": [
    "#Setting and splitting the data\n",
    "data_ct = split_data(df=data, label_name='critical_temp')"
   ]
  },
  {
   "cell_type": "code",
   "execution_count": 6,
   "metadata": {
    "ExecuteTime": {
     "end_time": "2021-10-22T06:05:11.504167Z",
     "start_time": "2021-10-22T06:05:11.499183Z"
    }
   },
   "outputs": [],
   "source": [
    "#Creating a function that runs a model given a dataset, model and label_name\n",
    "def run_regression (df, model, label_name, random_state):\n",
    "    #Splitting data into train and test\n",
    "    X_train, X_test, y_train, y_test = train_test_split(df[0], df[1], test_size = 0.2, random_state = random_state)\n",
    "    #Running the model using the training set\n",
    "    base_model = model\n",
    "    base_model.fit(X_train, y_train)\n",
    "    #Computing for accuracy scores\n",
    "    training_score = base_model.score(X_train, y_train)\n",
    "    test_score = base_model.score(X_test, y_test)\n",
    "    #Creating function to print accuracy scores\n",
    "    def print_scores():\n",
    "        print(\"Accuracy scores for model:\",model)\n",
    "        print(\"Training set score: {:.3f}\".format(training_score))\n",
    "        print(\"Test set score: {:.3f}\".format(test_score))\n",
    "    return print_scores(), base_model, training_score, test_score"
   ]
  },
  {
   "cell_type": "code",
   "execution_count": 7,
   "metadata": {
    "ExecuteTime": {
     "end_time": "2021-10-22T06:05:14.727909Z",
     "start_time": "2021-10-22T06:05:14.723516Z"
    }
   },
   "outputs": [],
   "source": [
    "#Creating a function that runs a model given a dataset, model_name and label_name, featuresm Standard Scaler applied to data\n",
    "def run_regression_scaled (df, model, label_name, random_state):\n",
    "    #Splitting data into train and test\n",
    "    X_train, X_test, y_train, y_test = train_test_split(df[0], df[1], test_size = 0.2, random_state = random_state)\n",
    "    #Scale training and data\n",
    "    scaler = StandardScaler().fit(X_train)\n",
    "    X_train_scaled = scaler.transform(X_train)\n",
    "    X_test_scaled = scaler.transform(X_test)\n",
    "    #Running the model using the training set\n",
    "    base_model = model\n",
    "    base_model.fit(X_train_scaled, y_train)\n",
    "    #Computing for accuracy scores\n",
    "    training_score = base_model.score(X_train_scaled, y_train)\n",
    "    test_score = base_model.score(X_test_scaled, y_test)\n",
    "    #Creating function to print accuracy scores\n",
    "    def print_scores():\n",
    "        print(\"Accuracy scores for model:\",model)\n",
    "        print(\"Training set score: {:.3f}\".format(training_score))\n",
    "        print(\"Test set score: {:.3f}\".format(test_score))\n",
    "    return print_scores(), base_model, training_score, test_score"
   ]
  },
  {
   "cell_type": "code",
   "execution_count": 8,
   "metadata": {
    "ExecuteTime": {
     "end_time": "2021-10-22T06:05:17.139268Z",
     "start_time": "2021-10-22T06:05:17.135564Z"
    }
   },
   "outputs": [],
   "source": [
    "#Creating function for plotting accuracy scores by values of parameter\n",
    "def plot_accuracy(title,x_axis_name,y_axis_name,param,train_score,test_score):\n",
    "    plt.figure(figsize=(12, 5))\n",
    "    plt.plot(param, train_score, label=\"training accuracy\",marker='o')\n",
    "    plt.plot(param, test_score, label=\"test accuracy\",marker='p')\n",
    "    plt.title(title)\n",
    "    plt.ylabel(y_axis_name)\n",
    "    plt.xlabel(x_axis_name)\n",
    "    plt.gca().invert_xaxis()\n",
    "    plt.legend()"
   ]
  },
  {
   "cell_type": "markdown",
   "metadata": {},
   "source": [
    "## Running two regression models using default parameters"
   ]
  },
  {
   "cell_type": "code",
   "execution_count": 9,
   "metadata": {
    "ExecuteTime": {
     "end_time": "2021-10-22T06:05:21.680586Z",
     "start_time": "2021-10-22T06:05:21.408680Z"
    }
   },
   "outputs": [
    {
     "name": "stdout",
     "output_type": "stream",
     "text": [
      "Accuracy scores for model: Lasso()\n",
      "Training set score: 0.649\n",
      "Test set score: 0.660\n"
     ]
    },
    {
     "data": {
      "text/plain": [
       "(None, Lasso(), 0.6487150648078479, 0.6596979439787765)"
      ]
     },
     "execution_count": 9,
     "metadata": {},
     "output_type": "execute_result"
    }
   ],
   "source": [
    "#Running a Lasso regression model\n",
    "run_regression_scaled(df=data_ct,model=Lasso(),label_name='critical_temp',random_state=7)"
   ]
  },
  {
   "cell_type": "code",
   "execution_count": 10,
   "metadata": {
    "ExecuteTime": {
     "end_time": "2021-10-22T06:05:23.535626Z",
     "start_time": "2021-10-22T06:05:23.154714Z"
    }
   },
   "outputs": [
    {
     "name": "stdout",
     "output_type": "stream",
     "text": [
      "Accuracy scores for model: ElasticNet()\n",
      "Training set score: 0.623\n",
      "Test set score: 0.635\n"
     ]
    },
    {
     "data": {
      "text/plain": [
       "(None, ElasticNet(), 0.6231964406488355, 0.6346651488359685)"
      ]
     },
     "execution_count": 10,
     "metadata": {},
     "output_type": "execute_result"
    }
   ],
   "source": [
    "#Running an ElasticNet regression model\n",
    "run_regression_scaled(df=data_ct,model=ElasticNet(),label_name='critical_temp',random_state=7)"
   ]
  },
  {
   "cell_type": "markdown",
   "metadata": {},
   "source": [
    "Running the regression models using just default parameters resulted in having Lasso a slightly higher test score with 0.660 while ElasticNet produced a test score of 0.635."
   ]
  },
  {
   "cell_type": "markdown",
   "metadata": {},
   "source": [
    "## Running the models with manual optimization of parameters with at least 5 different values\n",
    "Here we run different Lasso and ElasticNet models by optimizing the alpha parameter."
   ]
  },
  {
   "cell_type": "markdown",
   "metadata": {
    "ExecuteTime": {
     "end_time": "2021-10-22T03:37:54.437767Z",
     "start_time": "2021-10-22T03:37:54.432882Z"
    }
   },
   "source": [
    "### Lasso Regression"
   ]
  },
  {
   "cell_type": "markdown",
   "metadata": {},
   "source": [
    "#### Running Lasso regression models with different alpha values"
   ]
  },
  {
   "cell_type": "code",
   "execution_count": 11,
   "metadata": {
    "ExecuteTime": {
     "end_time": "2021-10-22T06:05:30.636284Z",
     "start_time": "2021-10-22T06:05:30.632663Z"
    }
   },
   "outputs": [],
   "source": [
    "#Setting different parameters of alpha for the Lasso regression\n",
    "alpha_values_l = (0.1, 0.5, 2, 4, 6)\n",
    "lnum = len(alpha_values_l)\n",
    "pred_num = data_ct[0].shape[1]"
   ]
  },
  {
   "cell_type": "code",
   "execution_count": 12,
   "metadata": {
    "ExecuteTime": {
     "end_time": "2021-10-22T06:05:35.227892Z",
     "start_time": "2021-10-22T06:05:32.968242Z"
    }
   },
   "outputs": [
    {
     "name": "stdout",
     "output_type": "stream",
     "text": [
      "Accuracy scores for model: Lasso(alpha=0.1)\n",
      "Training set score: 0.710\n",
      "Test set score: 0.718\n",
      "\n",
      "\n",
      "Accuracy scores for model: Lasso(alpha=0.5)\n",
      "Training set score: 0.674\n",
      "Test set score: 0.683\n",
      "\n",
      "\n",
      "Accuracy scores for model: Lasso(alpha=2)\n",
      "Training set score: 0.615\n",
      "Test set score: 0.626\n",
      "\n",
      "\n",
      "Accuracy scores for model: Lasso(alpha=4)\n",
      "Training set score: 0.569\n",
      "Test set score: 0.581\n",
      "\n",
      "\n",
      "Accuracy scores for model: Lasso(alpha=6)\n",
      "Training set score: 0.534\n",
      "Test set score: 0.545\n",
      "\n",
      "\n"
     ]
    }
   ],
   "source": [
    "coeff_a = np.zeros((lnum, pred_num))\n",
    "train_r2 = np.zeros(lnum)\n",
    "test_r2 = np.zeros(lnum)\n",
    "\n",
    "for idx, l in enumerate(alpha_values_l):\n",
    "    models = run_regression_scaled(data_ct, model=Lasso(alpha=l), label_name='critical_temp',random_state=7)\n",
    "    \n",
    "    coeff_a[idx, :] = models[1].coef_\n",
    "    train_r2[idx] = models[2]\n",
    "    test_r2[idx] = models[3]\n",
    "    print(\"\\n\")"
   ]
  },
  {
   "cell_type": "code",
   "execution_count": 13,
   "metadata": {
    "ExecuteTime": {
     "end_time": "2021-10-22T06:05:38.451484Z",
     "start_time": "2021-10-22T06:05:38.236752Z"
    }
   },
   "outputs": [
    {
     "data": {
      "image/png": "[encoded data removed]",
      "text/plain": [
       "<Figure size 864x360 with 1 Axes>"
      ]
     },
     "metadata": {
      "needs_background": "light"
     },
     "output_type": "display_data"
    }
   ],
   "source": [
    "#Plotting accuracy scores of Lasso regression models by alpha values\n",
    "plot_accuracy(title=\"Accuracy scores plotted by alpha of the Lasso regression model\",x_axis_name=\"alpha value\",y_axis_name=\"Accuracy\",param=alpha_values_l,train_score=train_r2,test_score=test_r2)"
   ]
  },
  {
   "cell_type": "code",
   "execution_count": 14,
   "metadata": {
    "ExecuteTime": {
     "end_time": "2021-10-22T06:05:40.659640Z",
     "start_time": "2021-10-22T06:05:40.246565Z"
    }
   },
   "outputs": [
    {
     "name": "stdout",
     "output_type": "stream",
     "text": [
      "Accuracy scores for model: Lasso(alpha=0.5)\n",
      "Training set score: 0.674\n",
      "Test set score: 0.683\n"
     ]
    }
   ],
   "source": [
    "#Running the best model\n",
    "best_lasso = run_regression_scaled(df=data_ct,model=Lasso(alpha=0.5),label_name='critical_temp',random_state=7)"
   ]
  },
  {
   "cell_type": "markdown",
   "metadata": {},
   "source": [
    "The best model for the Lasso regression according to the sweet spot of test accuracy scores is at alpha = 0.5 and the corresponding test accuracy score is 0.683 that is a slight improvement from the model using just default parameters (accuracy = 0.660)."
   ]
  },
  {
   "cell_type": "markdown",
   "metadata": {
    "ExecuteTime": {
     "end_time": "2021-10-22T04:36:19.858810Z",
     "start_time": "2021-10-22T04:36:19.856681Z"
    }
   },
   "source": [
    "### ElasticNet Regression"
   ]
  },
  {
   "cell_type": "markdown",
   "metadata": {
    "ExecuteTime": {
     "end_time": "2021-10-22T04:35:44.128574Z",
     "start_time": "2021-10-22T04:35:44.125844Z"
    }
   },
   "source": [
    "#### Running ElasticNet models with different alpha values"
   ]
  },
  {
   "cell_type": "code",
   "execution_count": 15,
   "metadata": {
    "ExecuteTime": {
     "end_time": "2021-10-22T06:05:57.303146Z",
     "start_time": "2021-10-22T06:05:54.798712Z"
    }
   },
   "outputs": [
    {
     "name": "stdout",
     "output_type": "stream",
     "text": [
      "Accuracy scores for model: ElasticNet(alpha=0.1)\n",
      "Training set score: 0.695\n",
      "Test set score: 0.704\n",
      "\n",
      "\n",
      "Accuracy scores for model: ElasticNet(alpha=0.5)\n",
      "Training set score: 0.650\n",
      "Test set score: 0.661\n",
      "\n",
      "\n",
      "Accuracy scores for model: ElasticNet(alpha=2)\n",
      "Training set score: 0.594\n",
      "Test set score: 0.605\n",
      "\n",
      "\n",
      "Accuracy scores for model: ElasticNet(alpha=4)\n",
      "Training set score: 0.554\n",
      "Test set score: 0.565\n",
      "\n",
      "\n",
      "Accuracy scores for model: ElasticNet(alpha=6)\n",
      "Training set score: 0.517\n",
      "Test set score: 0.528\n",
      "\n",
      "\n"
     ]
    }
   ],
   "source": [
    "#Setting different parameters of alpha for the ElasticNet\n",
    "alpha_values_en = [0.1, 0.5, 2, 4, 6]\n",
    "#Initializing accuracy data\n",
    "training_accuracy_en = []\n",
    "test_accuracy_en = []\n",
    "#Running the ElasticNet models\n",
    "for value in alpha_values_en:\n",
    "    dat = run_regression_scaled(data_ct, model=ElasticNet(alpha=value), label_name='critical_temp',random_state=7)\n",
    "    #Recording training set accuracy\n",
    "    training_accuracy_en.append(dat[2])\n",
    "    #Recording test accuracy\n",
    "    test_accuracy_en.append(dat[3])\n",
    "    print(\"\\n\")"
   ]
  },
  {
   "cell_type": "code",
   "execution_count": 16,
   "metadata": {
    "ExecuteTime": {
     "end_time": "2021-10-22T06:05:59.650176Z",
     "start_time": "2021-10-22T06:05:59.474810Z"
    }
   },
   "outputs": [
    {
     "data": {
      "image/png": "[encoded data removed]",
      "text/plain": [
       "<Figure size 864x360 with 1 Axes>"
      ]
     },
     "metadata": {
      "needs_background": "light"
     },
     "output_type": "display_data"
    }
   ],
   "source": [
    "#Plotting accuracy scores of ElasticNet models by alpha values\n",
    "plot_accuracy(title=\"Accuracy scores plotted by alpha of the ElasticNet model\",x_axis_name=\"alpha value\",y_axis_name=\"Accuracy\",param=alpha_values_en,train_score=training_accuracy_en,test_score=test_accuracy_en)"
   ]
  },
  {
   "cell_type": "code",
   "execution_count": 17,
   "metadata": {
    "ExecuteTime": {
     "end_time": "2021-10-22T06:06:01.878474Z",
     "start_time": "2021-10-22T06:06:01.333662Z"
    }
   },
   "outputs": [
    {
     "name": "stdout",
     "output_type": "stream",
     "text": [
      "Accuracy scores for model: ElasticNet(alpha=0.5)\n",
      "Training set score: 0.650\n",
      "Test set score: 0.661\n"
     ]
    }
   ],
   "source": [
    "#Running the best model\n",
    "best_elasticnet = run_regression_scaled(df=data_ct,model=ElasticNet(alpha=0.5),label_name='critical_temp',random_state=7)\n"
   ]
  },
  {
   "cell_type": "markdown",
   "metadata": {
    "ExecuteTime": {
     "end_time": "2021-10-22T04:44:22.824904Z",
     "start_time": "2021-10-22T04:44:22.820104Z"
    }
   },
   "source": [
    "The best model for the ElasticRegression according to the sweet spot of test accuracy scores is at alpha = 0.5 with an accuracy score of 0.661 which is an improvement from the score of the model just using default parameters (0.635)."
   ]
  },
  {
   "cell_type": "markdown",
   "metadata": {},
   "source": [
    "### Plotting the coefficient magnitudes of the two best models"
   ]
  },
  {
   "cell_type": "code",
   "execution_count": 18,
   "metadata": {
    "ExecuteTime": {
     "end_time": "2021-10-22T06:06:10.872904Z",
     "start_time": "2021-10-22T06:06:10.870277Z"
    }
   },
   "outputs": [],
   "source": [
    "X_names = list(data_ct[0].columns)"
   ]
  },
  {
   "cell_type": "code",
   "execution_count": 19,
   "metadata": {
    "ExecuteTime": {
     "end_time": "2021-10-22T06:06:14.082533Z",
     "start_time": "2021-10-22T06:06:14.078700Z"
    }
   },
   "outputs": [],
   "source": [
    "#Plotting the coefficient magnitude of the best model\n",
    "def plot_coeff(model_l,model_en):\n",
    "    plt.figure(figsize=(19, 5))\n",
    "    plt.plot(model_l.coef_, '^', label=model_l)\n",
    "    plt.plot(model_en.coef_, 's', label=model_en)\n",
    "    plt.xticks(range(len(X_names)), X_names, rotation=90)\n",
    "    plt.hlines(0, 0,len(X_names))\n",
    "    plt.legend()\n",
    "    #plt.legend(ncol=2, loc=(0, 0))\n",
    "    #plt.ylim(-10, 5)\n",
    "    plt.xlabel(\"Coefficient index\")\n",
    "    plt.ylabel(\"Coefficient magnitude\")"
   ]
  },
  {
   "cell_type": "code",
   "execution_count": 20,
   "metadata": {
    "ExecuteTime": {
     "end_time": "2021-10-22T06:06:17.992208Z",
     "start_time": "2021-10-22T06:06:16.670707Z"
    }
   },
   "outputs": [
    {
     "data": {
      "image/png": "[encoded data removed]",
      "text/plain": [
       "<Figure size 1368x360 with 1 Axes>"
      ]
     },
     "metadata": {
      "needs_background": "light"
     },
     "output_type": "display_data"
    }
   ],
   "source": [
    "plot_coeff(best_lasso[1],best_elasticnet[1])"
   ]
  },
  {
   "cell_type": "markdown",
   "metadata": {},
   "source": [
    "Here we see the regression coefficient values of the features for each of the best models - that is Lasso (alpha = 0.5) and ElasticNet(alpha=0.5) regression models."
   ]
  },
  {
   "cell_type": "markdown",
   "metadata": {},
   "source": [
    "# Task 2 (3 points):\n",
    "\n",
    "Binary classification $\\to$ Default of credit card clients Data Set\n",
    "\n",
    "The goal here is to predict the default payment next month.\n",
    "\n",
    "https://archive.ics.uci.edu/ml/datasets/default+of+credit+card+clients\n",
    "\n",
    "* Fit two binary classification models to predict the client's credit card default. Report accuracy with the default parameters of each model.\n",
    "* Perform a simple manual optimization for one of the default parameters (at least 5 different values) and plot the new obtained accuracy as a function of the chosen parameter.. Plot the feature importance. "
   ]
  },
  {
   "cell_type": "markdown",
   "metadata": {},
   "source": [
    "<b>Predicting credit card default using two binary classification models</b>\n",
    "\n",
    "For this task, we are to fit two binary classification models to predict the client's credit card default. Here we would be running a Logistic Regression and a Decision Tree Classification models."
   ]
  },
  {
   "cell_type": "markdown",
   "metadata": {},
   "source": [
    "## Reading and loading data and creating the functions to be used to run models"
   ]
  },
  {
   "cell_type": "code",
   "execution_count": 21,
   "metadata": {
    "ExecuteTime": {
     "end_time": "2021-10-22T06:06:33.791486Z",
     "start_time": "2021-10-22T06:06:27.683048Z"
    }
   },
   "outputs": [],
   "source": [
    "#Reading and loading the data set for Task 2\n",
    "import zipfile, requests, io\n",
    "url = 'https://archive.ics.uci.edu/ml/machine-learning-databases/00350/default%20of%20credit%20card%20clients.xls'\n",
    "data_2 = pd.read_excel(url, header=1, index_col=0)"
   ]
  },
  {
   "cell_type": "code",
   "execution_count": 22,
   "metadata": {
    "ExecuteTime": {
     "end_time": "2021-10-22T06:06:38.187933Z",
     "start_time": "2021-10-22T06:06:38.176466Z"
    }
   },
   "outputs": [],
   "source": [
    "#Creating a function that splits the data into features and labels\n",
    "def split_data (df, label_name):\n",
    "    #Splitting data into features and labels\n",
    "    features_X = df.loc[:, df.columns != label_name]\n",
    "    labels_y = df[[label_name]].values.ravel()\n",
    "    return features_X, labels_y"
   ]
  },
  {
   "cell_type": "code",
   "execution_count": 23,
   "metadata": {
    "ExecuteTime": {
     "end_time": "2021-10-22T06:06:39.368607Z",
     "start_time": "2021-10-22T06:06:39.362155Z"
    }
   },
   "outputs": [],
   "source": [
    "#Setting and splitting the data\n",
    "data_ccd = split_data(df=data_2, label_name='default payment next month')"
   ]
  },
  {
   "cell_type": "code",
   "execution_count": 28,
   "metadata": {
    "ExecuteTime": {
     "end_time": "2021-10-22T06:09:35.234291Z",
     "start_time": "2021-10-22T06:09:35.229664Z"
    }
   },
   "outputs": [],
   "source": [
    "#Creating a function that runs a model given a dataset, model and label_name\n",
    "def run_model (df, model, label_name):\n",
    "    #Splitting data into train and test\n",
    "    X_train, X_test, y_train, y_test = train_test_split(df[0], df[1], test_size = 0.2, random_state = 11)\n",
    "    #Running the model using the training set\n",
    "    base_model = model\n",
    "    base_model.fit(X_train.values, y_train)\n",
    "    #Computing for accuracy scores\n",
    "    training_score = base_model.score(X_train.values, y_train)\n",
    "    test_score = base_model.score(X_test.values, y_test)\n",
    "    #Creating function to print accuracy scores\n",
    "    def print_scores():\n",
    "        print(\"Accuracy scores for model:\",model)\n",
    "        print(\"Training set score: {:.3f}\".format(training_score))\n",
    "        print(\"Test set score: {:.3f}\".format(test_score))\n",
    "    return print_scores(), base_model, training_score, test_score"
   ]
  },
  {
   "cell_type": "markdown",
   "metadata": {},
   "source": [
    "## Running binary classification models using default parameters"
   ]
  },
  {
   "cell_type": "code",
   "execution_count": 29,
   "metadata": {
    "ExecuteTime": {
     "end_time": "2021-10-22T06:09:44.916648Z",
     "start_time": "2021-10-22T06:09:44.394520Z"
    }
   },
   "outputs": [
    {
     "name": "stdout",
     "output_type": "stream",
     "text": [
      "Accuracy scores for model: DecisionTreeClassifier()\n",
      "Training set score: 1.000\n",
      "Test set score: 0.724\n"
     ]
    },
    {
     "data": {
      "text/plain": [
       "(None, DecisionTreeClassifier(), 0.9995, 0.7235)"
      ]
     },
     "execution_count": 29,
     "metadata": {},
     "output_type": "execute_result"
    }
   ],
   "source": [
    "#Running a Decision Tree Classifier\n",
    "run_model(df=data_ccd,model=DecisionTreeClassifier(),label_name='default payment next month')"
   ]
  },
  {
   "cell_type": "code",
   "execution_count": 30,
   "metadata": {
    "ExecuteTime": {
     "end_time": "2021-10-22T06:10:03.026559Z",
     "start_time": "2021-10-22T06:09:55.325099Z"
    }
   },
   "outputs": [
    {
     "name": "stdout",
     "output_type": "stream",
     "text": [
      "Accuracy scores for model: GradientBoostingClassifier(random_state=1)\n",
      "Training set score: 0.828\n",
      "Test set score: 0.816\n"
     ]
    },
    {
     "data": {
      "text/plain": [
       "(None,\n",
       " GradientBoostingClassifier(random_state=1),\n",
       " 0.8282083333333333,\n",
       " 0.8161666666666667)"
      ]
     },
     "execution_count": 30,
     "metadata": {},
     "output_type": "execute_result"
    }
   ],
   "source": [
    "#Running a Gradient Booster regression tree model\n",
    "run_model(df=data_ccd,model=GradientBoostingClassifier(random_state=1),label_name='default payment next month')"
   ]
  },
  {
   "cell_type": "markdown",
   "metadata": {},
   "source": [
    "We see that the Decision Tree Classifier resulted to a very high training accuracy score (0.9995) which would suggest overfitting. The test accuracy score is good at 0.724.\n",
    "\n",
    "The Gradient Booster Classifier model achieve a pretty good score in both the training (0.828) and test (0.816) data sets.\n",
    "\n",
    "On the next step, we would manually optimize a parameter and see how that would affect the accuracy scores."
   ]
  },
  {
   "cell_type": "markdown",
   "metadata": {},
   "source": [
    "## Running the models with manual optimization of parameters with at least 5 different values\n",
    "Here we run different Decision Trees and Gradient Boosted models by optimizing the max depth parameter"
   ]
  },
  {
   "cell_type": "markdown",
   "metadata": {},
   "source": [
    "### Decision Tree Models"
   ]
  },
  {
   "cell_type": "markdown",
   "metadata": {},
   "source": [
    "#### Running Decision Tree models with different max depth values"
   ]
  },
  {
   "cell_type": "code",
   "execution_count": 31,
   "metadata": {
    "ExecuteTime": {
     "end_time": "2021-10-22T06:10:32.051505Z",
     "start_time": "2021-10-22T06:10:30.900829Z"
    }
   },
   "outputs": [
    {
     "name": "stdout",
     "output_type": "stream",
     "text": [
      "Accuracy scores for model: DecisionTreeClassifier(max_depth=2)\n",
      "Training set score: 0.821\n",
      "Test set score: 0.814\n",
      "\n",
      "\n",
      "Accuracy scores for model: DecisionTreeClassifier(max_depth=4)\n",
      "Training set score: 0.825\n",
      "Test set score: 0.815\n",
      "\n",
      "\n",
      "Accuracy scores for model: DecisionTreeClassifier(max_depth=8)\n",
      "Training set score: 0.837\n",
      "Test set score: 0.812\n",
      "\n",
      "\n",
      "Accuracy scores for model: DecisionTreeClassifier(max_depth=10)\n",
      "Training set score: 0.849\n",
      "Test set score: 0.807\n",
      "\n",
      "\n",
      "Accuracy scores for model: DecisionTreeClassifier(max_depth=20)\n",
      "Training set score: 0.943\n",
      "Test set score: 0.759\n",
      "\n",
      "\n"
     ]
    }
   ],
   "source": [
    "#Setting different parameters of max_depth for the Decision Trees\n",
    "max_depth_values = [2,4,8,10,20]\n",
    "#Initializing accuracy data\n",
    "training_accuracy_data = []\n",
    "test_accuracy_data = []\n",
    "#Running the Decision Tree Classifier models\n",
    "for value in max_depth_values:\n",
    "    dat = run_model(df=data_ccd,model=DecisionTreeClassifier(max_depth= value),label_name='default payment next month')\n",
    "    #Recording training set accuracy\n",
    "    training_accuracy_data.append(dat[2])\n",
    "    #Recording test accuracy\n",
    "    test_accuracy_data.append(dat[3])\n",
    "    print(\"\\n\")"
   ]
  },
  {
   "cell_type": "markdown",
   "metadata": {},
   "source": [
    "#### Plotting accuracy scores of the Decision Tree models"
   ]
  },
  {
   "cell_type": "code",
   "execution_count": 32,
   "metadata": {
    "ExecuteTime": {
     "end_time": "2021-10-22T06:10:44.493947Z",
     "start_time": "2021-10-22T06:10:44.322875Z"
    }
   },
   "outputs": [
    {
     "data": {
      "image/png": "[encoded data removed]",
      "text/plain": [
       "<Figure size 864x360 with 1 Axes>"
      ]
     },
     "metadata": {
      "needs_background": "light"
     },
     "output_type": "display_data"
    }
   ],
   "source": [
    "#Plotting accuracy scores of Decision Tree models by max depth values\n",
    "plot_accuracy(title=\"Accuracy scores plotted by max depth of Decision Tree models\",x_axis_name=\"Max depth\",y_axis_name=\"Accuracy\",param=max_depth_values,train_score=training_accuracy_data,test_score=test_accuracy_data)"
   ]
  },
  {
   "cell_type": "markdown",
   "metadata": {},
   "source": [
    "Here we can see that optimizing (decreasing) the maximum depth of the tree resulted in seemingly solving the overfitting of the Decision Tree model using just the default parameter while improving the test accuracy: from <b>0.724</b> for the default parameters to 0.764 for max depth of 20 and up to <b>0.815</b> for max depth of 4. So we will choose the model with max depth of 4 as our final model for the Decision Tree Classifier."
   ]
  },
  {
   "cell_type": "markdown",
   "metadata": {
    "ExecuteTime": {
     "end_time": "2021-10-18T01:43:02.921456Z",
     "start_time": "2021-10-18T01:43:02.918987Z"
    }
   },
   "source": [
    "#### Plotting the feature importance of Decision Tree Model with max_depth = 4"
   ]
  },
  {
   "cell_type": "code",
   "execution_count": 33,
   "metadata": {
    "ExecuteTime": {
     "end_time": "2021-10-22T06:11:42.769076Z",
     "start_time": "2021-10-22T06:11:42.764599Z"
    }
   },
   "outputs": [],
   "source": [
    "#Creating a function that plots the feature importance\n",
    "def plot_feature_importance(df,model,title='Feature importance of the Decision Tree Model'):\n",
    "    #Getting column names of features\n",
    "    feature_names = df[0].columns.tolist()\n",
    "    #Combining feature names and feature importance score of the model \n",
    "    temp = pd.DataFrame({'Feature':feature_names, 'Feature importance':model[1].feature_importances_,})\n",
    "    #Dropping feature importance equal to 0\n",
    "    temp = temp[temp['Feature importance'] !=0]\n",
    "    #Sorting the data by descending order\n",
    "    temp = temp.sort_values(by='Feature importance',ascending=False)\n",
    "    #Plotting the data\n",
    "    plt.figure(figsize = (9,5))\n",
    "    plt.title(title,fontsize=14)\n",
    "    plots = sns.barplot(x='Feature',y='Feature importance',data=temp)\n",
    "    plots.set_xticklabels(plots.get_xticklabels(),rotation=90)\n",
    "    plt.show()"
   ]
  },
  {
   "cell_type": "code",
   "execution_count": 34,
   "metadata": {
    "ExecuteTime": {
     "end_time": "2021-10-22T06:11:46.646700Z",
     "start_time": "2021-10-22T06:11:46.338606Z"
    }
   },
   "outputs": [
    {
     "name": "stdout",
     "output_type": "stream",
     "text": [
      "Accuracy scores for model: DecisionTreeClassifier(max_depth=4)\n",
      "Training set score: 0.825\n",
      "Test set score: 0.815\n"
     ]
    },
    {
     "data": {
      "image/png": "[encoded data removed]",
      "text/plain": [
       "<Figure size 648x360 with 1 Axes>"
      ]
     },
     "metadata": {
      "needs_background": "light"
     },
     "output_type": "display_data"
    }
   ],
   "source": [
    "#Choosing the final Decision Tree Classification model and plotting the feature importance\n",
    "model_1 = run_model (df=data_ccd, model=DecisionTreeClassifier(max_depth= 4),label_name='default payment next month')\n",
    "plot_feature_importance(df=data_ccd, model=model_1)"
   ]
  },
  {
   "cell_type": "markdown",
   "metadata": {},
   "source": [
    "The feature importance measures show that PAY_0 is the most important when using this Decision Tree model, this is followed by PAY_2 and PAY_AMT3."
   ]
  },
  {
   "cell_type": "markdown",
   "metadata": {},
   "source": [
    "### Gradient Boost Models"
   ]
  },
  {
   "cell_type": "markdown",
   "metadata": {},
   "source": [
    "#### Running Gradient Booster models with different max depth values"
   ]
  },
  {
   "cell_type": "code",
   "execution_count": 36,
   "metadata": {
    "ExecuteTime": {
     "end_time": "2021-10-22T06:16:11.975576Z",
     "start_time": "2021-10-22T06:14:36.172651Z"
    }
   },
   "outputs": [
    {
     "name": "stdout",
     "output_type": "stream",
     "text": [
      "For max_depth = 2\n",
      "Accuracy scores for model: GradientBoostingClassifier(max_depth=2, random_state=1)\n",
      "Training set score: 0.825\n",
      "Test set score: 0.814\n",
      "\n",
      "\n",
      "For max_depth = 4\n",
      "Accuracy scores for model: GradientBoostingClassifier(max_depth=4, random_state=1)\n",
      "Training set score: 0.833\n",
      "Test set score: 0.817\n",
      "\n",
      "\n",
      "For max_depth = 6\n",
      "Accuracy scores for model: GradientBoostingClassifier(max_depth=6, random_state=1)\n",
      "Training set score: 0.857\n",
      "Test set score: 0.813\n",
      "\n",
      "\n",
      "For max_depth = 10\n",
      "Accuracy scores for model: GradientBoostingClassifier(max_depth=10, random_state=1)\n",
      "Training set score: 0.940\n",
      "Test set score: 0.808\n",
      "\n",
      "\n",
      "For max_depth = 15\n",
      "Accuracy scores for model: GradientBoostingClassifier(max_depth=15, random_state=1)\n",
      "Training set score: 0.999\n",
      "Test set score: 0.804\n",
      "\n",
      "\n"
     ]
    }
   ],
   "source": [
    "#Setting different parameters of max_depth for the Gradient Booster Classifier\n",
    "max_depth_values = [2,4,6,10,15]\n",
    "#Initializing accuracy data\n",
    "training_accuracy_data = []\n",
    "test_accuracy_data = []\n",
    "#Running the Gradient Booster regression tree models\n",
    "for value in max_depth_values:\n",
    "    print(\"For max_depth =\", value)\n",
    "    dat = run_model(df=data_ccd,model=GradientBoostingClassifier(random_state=1,max_depth= value),label_name='default payment next month')\n",
    "    #Recording training set accuracy\n",
    "    training_accuracy_data.append(dat[2])\n",
    "    #Recording test accuracy\n",
    "    test_accuracy_data.append(dat[3])\n",
    "    print(\"\\n\")"
   ]
  },
  {
   "cell_type": "markdown",
   "metadata": {},
   "source": [
    "#### Plotting accuracy scores of the Gradient Boosted models"
   ]
  },
  {
   "cell_type": "code",
   "execution_count": 37,
   "metadata": {
    "ExecuteTime": {
     "end_time": "2021-10-22T06:16:12.139653Z",
     "start_time": "2021-10-22T06:16:11.977578Z"
    }
   },
   "outputs": [
    {
     "data": {
      "image/png": "[encoded data removed]",
      "text/plain": [
       "<Figure size 864x360 with 1 Axes>"
      ]
     },
     "metadata": {
      "needs_background": "light"
     },
     "output_type": "display_data"
    }
   ],
   "source": [
    "#Plotting accuracy scores of Decision Tree models by max depth values\n",
    "plot_accuracy(title=\"Accuracy scores plotted by max depth of Gradient Boosted models\",x_axis_name=\"Max depth\",y_axis_name=\"Accuracy\",param=max_depth_values,train_score=training_accuracy_data,test_score=test_accuracy_data)"
   ]
  },
  {
   "cell_type": "markdown",
   "metadata": {},
   "source": [
    "Optimizing the Gradient Boosted Classifier model by playing around with max depth show that increasing the depth leads to overfitting (max_depth of 20 resulted to a training accuracy score of 1.000). Basing from the accuracy scores, we can choose a max depth of between 4 (test score = 0.817)  or 6 (test score = 0.813). For this case, we choose the model with a max depth of 4 - this led to an improvement of the scores (both training and test) comparing it with the model just using default parameters."
   ]
  },
  {
   "cell_type": "markdown",
   "metadata": {},
   "source": [
    "#### Plotting feature importance of Gradient Boosted Model with maximum_depth = 4"
   ]
  },
  {
   "cell_type": "code",
   "execution_count": 38,
   "metadata": {
    "ExecuteTime": {
     "end_time": "2021-10-22T06:16:22.324738Z",
     "start_time": "2021-10-22T06:16:12.140752Z"
    }
   },
   "outputs": [
    {
     "name": "stdout",
     "output_type": "stream",
     "text": [
      "Accuracy scores for model: GradientBoostingClassifier(max_depth=4, random_state=1)\n",
      "Training set score: 0.833\n",
      "Test set score: 0.817\n"
     ]
    },
    {
     "data": {
      "image/png": "[encoded data removed]",
      "text/plain": [
       "<Figure size 648x360 with 1 Axes>"
      ]
     },
     "metadata": {
      "needs_background": "light"
     },
     "output_type": "display_data"
    }
   ],
   "source": [
    "#Choosing the \"final\" Gradient Boosted Classification model and plotting the feature importance\n",
    "model_2 = run_model (df=data_ccd, model=GradientBoostingClassifier(random_state=1,max_depth= 4),label_name='default payment next month')\n",
    "plot_feature_importance(df=data_ccd, model=model_2,title='Feature importance of the Gradient Boosting Classifier')"
   ]
  },
  {
   "cell_type": "markdown",
   "metadata": {},
   "source": [
    "Using the Gradient Boosted Classification model, we also see that PAY_0 is the most important feature followed by the PAY_2 - similar results from the Decision Tree model. However here, BILL_AMT1 is the third most important feature."
   ]
  },
  {
   "cell_type": "markdown",
   "metadata": {},
   "source": [
    "# Task 3 (9 points): \n",
    "\n",
    "Multiclass & binary classification $\\to$ Drug consumption (quantified) Data Set\n",
    "\n",
    "https://archive.ics.uci.edu/ml/datasets/Drug+consumption+%28quantified%29\n",
    "\n",
    "Data Set Information:\n",
    "\n",
    "Database contains records for 1885 respondents. For each respondent 12 attributes are known: Personality measurements which include NEO-FFI-R (neuroticism, extraversion, openness to experience, agreeableness, and conscientiousness), BIS-11 (impulsivity), and ImpSS (sensation seeking), level of education, age, gender, country of residence and ethnicity. All input attributes are originally categorical and are quantified. After quantification values of all input features can be considered as real-valued. In addition, participants were questioned concerning their use of 18 legal and illegal drugs (alcohol, amphetamines, amyl nitrite, benzodiazepine, cannabis, chocolate, cocaine, caffeine, crack, ecstasy, heroin, ketamine, legal highs, LSD, methadone, mushrooms, nicotine and volatile substance abuse and one fictitious drug (Semeron) which was introduced to identify over-claimers. For each drug they have to select one of the answers: never used the drug, used it over a decade ago, or in the last decade, year, month, week, or day.\n",
    "\n",
    "Database contains 18 classification problems. Each of independent label variables contains seven classes: \"Never Used\", \"Used over a Decade Ago\", \"Used in Last Decade\", \"Used in Last Year\", \"Used in Last Month\", \"Used in Last Week\", and \"Used in Last Day\".\n",
    "\n",
    "* Fit two multiclass classification models to predict two selected features out of 18. Use numerical values to represent each class. Report accuracy with the default parameters of each model.\n",
    "* Perform a simple manual optimization for one of the default parameters (at least 5 different values) for one of the previous models. Plot the new obtained accuracy as a function of the chosen parameter. \n",
    "* Fit one multiclass classification model for all the rest 16 features. Comment on the accuracy of predicting each feature, for all the seven classes. \n",
    "* Run one binary classification model for 3 features out of 18. Test the performance of the model by choosing as:\n",
    " - one class (class 0) the variable \"Used in Last Decade\" and the remaining variables for the other class (class 1).\n",
    " - one class (class 0) the variables \"Used in Last Decade\" and \"Used in Last Year\" and the remaining variables for the other class (class 1).\n",
    " - one class (class 0) the variables \"Used in Last Decade\", \"Used in Last Year\", \"Used in Last Month\" and the remaining variables for the other class (class 1).\n",
    " \n",
    " Comment your results, and point which selection of classes have better accuracy."
   ]
  },
  {
   "cell_type": "markdown",
   "metadata": {
    "ExecuteTime": {
     "end_time": "2021-10-20T01:45:59.590770Z",
     "start_time": "2021-10-20T01:45:59.588390Z"
    }
   },
   "source": [
    "## Reading and loading data and creating the functions to be used to run models"
   ]
  },
  {
   "cell_type": "code",
   "execution_count": 39,
   "metadata": {
    "ExecuteTime": {
     "end_time": "2021-10-22T06:16:30.248973Z",
     "start_time": "2021-10-22T06:16:28.732415Z"
    }
   },
   "outputs": [],
   "source": [
    "#Reading and loading the data set\n",
    "#importing zipfile, requests, io\n",
    "url = 'https://archive.ics.uci.edu/ml/machine-learning-databases/00373/drug_consumption.data'\n",
    "data_3 = pd.read_csv(url, header=None)\n",
    "#data_3.head(3)"
   ]
  },
  {
   "cell_type": "code",
   "execution_count": 40,
   "metadata": {
    "ExecuteTime": {
     "end_time": "2021-10-22T06:16:31.258334Z",
     "start_time": "2021-10-22T06:16:31.254784Z"
    }
   },
   "outputs": [],
   "source": [
    "#Renaming column names\n",
    "data_3.columns = ['ID', 'Age','Gender','Education','Country','Ethnicity','Nscore','Escore','Oscore','Ascore','Cscore','Impulsive','SS','Alcohol','Amphetamine','Amyl','Benzos','Caffeine','Cannabis','Chocolate','Cocaine','Crack','Ecstacy','Heroin','Ketamine','LegalH','LSD','Meth','Mushrooms','Nicotine','Semeron','VSA']"
   ]
  },
  {
   "cell_type": "code",
   "execution_count": 41,
   "metadata": {
    "ExecuteTime": {
     "end_time": "2021-10-22T06:16:32.755201Z",
     "start_time": "2021-10-22T06:16:32.751379Z"
    }
   },
   "outputs": [],
   "source": [
    "#Selecting features data\n",
    "features_columns = ['Age','Gender','Education','Country','Ethnicity','Nscore','Escore','Oscore','Ascore','Cscore','Impulsive','SS']\n",
    "features_data = data_3[features_columns]"
   ]
  },
  {
   "cell_type": "code",
   "execution_count": 42,
   "metadata": {
    "ExecuteTime": {
     "end_time": "2021-10-22T06:16:33.512290Z",
     "start_time": "2021-10-22T06:16:33.508375Z"
    }
   },
   "outputs": [],
   "source": [
    "#Selecting drugs (label) data\n",
    "drug_columns = ['Alcohol','Amphetamine','Amyl','Benzos','Caffeine','Cannabis','Chocolate','Cocaine','Crack','Ecstacy','Heroin','Ketamine','LegalH','LSD','Meth','Mushrooms','Nicotine','Semeron','VSA']\n",
    "drug_data = data_3[drug_columns]"
   ]
  },
  {
   "cell_type": "code",
   "execution_count": 43,
   "metadata": {
    "ExecuteTime": {
     "end_time": "2021-10-22T06:16:37.514089Z",
     "start_time": "2021-10-22T06:16:37.492535Z"
    }
   },
   "outputs": [],
   "source": [
    "#Creating copy of drug data for reclassing drugs\n",
    "drug_data_reclass = drug_data.copy(deep=True)\n",
    "#Resetting drug classes as numeric values\n",
    "for i in drug_columns:\n",
    "    drug_data_reclass[i] = drug_data_reclass[i].map({'CL0': 0, 'CL1': 1, 'CL2': 2, 'CL3': 3, 'CL4': 4, 'CL5': 5, 'CL6': 6})"
   ]
  },
  {
   "cell_type": "code",
   "execution_count": 44,
   "metadata": {
    "ExecuteTime": {
     "end_time": "2021-10-22T06:16:41.673454Z",
     "start_time": "2021-10-22T06:16:41.668996Z"
    }
   },
   "outputs": [],
   "source": [
    "#Creating a function that runs the multiclass classification given a datamodel and label_name\n",
    "def run_multiclass (model, label_name,classes):\n",
    "    #Splitting data into train and test\n",
    "    X_train, X_test, y_train, y_test = train_test_split(features_data, label_name, test_size = 0.2, random_state = 1)\n",
    "    #Running the model using the training set\n",
    "    base_model = model\n",
    "    model_fit = base_model.fit(X_train.values, y_train)\n",
    "    predictions = model_fit.predict(X_test.values)\n",
    "    #Computing for accuracy scores\n",
    "    training_score = base_model.score(X_train.values, y_train)\n",
    "    test_score = base_model.score(X_test.values, y_test)\n",
    "    #Creating a confusion matrix\n",
    "    #cm = confusion_matrix(y_test, predictions)\n",
    "    #Computing for f1 score\n",
    "    f1_weighted = f1_score(y_test, predictions, average='weighted',zero_division=0)\n",
    "    f1_none = f1_score(y_test, predictions, average=None, labels=list(range(classes)), zero_division=0)\n",
    "    return model_fit, y_test, predictions, training_score, test_score, f1_weighted, f1_none"
   ]
  },
  {
   "cell_type": "code",
   "execution_count": 45,
   "metadata": {
    "ExecuteTime": {
     "end_time": "2021-10-22T06:16:43.955375Z",
     "start_time": "2021-10-22T06:16:43.951837Z"
    }
   },
   "outputs": [],
   "source": [
    "#Creating a function that fits a model and prints accuracy results with F1 score averaging = weighted\n",
    "def fit_multiclass (model, label_name,classes):\n",
    "    fitted = run_multiclass(model, label_name,classes)\n",
    "    def print_scores():\n",
    "        print(\"Accuracy scores for model:\",model,\"on predicting:\",label_name.name)\n",
    "        print(\"Training set score: {:.3f}\".format(fitted[3]))\n",
    "        print(\"Test set score: {:.3f}\".format(fitted[4]))\n",
    "        #print(\"\\nConfusion matrix:\",cm)\n",
    "        print(\"F1-score (weighted): {:.3f} \\n\".format(fitted[5]))\n",
    "    return print_scores()"
   ]
  },
  {
   "cell_type": "markdown",
   "metadata": {},
   "source": [
    "## Fitting 2 multiclass classification model to predict use of 2 selected drugs"
   ]
  },
  {
   "cell_type": "code",
   "execution_count": 46,
   "metadata": {
    "ExecuteTime": {
     "end_time": "2021-10-22T06:16:46.581400Z",
     "start_time": "2021-10-22T06:16:45.728350Z"
    }
   },
   "outputs": [
    {
     "name": "stdout",
     "output_type": "stream",
     "text": [
      "Accuracy scores for model: LinearSVC(max_iter=2000) on predicting: Ecstacy\n",
      "Training set score: 0.560\n",
      "Test set score: 0.565\n",
      "F1-score (weighted): 0.456 \n",
      "\n",
      "Accuracy scores for model: KNeighborsClassifier() on predicting: Ecstacy\n",
      "Training set score: 0.633\n",
      "Test set score: 0.515\n",
      "F1-score (weighted): 0.439 \n",
      "\n",
      "Accuracy scores for model: LinearSVC(max_iter=2000) on predicting: Mushrooms\n",
      "Training set score: 0.563\n",
      "Test set score: 0.520\n",
      "F1-score (weighted): 0.420 \n",
      "\n",
      "Accuracy scores for model: KNeighborsClassifier() on predicting: Mushrooms\n",
      "Training set score: 0.646\n",
      "Test set score: 0.509\n",
      "F1-score (weighted): 0.455 \n",
      "\n"
     ]
    }
   ],
   "source": [
    "#Running 2 classification models for 2 selected label (drug of use: Ecstacy and Mushrooms)\n",
    "selected_models = [LinearSVC(max_iter=2000),KNeighborsClassifier()]\n",
    "selected_labels = ['Ecstacy', 'Mushrooms']\n",
    "\n",
    "for labels in selected_labels:\n",
    "    for models in selected_models:\n",
    "        fit_multiclass(model=models, label_name= drug_data_reclass[labels],classes=7)"
   ]
  },
  {
   "cell_type": "markdown",
   "metadata": {
    "ExecuteTime": {
     "end_time": "2021-10-20T02:24:09.230687Z",
     "start_time": "2021-10-20T02:24:09.110788Z"
    }
   },
   "source": [
    "Here we see that predicting class of Ecstacy use with the LinearSVC model has slightly better results comparing both the test accuracy (0.565) and F1 scores (0.456).\n",
    "For predicting class of Mushroom use with the KNeighbor Classifier has slightly better results with the F1 score(0.455) and training set score (0.646)."
   ]
  },
  {
   "cell_type": "markdown",
   "metadata": {
    "ExecuteTime": {
     "end_time": "2021-10-19T22:35:06.130076Z",
     "start_time": "2021-10-19T22:35:06.127260Z"
    }
   },
   "source": [
    "## Performing manual optimization of one default parameter of one of the models for 5 different values"
   ]
  },
  {
   "cell_type": "code",
   "execution_count": 47,
   "metadata": {
    "ExecuteTime": {
     "end_time": "2021-10-22T06:16:53.991426Z",
     "start_time": "2021-10-22T06:16:53.456907Z"
    }
   },
   "outputs": [],
   "source": [
    "#Setting different parameters of n_neighbors for the KNN classifier model\n",
    "n_neighbor_values = [2,6,10,15,20]\n",
    "labels = 'Mushrooms'\n",
    "#Initializing accuracy data\n",
    "training_accuracy_data = []\n",
    "test_accuracy_data = []\n",
    "f1_data = []\n",
    "#Running the KNN classifier models\n",
    "for value in n_neighbor_values:\n",
    "    multi = run_multiclass(model=KNeighborsClassifier(n_neighbors=value), label_name=drug_data_reclass[labels],classes=7)\n",
    "    #Recording training set accuracy\n",
    "    training_accuracy_data.append(multi[3])\n",
    "    #Recording test accuracy\n",
    "    test_accuracy_data.append(multi[4])\n",
    "    #Recording F1 score\n",
    "    f1_data.append(multi[5])"
   ]
  },
  {
   "cell_type": "code",
   "execution_count": 48,
   "metadata": {
    "ExecuteTime": {
     "end_time": "2021-10-22T06:16:58.046388Z",
     "start_time": "2021-10-22T06:16:58.042645Z"
    }
   },
   "outputs": [],
   "source": [
    "#Plotting accuracy scores\n",
    "def plot_scores(title,x_axis_name,y_axis_name,param):\n",
    "    plt.figure(figsize=(12, 6))\n",
    "    plt.plot(param, training_accuracy_data, label=\"training accuracy\",marker='o')\n",
    "    plt.plot(param, test_accuracy_data, label=\"test accuracy\",marker='p')\n",
    "    plt.plot(param, f1_data, label=\"F1 score\",marker='D')\n",
    "    plt.title(title)\n",
    "    plt.ylabel(y_axis_name)\n",
    "    plt.xlabel(x_axis_name)\n",
    "    plt.legend()"
   ]
  },
  {
   "cell_type": "code",
   "execution_count": 49,
   "metadata": {
    "ExecuteTime": {
     "end_time": "2021-10-22T06:17:01.041989Z",
     "start_time": "2021-10-22T06:17:00.864506Z"
    }
   },
   "outputs": [
    {
     "data": {
      "image/png": "[encoded data removed]",
      "text/plain": [
       "<Figure size 864x432 with 1 Axes>"
      ]
     },
     "metadata": {
      "needs_background": "light"
     },
     "output_type": "display_data"
    }
   ],
   "source": [
    "plot_scores(title=\"Accuracy scores of KNN Classifier predicting use of Mushrooms plotted against n_neighbors\",\n",
    "            x_axis_name='n_neighbors',y_axis_name='accuracy',param=n_neighbor_values)"
   ]
  },
  {
   "cell_type": "code",
   "execution_count": 50,
   "metadata": {
    "ExecuteTime": {
     "end_time": "2021-10-22T06:17:04.527070Z",
     "start_time": "2021-10-22T06:17:04.408384Z"
    }
   },
   "outputs": [
    {
     "name": "stdout",
     "output_type": "stream",
     "text": [
      "Accuracy scores for model: KNeighborsClassifier(n_neighbors=15) on predicting: Mushrooms\n",
      "Training set score: 0.583\n",
      "Test set score: 0.546\n",
      "F1-score (weighted): 0.472 \n",
      "\n"
     ]
    }
   ],
   "source": [
    "fit_multiclass(model=KNeighborsClassifier(n_neighbors=15), label_name=drug_data_reclass[labels],classes=7)"
   ]
  },
  {
   "cell_type": "markdown",
   "metadata": {},
   "source": [
    "Here we see that manual fine tuning the parameter n_neighbors for the KNeighbor classifier in predicting the class of Mushroom use. Setting the n-neighbors to 15, the test accuracy improved to 0.546 and the F1 score improved to 0.472."
   ]
  },
  {
   "cell_type": "markdown",
   "metadata": {},
   "source": [
    "## Fitting a multiclass classification model for all the rest of 16 features"
   ]
  },
  {
   "cell_type": "code",
   "execution_count": 51,
   "metadata": {
    "ExecuteTime": {
     "end_time": "2021-10-22T06:17:09.250701Z",
     "start_time": "2021-10-22T06:17:09.247094Z"
    }
   },
   "outputs": [],
   "source": [
    "#Creating a function that fits a model and prints accuracy results with F1 score averaging = None\n",
    "def fit_multiclass_f1_none (model, label_name,classes):\n",
    "    fitted = run_multiclass(model, label_name,classes)\n",
    "    def print_scores():\n",
    "        print(\"Accuracy scores for model:\",model,\"on predicting:\",label_name.name)\n",
    "        print(\"Training set score: {:.3f}\".format(fitted[3]))\n",
    "        print(\"Test set score: {:.3f}\".format(fitted[4]))\n",
    "        #print(\"\\nConfusion matrix:\",cm)\n",
    "        print(\"F1-score (weighted): {:.3f}\\n\".format(fitted[5]))\n",
    "    return print_scores(), fitted[6]"
   ]
  },
  {
   "cell_type": "code",
   "execution_count": 52,
   "metadata": {
    "ExecuteTime": {
     "end_time": "2021-10-22T06:17:20.243861Z",
     "start_time": "2021-10-22T06:17:18.273269Z"
    }
   },
   "outputs": [
    {
     "name": "stdout",
     "output_type": "stream",
     "text": [
      "Accuracy scores for model: KNeighborsClassifier(n_neighbors=15) on predicting: Alcohol\n",
      "Training set score: 0.438\n",
      "Test set score: 0.390\n",
      "F1-score (weighted): 0.318\n",
      "\n",
      "Accuracy scores for model: KNeighborsClassifier(n_neighbors=15) on predicting: Amphetamine\n",
      "Training set score: 0.562\n",
      "Test set score: 0.496\n",
      "F1-score (weighted): 0.406\n",
      "\n",
      "Accuracy scores for model: KNeighborsClassifier(n_neighbors=15) on predicting: Amyl\n",
      "Training set score: 0.712\n",
      "Test set score: 0.703\n",
      "F1-score (weighted): 0.601\n",
      "\n",
      "Accuracy scores for model: KNeighborsClassifier(n_neighbors=15) on predicting: Benzos\n",
      "Training set score: 0.564\n",
      "Test set score: 0.509\n",
      "F1-score (weighted): 0.385\n",
      "\n",
      "Accuracy scores for model: KNeighborsClassifier(n_neighbors=15) on predicting: Caffeine\n",
      "Training set score: 0.739\n",
      "Test set score: 0.716\n",
      "F1-score (weighted): 0.598\n",
      "\n",
      "Accuracy scores for model: KNeighborsClassifier(n_neighbors=15) on predicting: Cannabis\n",
      "Training set score: 0.440\n",
      "Test set score: 0.419\n",
      "F1-score (weighted): 0.353\n",
      "\n",
      "Accuracy scores for model: KNeighborsClassifier(n_neighbors=15) on predicting: Chocolate\n",
      "Training set score: 0.529\n",
      "Test set score: 0.347\n",
      "F1-score (weighted): 0.321\n",
      "\n",
      "Accuracy scores for model: KNeighborsClassifier(n_neighbors=15) on predicting: Cocaine\n",
      "Training set score: 0.588\n",
      "Test set score: 0.533\n",
      "F1-score (weighted): 0.429\n",
      "\n",
      "Accuracy scores for model: KNeighborsClassifier(n_neighbors=15) on predicting: Crack\n",
      "Training set score: 0.869\n",
      "Test set score: 0.841\n",
      "F1-score (weighted): 0.768\n",
      "\n",
      "Accuracy scores for model: KNeighborsClassifier(n_neighbors=15) on predicting: Heroin\n",
      "Training set score: 0.861\n",
      "Test set score: 0.812\n",
      "F1-score (weighted): 0.727\n",
      "\n",
      "Accuracy scores for model: KNeighborsClassifier(n_neighbors=15) on predicting: Ketamine\n",
      "Training set score: 0.797\n",
      "Test set score: 0.769\n",
      "F1-score (weighted): 0.671\n",
      "\n",
      "Accuracy scores for model: KNeighborsClassifier(n_neighbors=15) on predicting: LegalH\n",
      "Training set score: 0.650\n",
      "Test set score: 0.615\n",
      "F1-score (weighted): 0.542\n",
      "\n",
      "Accuracy scores for model: KNeighborsClassifier(n_neighbors=15) on predicting: LSD\n",
      "Training set score: 0.629\n",
      "Test set score: 0.578\n",
      "F1-score (weighted): 0.501\n",
      "\n",
      "Accuracy scores for model: KNeighborsClassifier(n_neighbors=15) on predicting: Meth\n",
      "Training set score: 0.759\n",
      "Test set score: 0.751\n",
      "F1-score (weighted): 0.652\n",
      "\n",
      "Accuracy scores for model: KNeighborsClassifier(n_neighbors=15) on predicting: Nicotine\n",
      "Training set score: 0.440\n",
      "Test set score: 0.361\n",
      "F1-score (weighted): 0.315\n",
      "\n",
      "Accuracy scores for model: KNeighborsClassifier(n_neighbors=15) on predicting: VSA\n",
      "Training set score: 0.778\n",
      "Test set score: 0.740\n",
      "F1-score (weighted): 0.632\n",
      "\n"
     ]
    }
   ],
   "source": [
    "#Selecting all data\n",
    "selected_labels = ['Alcohol','Amphetamine','Amyl','Benzos','Caffeine','Cannabis','Chocolate','Cocaine','Crack','Heroin','Ketamine','LegalH','LSD','Meth','Nicotine','VSA']\n",
    "#Initializing f1 score tables for each class\n",
    "f1_score_table = []\n",
    "#Running the classification models for the rest of the labels\n",
    "for labels in selected_labels:\n",
    "    all_models = fit_multiclass_f1_none(model=KNeighborsClassifier(n_neighbors=15), label_name= drug_data_reclass[labels],classes=7)\n",
    "    f1_score_table.append(all_models[1].tolist())"
   ]
  },
  {
   "cell_type": "code",
   "execution_count": 53,
   "metadata": {
    "ExecuteTime": {
     "end_time": "2021-10-22T06:17:25.996623Z",
     "start_time": "2021-10-22T06:17:25.520469Z"
    }
   },
   "outputs": [
    {
     "data": {
      "image/png": "[encoded data removed]",
      "text/plain": [
       "<Figure size 864x432 with 2 Axes>"
      ]
     },
     "metadata": {
      "needs_background": "light"
     },
     "output_type": "display_data"
    }
   ],
   "source": [
    "#Plotting f1 scores as a heatmap\n",
    "plt.figure(figsize = (12,6))\n",
    "data = np.asarray(f1_score_table).reshape(16,7)\n",
    "data = pd.DataFrame(data, index=selected_labels)\n",
    "plot = sns.heatmap(data, annot= True)\n",
    "plt.show()"
   ]
  },
  {
   "cell_type": "markdown",
   "metadata": {
    "ExecuteTime": {
     "end_time": "2021-10-20T04:37:59.668645Z",
     "start_time": "2021-10-20T04:37:59.547911Z"
    }
   },
   "source": [
    "Based on the F1-score heatmap, the KNeighbor model is able to accurately classify people who have never used (CL0) the particular drug for most of the drugs. For caffeine, the model is able to classify people who have taken it the previous day (i.e. assumingly daily coffee drinkers). Interestingly for Cannabis, the model is also able to somewhat classify people who either have never used it or those who use have used it the previous day."
   ]
  },
  {
   "cell_type": "markdown",
   "metadata": {},
   "source": [
    "### Running a binary classification model for 3 labels out of 18"
   ]
  },
  {
   "cell_type": "markdown",
   "metadata": {},
   "source": [
    "#### Resetting labels to binary"
   ]
  },
  {
   "cell_type": "code",
   "execution_count": 54,
   "metadata": {
    "ExecuteTime": {
     "end_time": "2021-10-22T06:17:35.032935Z",
     "start_time": "2021-10-22T06:17:34.977073Z"
    }
   },
   "outputs": [],
   "source": [
    "#Creating copy of drug data for reclassing drugs as binary\n",
    "drug_data_bin_1 = drug_data.copy(deep=True)\n",
    "drug_data_bin_2 = drug_data.copy(deep=True)\n",
    "drug_data_bin_3 = drug_data.copy(deep=True)\n",
    "#Resetting drug classes as binary (numeric) values based on one class (class 0) the variable \"Used in Last Decade\" and the remaining variables for the other class (class 1)\n",
    "for i in drug_columns:\n",
    "    drug_data_bin_1[i] = drug_data_bin_1[i].map({'CL0': 1, 'CL1': 1, 'CL2': 0, 'CL3': 1, 'CL4': 1, 'CL5': 1, 'CL6': 1})\n",
    "    drug_data_bin_2[i] = drug_data_bin_2[i].map({'CL0': 1, 'CL1': 1, 'CL2': 0, 'CL3': 0, 'CL4': 1, 'CL5': 1, 'CL6': 1})\n",
    "    drug_data_bin_3[i] = drug_data_bin_3[i].map({'CL0': 1, 'CL1': 1, 'CL2': 0, 'CL3': 0, 'CL4': 0, 'CL5': 1, 'CL6': 1})"
   ]
  },
  {
   "cell_type": "markdown",
   "metadata": {},
   "source": [
    "#### Running a KNeighbor models using the new binaru classes Class 0 to classify use of 3 selected drugs"
   ]
  },
  {
   "cell_type": "code",
   "execution_count": 55,
   "metadata": {
    "ExecuteTime": {
     "end_time": "2021-10-22T06:17:39.370984Z",
     "start_time": "2021-10-22T06:17:39.366691Z"
    }
   },
   "outputs": [],
   "source": [
    "def run_binary_reclassified(data1, data2, data3,class_labels):\n",
    "    #Initializing f1 score tables for each class\n",
    "    f1_score_table_last = []\n",
    "    #Choosing drugs as labels\n",
    "    drug_labels = ['Cannabis','Cocaine','Meth']\n",
    "    #Setting dataset with different Class 0 variables\n",
    "    selected_data = {'Last Decade' : data1,\n",
    "                     'Last Decade and Last Year' : data2, \n",
    "                     'Last Decade, Last Year and Last Month' : data3}\n",
    "    #Running the classification models for the rest of the labels\n",
    "    for data in selected_data.keys():\n",
    "        print(\"\\033[1mFor new Class 0 variable(s): Used in\",data,\"\\033[0m\")\n",
    "        for labels in drug_labels:\n",
    "            models = fit_multiclass_f1_none(model=KNeighborsClassifier(n_neighbors=15), label_name= selected_data[data][labels],classes=2)\n",
    "            f1_score_table_last.append(models[1].tolist())\n",
    "    \n",
    "    print(\"\\033[1mF1-scores per class of the selected drugs as heatmaps\\033[0m\")\n",
    "    plot_heatmap(f1_score_table_last,drug_labels,class_labels)"
   ]
  },
  {
   "cell_type": "code",
   "execution_count": 56,
   "metadata": {
    "ExecuteTime": {
     "end_time": "2021-10-22T06:17:42.587436Z",
     "start_time": "2021-10-22T06:17:42.583230Z"
    }
   },
   "outputs": [],
   "source": [
    "def plot_heatmap(data,drug_labels,class_labels):\n",
    "    #Reshapping f1 score table\n",
    "    data1 = np.asarray(data).reshape (3,3,2)\n",
    "    #Plotting f1 scores as a heatmap\n",
    "    fig, axs = plt.subplots(ncols=3,figsize=(19, 2))\n",
    "    sns.heatmap(data1[0], annot= True, yticklabels=drug_labels, ax=axs[0]).set_title(class_labels[0])\n",
    "    sns.heatmap(data1[1], annot= True, yticklabels=drug_labels, ax=axs[1]).set_title(class_labels[1])\n",
    "    sns.heatmap(data1[2], annot= True, yticklabels=drug_labels, ax=axs[2]).set_title(class_labels[2])"
   ]
  },
  {
   "cell_type": "code",
   "execution_count": 57,
   "metadata": {
    "ExecuteTime": {
     "end_time": "2021-10-22T06:17:45.655293Z",
     "start_time": "2021-10-22T06:17:44.104273Z"
    }
   },
   "outputs": [
    {
     "name": "stdout",
     "output_type": "stream",
     "text": [
      "\u001b[1mFor new Class 0 variable(s): Used in Last Decade \u001b[0m\n",
      "Accuracy scores for model: KNeighborsClassifier(n_neighbors=15) on predicting: Cannabis\n",
      "Training set score: 0.853\n",
      "Test set score: 0.881\n",
      "F1-score (weighted): 0.830\n",
      "\n",
      "Accuracy scores for model: KNeighborsClassifier(n_neighbors=15) on predicting: Cocaine\n",
      "Training set score: 0.849\n",
      "Test set score: 0.889\n",
      "F1-score (weighted): 0.836\n",
      "\n",
      "Accuracy scores for model: KNeighborsClassifier(n_neighbors=15) on predicting: Meth\n",
      "Training set score: 0.945\n",
      "Test set score: 0.963\n",
      "F1-score (weighted): 0.945\n",
      "\n",
      "\u001b[1mFor new Class 0 variable(s): Used in Last Decade and Last Year \u001b[0m\n",
      "Accuracy scores for model: KNeighborsClassifier(n_neighbors=15) on predicting: Cannabis\n",
      "Training set score: 0.749\n",
      "Test set score: 0.767\n",
      "F1-score (weighted): 0.699\n",
      "\n",
      "Accuracy scores for model: KNeighborsClassifier(n_neighbors=15) on predicting: Cocaine\n",
      "Training set score: 0.750\n",
      "Test set score: 0.735\n",
      "F1-score (weighted): 0.685\n",
      "\n",
      "Accuracy scores for model: KNeighborsClassifier(n_neighbors=15) on predicting: Meth\n",
      "Training set score: 0.869\n",
      "Test set score: 0.878\n",
      "F1-score (weighted): 0.826\n",
      "\n",
      "\u001b[1mFor new Class 0 variable(s): Used in Last Decade, Last Year and Last Month \u001b[0m\n",
      "Accuracy scores for model: KNeighborsClassifier(n_neighbors=15) on predicting: Cannabis\n",
      "Training set score: 0.700\n",
      "Test set score: 0.650\n",
      "F1-score (weighted): 0.585\n",
      "\n",
      "Accuracy scores for model: KNeighborsClassifier(n_neighbors=15) on predicting: Cocaine\n",
      "Training set score: 0.735\n",
      "Test set score: 0.684\n",
      "F1-score (weighted): 0.668\n",
      "\n",
      "Accuracy scores for model: KNeighborsClassifier(n_neighbors=15) on predicting: Meth\n",
      "Training set score: 0.853\n",
      "Test set score: 0.838\n",
      "F1-score (weighted): 0.798\n",
      "\n",
      "\u001b[1mF1-scores per class of the selected drugs as heatmaps\u001b[0m\n"
     ]
    },
    {
     "data": {
      "image/png": "[encoded data removed]",
      "text/plain": [
       "<Figure size 1368x144 with 6 Axes>"
      ]
     },
     "metadata": {
      "needs_background": "light"
     },
     "output_type": "display_data"
    }
   ],
   "source": [
    "#Setting plot labels\n",
    "class_labels = ['Used in Last: Decade','Used in Last: Decade | Year','Used in Last: Decade | Year | Month']\n",
    "#running the models and plotting scores\n",
    "run_binary_reclassified(drug_data_bin_1,drug_data_bin_2,drug_data_bin_3,class_labels=class_labels)"
   ]
  },
  {
   "cell_type": "markdown",
   "metadata": {},
   "source": [
    "Re-classifiying the classes into binary category as Used in Last Decade = 0 and the rest = 1 did not really improve the performance of the model in classifying people who have used the 3 drugs in the last decade, when looking at the F1-scores of both classes. However, the model was able to classify all the rest. The second scenario where Class 0 was set as Used in Last Decade or in the Last Year, the model also did not perform that well in classifying Class 0. Of the three, the third model performed just slightly better in balancing the F1-scores of the three drugs for both classes.\n",
    "\n",
    "With that said, it still would be worth to consider other ways of re-classifying the classes. I am keen to explore grouping together Never Used, Used Last in over a decade and Used in the Last Decade as Class 0, i.e. I want to classify people who have never used or who have stopped using drugs for a long time. I'm doing an extra exploration of this below."
   ]
  },
  {
   "cell_type": "markdown",
   "metadata": {},
   "source": [
    "#### Extra exploration: Classifying People who never used drugs or who have stopped using drugs for a long time"
   ]
  },
  {
   "cell_type": "code",
   "execution_count": 58,
   "metadata": {
    "ExecuteTime": {
     "end_time": "2021-10-22T06:17:52.519432Z",
     "start_time": "2021-10-22T06:17:52.462719Z"
    }
   },
   "outputs": [],
   "source": [
    "#Creating copy of drug data for reclassing drugs as binary\n",
    "drug_data_extra_1 = drug_data.copy(deep=True)\n",
    "drug_data_extra_2 = drug_data.copy(deep=True)\n",
    "drug_data_extra_3 = drug_data.copy(deep=True)\n",
    "#Resetting drug classes as binary (numeric) values based on one class (class 0) the variable \"Used in Last Decade\" and the remaining variables for the other class (class 1)\n",
    "for i in drug_columns:\n",
    "    drug_data_extra_1[i] = drug_data_extra_1[i].map({'CL0': 0, 'CL1': 1, 'CL2': 1, 'CL3': 1, 'CL4': 1, 'CL5': 1, 'CL6': 1})\n",
    "    drug_data_extra_2[i] = drug_data_extra_2[i].map({'CL0': 0, 'CL1': 0, 'CL2': 1, 'CL3': 1, 'CL4': 1, 'CL5': 1, 'CL6': 1})\n",
    "    drug_data_extra_3[i] = drug_data_extra_3[i].map({'CL0': 0, 'CL1': 0, 'CL2': 1, 'CL3': 0, 'CL4': 1, 'CL5': 1, 'CL6': 1})"
   ]
  },
  {
   "cell_type": "code",
   "execution_count": 59,
   "metadata": {
    "ExecuteTime": {
     "end_time": "2021-10-22T06:17:55.387186Z",
     "start_time": "2021-10-22T06:17:53.806572Z"
    }
   },
   "outputs": [
    {
     "name": "stdout",
     "output_type": "stream",
     "text": [
      "\u001b[1mFor new Class 0 variable(s): Used in Last Decade \u001b[0m\n",
      "Accuracy scores for model: KNeighborsClassifier(n_neighbors=15) on predicting: Cannabis\n",
      "Training set score: 0.821\n",
      "Test set score: 0.817\n",
      "F1-score (weighted): 0.810\n",
      "\n",
      "Accuracy scores for model: KNeighborsClassifier(n_neighbors=15) on predicting: Cocaine\n",
      "Training set score: 0.712\n",
      "Test set score: 0.674\n",
      "F1-score (weighted): 0.671\n",
      "\n",
      "Accuracy scores for model: KNeighborsClassifier(n_neighbors=15) on predicting: Meth\n",
      "Training set score: 0.795\n",
      "Test set score: 0.793\n",
      "F1-score (weighted): 0.768\n",
      "\n",
      "\u001b[1mFor new Class 0 variable(s): Used in Last Decade and Last Year \u001b[0m\n",
      "Accuracy scores for model: KNeighborsClassifier(n_neighbors=15) on predicting: Cannabis\n",
      "Training set score: 0.814\n",
      "Test set score: 0.812\n",
      "F1-score (weighted): 0.814\n",
      "\n",
      "Accuracy scores for model: KNeighborsClassifier(n_neighbors=15) on predicting: Cocaine\n",
      "Training set score: 0.729\n",
      "Test set score: 0.703\n",
      "F1-score (weighted): 0.700\n",
      "\n",
      "Accuracy scores for model: KNeighborsClassifier(n_neighbors=15) on predicting: Meth\n",
      "Training set score: 0.812\n",
      "Test set score: 0.817\n",
      "F1-score (weighted): 0.798\n",
      "\n",
      "\u001b[1mFor new Class 0 variable(s): Used in Last Decade, Last Year and Last Month \u001b[0m\n",
      "Accuracy scores for model: KNeighborsClassifier(n_neighbors=15) on predicting: Cannabis\n",
      "Training set score: 0.737\n",
      "Test set score: 0.745\n",
      "F1-score (weighted): 0.746\n",
      "\n",
      "Accuracy scores for model: KNeighborsClassifier(n_neighbors=15) on predicting: Cocaine\n",
      "Training set score: 0.771\n",
      "Test set score: 0.788\n",
      "F1-score (weighted): 0.722\n",
      "\n",
      "Accuracy scores for model: KNeighborsClassifier(n_neighbors=15) on predicting: Meth\n",
      "Training set score: 0.861\n",
      "Test set score: 0.862\n",
      "F1-score (weighted): 0.810\n",
      "\n",
      "\u001b[1mF1-scores per class of the selected drugs as heatmaps\u001b[0m\n"
     ]
    },
    {
     "data": {
      "image/png": "[encoded data removed]",
      "text/plain": [
       "<Figure size 1368x144 with 6 Axes>"
      ]
     },
     "metadata": {
      "needs_background": "light"
     },
     "output_type": "display_data"
    }
   ],
   "source": [
    "#Setting plot labels\n",
    "class_labels = ['Never Used','Never|Decade+','Never|Decade+|Last Decade']\n",
    "#running the models and plotting scores\n",
    "run_binary_reclassified(drug_data_extra_1,drug_data_extra_2,drug_data_extra_3,class_labels=class_labels)"
   ]
  },
  {
   "cell_type": "markdown",
   "metadata": {},
   "source": [
    "As we can see, compared with the previous scenarios, all three groupings have performed better in classifying people who have either never used drugs or who have stopped using for a long time. Looking at the F1-scores, the second model has particularly performed well in balancing being able to classify both classes correctly."
   ]
  }
 ],
 "metadata": {
  "hide_input": false,
  "kernelspec": {
   "display_name": "Python 3 (ipykernel)",
   "language": "python",
   "name": "python3"
  },
  "language_info": {
   "codemirror_mode": {
    "name": "ipython",
    "version": 3
   },
   "file_extension": ".py",
   "mimetype": "text/x-python",
   "name": "python",
   "nbconvert_exporter": "python",
   "pygments_lexer": "ipython3",
   "version": "3.7.8"
  }
 },
 "nbformat": 4,
 "nbformat_minor": 4
}
