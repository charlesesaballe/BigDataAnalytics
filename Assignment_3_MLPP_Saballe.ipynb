{
 "cells": [
  {
   "cell_type": "markdown",
   "metadata": {},
   "source": [
    "# Assignment 3"
   ]
  },
  {
   "cell_type": "markdown",
   "metadata": {},
   "source": [
    "### Updating test environment"
   ]
  },
  {
   "cell_type": "code",
   "execution_count": null,
   "metadata": {},
   "outputs": [],
   "source": [
    "#Updating and restarting sklearn\n",
    "!pip install --upgrade scikit-learn --quiet"
   ]
  },
  {
   "cell_type": "code",
   "execution_count": null,
   "metadata": {},
   "outputs": [],
   "source": [
    "import sklearn\n",
    "sklearn.__version__"
   ]
  },
  {
   "cell_type": "code",
   "execution_count": null,
   "metadata": {},
   "outputs": [],
   "source": [
    "!pip install --upgrade seaborn==0.11.2"
   ]
  },
  {
   "cell_type": "code",
   "execution_count": null,
   "metadata": {},
   "outputs": [],
   "source": [
    "!pip install xlrd"
   ]
  },
  {
   "cell_type": "code",
   "execution_count": null,
   "metadata": {},
   "outputs": [],
   "source": [
    "# First upgrade the environment.\n",
    "import pip\n",
    "from subprocess import run\n",
    "# add what you will need\n",
    "modules =[\n",
    "    'matplotlib', \n",
    "    'numpy',\n",
    "    'pandas',\n",
    "    'time',\n",
    "]\n",
    "proc = run(f'pip install {\" \".join(modules)} --upgrade --no-input', \n",
    "       shell=True, \n",
    "       text=True, \n",
    "       capture_output=True, \n",
    "       timeout=120) #a couple of minutes\n",
    "print(proc.stderr)"
   ]
  },
  {
   "cell_type": "markdown",
   "metadata": {},
   "source": [
    "## Collecting and importing needed libraries"
   ]
  },
  {
   "cell_type": "code",
   "execution_count": 1,
   "metadata": {
    "ExecuteTime": {
     "end_time": "2021-11-05T21:25:25.337600Z",
     "start_time": "2021-11-05T21:25:23.525321Z"
    }
   },
   "outputs": [],
   "source": [
    "#Importing needed libraries\n",
    "import pandas as pd\n",
    "import numpy as np\n",
    "from pandas import set_option\n",
    "import seaborn as sns\n",
    "from time import time\n",
    "\n",
    "from sklearn.model_selection import train_test_split\n",
    "from sklearn.preprocessing import LabelBinarizer\n",
    "from sklearn.metrics import roc_curve\n",
    "\n",
    "from sklearn.model_selection import cross_val_score, GridSearchCV\n",
    "from sklearn.pipeline import Pipeline\n",
    "\n",
    "from sklearn.preprocessing import StandardScaler, MinMaxScaler\n",
    "from sklearn.linear_model import LogisticRegression\n",
    "from sklearn.svm import LinearSVC, SVC\n",
    "from sklearn.ensemble import RandomForestClassifier, GradientBoostingClassifier\n",
    "from sklearn.metrics import confusion_matrix, accuracy_score, f1_score, roc_auc_score\n",
    "from sklearn.neighbors import KNeighborsClassifier\n",
    "from sklearn.naive_bayes import GaussianNB\n",
    "\n",
    "import matplotlib.pyplot as plt\n",
    "\n",
    "import warnings\n",
    "warnings.filterwarnings(\"ignore\", category=DeprecationWarning) \n",
    "warnings.filterwarnings(\"ignore\", category=FutureWarning)\n",
    "\n",
    "np.set_printoptions(precision=2)"
   ]
  },
  {
   "cell_type": "markdown",
   "metadata": {},
   "source": [
    "# Task 1 (7 points):\n",
    "\n",
    "* Download the data (*sonar.all-data*) from the *Sonar, Mines vs. Rocks Data Set*: https://archive.ics.uci.edu/ml/datasets/Connectionist+Bench+(Sonar,+Mines+vs.+Rocks)\n",
    "* Substitute the categories M and R of the last column for integers.\n",
    "* Find the best parameters on the validation set using gridsearch (min. 2 parameters) for one model.\n",
    "* Plot a heatmap of the parameters. Find the best set of parameters. Comment your results.\n",
    "* Plot a ROC curve. Comment your results."
   ]
  },
  {
   "cell_type": "markdown",
   "metadata": {},
   "source": [
    "## Reading data and encoding the Label categories"
   ]
  },
  {
   "cell_type": "code",
   "execution_count": 2,
   "metadata": {
    "ExecuteTime": {
     "end_time": "2021-11-05T21:25:30.292237Z",
     "start_time": "2021-11-05T21:25:29.213006Z"
    }
   },
   "outputs": [],
   "source": [
    "#Reading and loading the data set for Task 1\n",
    "url = 'https://archive.ics.uci.edu/ml/machine-learning-databases/undocumented/connectionist-bench/sonar/sonar.all-data'\n",
    "data_1 = pd.read_csv(url, header=None)"
   ]
  },
  {
   "cell_type": "code",
   "execution_count": 3,
   "metadata": {
    "ExecuteTime": {
     "end_time": "2021-11-05T21:25:31.087443Z",
     "start_time": "2021-11-05T21:25:31.082776Z"
    }
   },
   "outputs": [],
   "source": [
    "#Substituting the categories M and R of the last column for integers\n",
    "data_1[60] = LabelBinarizer().fit_transform(data_1[60])"
   ]
  },
  {
   "cell_type": "markdown",
   "metadata": {},
   "source": [
    "## Splitting the data into features/labels, training/validation/test sets "
   ]
  },
  {
   "cell_type": "code",
   "execution_count": 4,
   "metadata": {
    "ExecuteTime": {
     "end_time": "2021-11-05T21:25:34.692952Z",
     "start_time": "2021-11-05T21:25:34.689087Z"
    }
   },
   "outputs": [],
   "source": [
    "#Splitting data into features and label\n",
    "X_data = data_1.iloc[:,0:60]\n",
    "y_data = data_1[60]"
   ]
  },
  {
   "cell_type": "code",
   "execution_count": 5,
   "metadata": {
    "ExecuteTime": {
     "end_time": "2021-11-05T21:25:40.767883Z",
     "start_time": "2021-11-05T21:25:40.761182Z"
    }
   },
   "outputs": [
    {
     "name": "stdout",
     "output_type": "stream",
     "text": [
      "Size of training set: 117 | Size of validation set: 39 | Size of test set: 52\n",
      "\n"
     ]
    }
   ],
   "source": [
    "#Splitting data into training+validation and test\n",
    "X_trainval, X_test, y_trainval, y_test = train_test_split(X_data, y_data, random_state=10)\n",
    "\n",
    "#Splitting train+validation set into training and validation sets\n",
    "X_train, X_valid, y_train, y_valid = train_test_split(X_trainval, y_trainval, random_state=10)\n",
    "\n",
    "print(\"Size of training set: {} | Size of validation set: {} | Size of test set:\" \n",
    "      \" {}\\n\".format(X_train.shape[0], X_valid.shape[0], X_test.shape[0]))"
   ]
  },
  {
   "cell_type": "markdown",
   "metadata": {},
   "source": [
    "## Creating Pipeline for scaling and classification"
   ]
  },
  {
   "cell_type": "code",
   "execution_count": 6,
   "metadata": {
    "ExecuteTime": {
     "end_time": "2021-11-05T21:25:44.280106Z",
     "start_time": "2021-11-05T21:25:44.276848Z"
    }
   },
   "outputs": [],
   "source": [
    "#Creating a function for running the pipeline for scaling and classification\n",
    "def run_pipeline(sca,mod):\n",
    "    scaler = sca\n",
    "    model = mod\n",
    "    pipe = Pipeline([(\"scaler\", scaler),(\"model\", model)])\n",
    "    return pipe"
   ]
  },
  {
   "cell_type": "markdown",
   "metadata": {},
   "source": [
    "## Running baseline model in training and test datasets"
   ]
  },
  {
   "cell_type": "code",
   "execution_count": 7,
   "metadata": {
    "ExecuteTime": {
     "end_time": "2021-11-05T21:25:47.124402Z",
     "start_time": "2021-11-05T21:25:46.954929Z"
    }
   },
   "outputs": [
    {
     "name": "stdout",
     "output_type": "stream",
     "text": [
      "Validation score: 0.79\n"
     ]
    }
   ],
   "source": [
    "#Running the classifier model on the training data using the pipeline\n",
    "pipe1 = run_pipeline(sca=StandardScaler(),mod=GradientBoostingClassifier(random_state=11))\n",
    "model_train = pipe1.fit(X_train, y_train)\n",
    "\n",
    "#Scoring and printing the model using the validation data\n",
    "val_score = model_train.score(X_valid, y_valid)\n",
    "print(\"Validation score: {:.2f}\".format(val_score))"
   ]
  },
  {
   "cell_type": "code",
   "execution_count": 8,
   "metadata": {
    "ExecuteTime": {
     "end_time": "2021-11-05T21:25:49.941362Z",
     "start_time": "2021-11-05T21:25:49.714925Z"
    }
   },
   "outputs": [
    {
     "name": "stdout",
     "output_type": "stream",
     "text": [
      "Test score: 0.79\n"
     ]
    }
   ],
   "source": [
    "#Building the model on training+validation set using the pipeline\n",
    "model_trainval = pipe1.fit(X_trainval,y_trainval)\n",
    "\n",
    "#Scoring the model using the test data\n",
    "test_score = model_trainval.score(X_test, y_test)\n",
    "print(\"Test score: {:.2f}\".format(test_score))"
   ]
  },
  {
   "cell_type": "markdown",
   "metadata": {},
   "source": [
    "## Running gridsearch to find the best parameters"
   ]
  },
  {
   "cell_type": "code",
   "execution_count": 9,
   "metadata": {
    "ExecuteTime": {
     "end_time": "2021-11-05T21:25:54.843115Z",
     "start_time": "2021-11-05T21:25:54.839303Z"
    }
   },
   "outputs": [],
   "source": [
    "#Setting the parameter grid values\n",
    "ccp_alpha = [0.0001, 0.001, 0.01, 0.1, 1]\n",
    "max_features= [5, 10, 20, 40, 60]\n",
    "param_grid = {'model__ccp_alpha': ccp_alpha,\n",
    "              'model__max_features': max_features}"
   ]
  },
  {
   "cell_type": "code",
   "execution_count": 10,
   "metadata": {
    "ExecuteTime": {
     "end_time": "2021-11-05T21:26:04.117693Z",
     "start_time": "2021-11-05T21:25:57.953412Z"
    }
   },
   "outputs": [
    {
     "data": {
      "text/plain": [
       "GridSearchCV(estimator=Pipeline(steps=[('scaler', StandardScaler()),\n",
       "                                       ('model',\n",
       "                                        GradientBoostingClassifier(random_state=11))]),\n",
       "             param_grid={'model__ccp_alpha': [0.0001, 0.001, 0.01, 0.1, 1],\n",
       "                         'model__max_features': [5, 10, 20, 40, 60]})"
      ]
     },
     "execution_count": 10,
     "metadata": {},
     "output_type": "execute_result"
    }
   ],
   "source": [
    "#Setting the grid search using the pipeline and parameter grids and fitting grid on the validation data\n",
    "grid_search = GridSearchCV(pipe1, param_grid)\n",
    "grid_search.fit(X_valid, y_valid)"
   ]
  },
  {
   "cell_type": "markdown",
   "metadata": {},
   "source": [
    "### Plotting Heatmap of Parameters"
   ]
  },
  {
   "cell_type": "code",
   "execution_count": 11,
   "metadata": {
    "ExecuteTime": {
     "end_time": "2021-11-05T21:26:25.491158Z",
     "start_time": "2021-11-05T21:26:25.129429Z"
    }
   },
   "outputs": [
    {
     "data": {
      "text/plain": [
       "<AxesSubplot:xlabel='max_features', ylabel='ccp_alpha'>"
      ]
     },
     "execution_count": 11,
     "metadata": {},
     "output_type": "execute_result"
    },
    {
     "data": {
      "image/png": "[encoded data removed]",
      "text/plain": [
       "<Figure size 504x360 with 2 Axes>"
      ]
     },
     "metadata": {
      "needs_background": "light"
     },
     "output_type": "display_data"
    }
   ],
   "source": [
    "#Preparing the scores for plotting in the heatmap\n",
    "scores = pd.DataFrame()\n",
    "scores['test_scores']= grid_search.cv_results_['mean_test_score']\n",
    "scores['ccp_alpha']= grid_search.cv_results_['param_model__ccp_alpha']\n",
    "scores['max_features']= grid_search.cv_results_['param_model__max_features']\n",
    "scores = scores.pivot('ccp_alpha', 'max_features', 'test_scores')\n",
    "\n",
    "#Plotting the heatmap\n",
    "plt.figure(figsize=(7, 5))\n",
    "sns.heatmap(scores, annot= True)"
   ]
  },
  {
   "cell_type": "markdown",
   "metadata": {
    "ExecuteTime": {
     "end_time": "2021-11-04T03:01:51.095237Z",
     "start_time": "2021-11-04T03:01:51.088383Z"
    }
   },
   "source": [
    "Based from the heatmap of accuracy scores plotted with different values of the two parameters, the model performs better at ccp_alpha 0.01 and below and at maximum features equal to 20. The top three combinations are: (ccp_alpha 0.001, max_features = 20), (ccp_alpha 0.01, max_features = 20) and (ccp_alpha 0.01, max_features = 5). These achieved scores of 0.90\n",
    "\n",
    "We see the scores improved from the baseline model where validation score was 0.79."
   ]
  },
  {
   "cell_type": "markdown",
   "metadata": {},
   "source": [
    "### Finding the best set of parameters"
   ]
  },
  {
   "cell_type": "code",
   "execution_count": 12,
   "metadata": {
    "ExecuteTime": {
     "end_time": "2021-11-05T21:26:29.011205Z",
     "start_time": "2021-11-05T21:26:29.000684Z"
    }
   },
   "outputs": [
    {
     "name": "stdout",
     "output_type": "stream",
     "text": [
      "Best parameters: {'model__ccp_alpha': 0.001, 'model__max_features': 20}\n",
      "Best cross-validation score: 0.90\n",
      "\n",
      "Test set score: 0.62\n",
      "Test set AUC: 0.72\n"
     ]
    }
   ],
   "source": [
    "#Printing the best parameters\n",
    "print(\"Best parameters: {}\".format(grid_search.best_params_))\n",
    "print(\"Best cross-validation score: {:.2f}\\n\".format(grid_search.best_score_))\n",
    "print(\"Test set score: {:.2f}\".format(grid_search.score(X_test, y_test)))\n",
    "print(\"Test set AUC: {:.2f}\".format(roc_auc_score(y_test, grid_search.decision_function(X_test))))"
   ]
  },
  {
   "cell_type": "code",
   "execution_count": 13,
   "metadata": {
    "ExecuteTime": {
     "end_time": "2021-11-05T21:26:31.850704Z",
     "start_time": "2021-11-05T21:26:31.748981Z"
    }
   },
   "outputs": [
    {
     "name": "stdout",
     "output_type": "stream",
     "text": [
      "Test score: 0.81\n"
     ]
    }
   ],
   "source": [
    "#Running the classifier model using the best parameters on the training_validation data\n",
    "pipe2 = run_pipeline(sca=StandardScaler(),\n",
    "                     mod=GradientBoostingClassifier(ccp_alpha=grid_search.best_params_['model__ccp_alpha'],\n",
    "                                                    max_features=grid_search.best_params_['model__max_features'], \n",
    "                                                    random_state=11))\n",
    "model_final = pipe2.fit(X_trainval, y_trainval)\n",
    "\n",
    "#Scoring and printing the model using the validation data\n",
    "test_score_final = model_final.score(X_test, y_test)\n",
    "print(\"Test score: {:.2f}\".format(test_score_final))"
   ]
  },
  {
   "cell_type": "markdown",
   "metadata": {},
   "source": [
    "Based from the gridsearch, the best model is the GradientBoostingClassifier with parameters ccp_alpha = 0.001 and max_features = 20. The best cross-validation score was 0.90, and the test set AUC is 0.72.\n",
    "\n",
    "Running this model on the train_validation dataset, the test-score is 0.81 which was an improvement from the test score in the baseline model 0.79. This means that even though we used lesser features, we didn't lose accuracy but in fact even improved it."
   ]
  },
  {
   "cell_type": "markdown",
   "metadata": {},
   "source": [
    "### Plotting the ROC curve"
   ]
  },
  {
   "cell_type": "code",
   "execution_count": 14,
   "metadata": {
    "ExecuteTime": {
     "end_time": "2021-11-05T21:26:34.615766Z",
     "start_time": "2021-11-05T21:26:34.439053Z"
    }
   },
   "outputs": [
    {
     "data": {
      "text/plain": [
       "<matplotlib.legend.Legend at 0x7fc09846fa50>"
      ]
     },
     "execution_count": 14,
     "metadata": {},
     "output_type": "execute_result"
    },
    {
     "data": {
      "image/png": "[encoded data removed]",
      "text/plain": [
       "<Figure size 504x504 with 1 Axes>"
      ]
     },
     "metadata": {
      "needs_background": "light"
     },
     "output_type": "display_data"
    }
   ],
   "source": [
    "#Plotting the ROC curve\n",
    "plt.figure(figsize=(7, 7))\n",
    "\n",
    "fpr, tpr, thresholds = roc_curve(y_test, pipe2.decision_function(X_test))\n",
    "fpr_base, tpr_base, thresholds_base = roc_curve(y_test, pipe1.decision_function(X_test))\n",
    "\n",
    "close_zero = np.argmin(np.abs(thresholds))\n",
    "close_base = np.argmin(np.abs(thresholds_base))\n",
    "\n",
    "plt.plot(fpr, tpr, label=\"ROC Curve (Best Model)\")\n",
    "plt.plot(fpr_base, tpr_base, label=\"ROC Curve (Baseline Model)\")\n",
    "plt.xlabel(\"False Positive Rate\")\n",
    "plt.ylabel(\"True Positive Rate (recall)\")\n",
    "plt.plot(fpr[close_zero], tpr[close_zero], 'o',\n",
    "label=\"threshold zero\", fillstyle=\"none\", c='k', mew=2)\n",
    "plt.plot(fpr_base[close_base], tpr_base[close_base], '^',\n",
    "label=\"threshold base\", fillstyle=\"none\", c='k', mew=2)\n",
    "\n",
    "\n",
    "plt.legend(loc=4)"
   ]
  },
  {
   "cell_type": "markdown",
   "metadata": {
    "ExecuteTime": {
     "end_time": "2021-11-04T02:42:31.337472Z",
     "start_time": "2021-11-04T02:42:31.332112Z"
    }
   },
   "source": [
    "Looking at the Receiver Operating Characteristic curve, we can say that the model can perfrom well in classifying whether the object is metal or a rock - the threshold for the best model suggests that it has sensitivity in correctly classify objects while keeping false positive rate low.\n",
    "\n",
    "Comparing the ROC curvey of the model with optimized parameter (Best) versus the baseline model show improvement in the performance of the model."
   ]
  },
  {
   "cell_type": "markdown",
   "metadata": {},
   "source": [
    "# Task 2 (8 points):\n",
    "\n",
    "Data Set Information:\n",
    "\n",
    "2126 fetal cardiotocograms (CTGs) were automatically processed and the respective diagnostic features measured. The CTGs were also classified by three expert obstetricians and a consensus classification label assigned to each of them. Classification was both with respect to a morphologic pattern (A, B, C. ...) and to a fetal state (N, S, P). Therefore the dataset can be used either for 10-class or 3-class experiments.\n",
    "\n",
    "* Download the data from the *Cardiotocography Data Set*: https://archive.ics.uci.edu/ml/datasets/Cardiotocography\n",
    "* Find the best two models by creating a complete pipeline with different parameters and algorithms. One model should predict the *morphologic pattern* and the other the *fetal state*. \n",
    "* Comment on the time and preformance metrics used in each model."
   ]
  },
  {
   "cell_type": "markdown",
   "metadata": {
    "ExecuteTime": {
     "end_time": "2021-11-05T21:20:27.288205Z",
     "start_time": "2021-11-05T21:20:27.285593Z"
    }
   },
   "source": [
    "## Reading data"
   ]
  },
  {
   "cell_type": "code",
   "execution_count": 15,
   "metadata": {
    "ExecuteTime": {
     "end_time": "2021-11-05T21:26:43.291496Z",
     "start_time": "2021-11-05T21:26:39.232795Z"
    }
   },
   "outputs": [],
   "source": [
    "#Reading data\n",
    "url_2 = 'https://archive.ics.uci.edu/ml/machine-learning-databases/00193/CTG.xls'\n",
    "sheet = 'Data'\n",
    "df = pd.read_excel(url_2, sheet_name=sheet, skiprows=1)"
   ]
  },
  {
   "cell_type": "code",
   "execution_count": 16,
   "metadata": {
    "ExecuteTime": {
     "end_time": "2021-11-05T21:26:45.795045Z",
     "start_time": "2021-11-05T21:26:45.740939Z"
    }
   },
   "outputs": [
    {
     "data": {
      "text/html": [
       "<div>\n",
       "<style scoped>\n",
       "    .dataframe tbody tr th:only-of-type {\n",
       "        vertical-align: middle;\n",
       "    }\n",
       "\n",
       "    .dataframe tbody tr th {\n",
       "        vertical-align: top;\n",
       "    }\n",
       "\n",
       "    .dataframe thead th {\n",
       "        text-align: right;\n",
       "    }\n",
       "</style>\n",
       "<table border=\"1\" class=\"dataframe\">\n",
       "  <thead>\n",
       "    <tr style=\"text-align: right;\">\n",
       "      <th></th>\n",
       "      <th>b</th>\n",
       "      <th>e</th>\n",
       "      <th>AC</th>\n",
       "      <th>FM</th>\n",
       "      <th>UC</th>\n",
       "      <th>DL</th>\n",
       "      <th>DS</th>\n",
       "      <th>DP</th>\n",
       "      <th>DR</th>\n",
       "      <th>LB</th>\n",
       "      <th>...</th>\n",
       "      <th>C</th>\n",
       "      <th>D</th>\n",
       "      <th>E</th>\n",
       "      <th>AD</th>\n",
       "      <th>DE</th>\n",
       "      <th>LD</th>\n",
       "      <th>FS</th>\n",
       "      <th>SUSP</th>\n",
       "      <th>CLASS</th>\n",
       "      <th>NSP</th>\n",
       "    </tr>\n",
       "  </thead>\n",
       "  <tbody>\n",
       "    <tr>\n",
       "      <th>0</th>\n",
       "      <td>240.0</td>\n",
       "      <td>357.0</td>\n",
       "      <td>0.0</td>\n",
       "      <td>0.0</td>\n",
       "      <td>0.0</td>\n",
       "      <td>0.0</td>\n",
       "      <td>0.0</td>\n",
       "      <td>0.0</td>\n",
       "      <td>0.0</td>\n",
       "      <td>120.0</td>\n",
       "      <td>...</td>\n",
       "      <td>-1.0</td>\n",
       "      <td>-1.0</td>\n",
       "      <td>-1.0</td>\n",
       "      <td>-1.0</td>\n",
       "      <td>-1.0</td>\n",
       "      <td>-1.0</td>\n",
       "      <td>1.0</td>\n",
       "      <td>-1.0</td>\n",
       "      <td>9.0</td>\n",
       "      <td>2.0</td>\n",
       "    </tr>\n",
       "    <tr>\n",
       "      <th>1</th>\n",
       "      <td>5.0</td>\n",
       "      <td>632.0</td>\n",
       "      <td>4.0</td>\n",
       "      <td>0.0</td>\n",
       "      <td>4.0</td>\n",
       "      <td>2.0</td>\n",
       "      <td>0.0</td>\n",
       "      <td>0.0</td>\n",
       "      <td>0.0</td>\n",
       "      <td>132.0</td>\n",
       "      <td>...</td>\n",
       "      <td>-1.0</td>\n",
       "      <td>-1.0</td>\n",
       "      <td>-1.0</td>\n",
       "      <td>1.0</td>\n",
       "      <td>-1.0</td>\n",
       "      <td>-1.0</td>\n",
       "      <td>-1.0</td>\n",
       "      <td>-1.0</td>\n",
       "      <td>6.0</td>\n",
       "      <td>1.0</td>\n",
       "    </tr>\n",
       "    <tr>\n",
       "      <th>2</th>\n",
       "      <td>177.0</td>\n",
       "      <td>779.0</td>\n",
       "      <td>2.0</td>\n",
       "      <td>0.0</td>\n",
       "      <td>5.0</td>\n",
       "      <td>2.0</td>\n",
       "      <td>0.0</td>\n",
       "      <td>0.0</td>\n",
       "      <td>0.0</td>\n",
       "      <td>133.0</td>\n",
       "      <td>...</td>\n",
       "      <td>-1.0</td>\n",
       "      <td>-1.0</td>\n",
       "      <td>-1.0</td>\n",
       "      <td>1.0</td>\n",
       "      <td>-1.0</td>\n",
       "      <td>-1.0</td>\n",
       "      <td>-1.0</td>\n",
       "      <td>-1.0</td>\n",
       "      <td>6.0</td>\n",
       "      <td>1.0</td>\n",
       "    </tr>\n",
       "    <tr>\n",
       "      <th>3</th>\n",
       "      <td>411.0</td>\n",
       "      <td>1192.0</td>\n",
       "      <td>2.0</td>\n",
       "      <td>0.0</td>\n",
       "      <td>6.0</td>\n",
       "      <td>2.0</td>\n",
       "      <td>0.0</td>\n",
       "      <td>0.0</td>\n",
       "      <td>0.0</td>\n",
       "      <td>134.0</td>\n",
       "      <td>...</td>\n",
       "      <td>-1.0</td>\n",
       "      <td>-1.0</td>\n",
       "      <td>-1.0</td>\n",
       "      <td>1.0</td>\n",
       "      <td>-1.0</td>\n",
       "      <td>-1.0</td>\n",
       "      <td>-1.0</td>\n",
       "      <td>-1.0</td>\n",
       "      <td>6.0</td>\n",
       "      <td>1.0</td>\n",
       "    </tr>\n",
       "    <tr>\n",
       "      <th>4</th>\n",
       "      <td>533.0</td>\n",
       "      <td>1147.0</td>\n",
       "      <td>4.0</td>\n",
       "      <td>0.0</td>\n",
       "      <td>5.0</td>\n",
       "      <td>0.0</td>\n",
       "      <td>0.0</td>\n",
       "      <td>0.0</td>\n",
       "      <td>0.0</td>\n",
       "      <td>132.0</td>\n",
       "      <td>...</td>\n",
       "      <td>-1.0</td>\n",
       "      <td>-1.0</td>\n",
       "      <td>-1.0</td>\n",
       "      <td>-1.0</td>\n",
       "      <td>-1.0</td>\n",
       "      <td>-1.0</td>\n",
       "      <td>-1.0</td>\n",
       "      <td>-1.0</td>\n",
       "      <td>2.0</td>\n",
       "      <td>1.0</td>\n",
       "    </tr>\n",
       "    <tr>\n",
       "      <th>...</th>\n",
       "      <td>...</td>\n",
       "      <td>...</td>\n",
       "      <td>...</td>\n",
       "      <td>...</td>\n",
       "      <td>...</td>\n",
       "      <td>...</td>\n",
       "      <td>...</td>\n",
       "      <td>...</td>\n",
       "      <td>...</td>\n",
       "      <td>...</td>\n",
       "      <td>...</td>\n",
       "      <td>...</td>\n",
       "      <td>...</td>\n",
       "      <td>...</td>\n",
       "      <td>...</td>\n",
       "      <td>...</td>\n",
       "      <td>...</td>\n",
       "      <td>...</td>\n",
       "      <td>...</td>\n",
       "      <td>...</td>\n",
       "      <td>...</td>\n",
       "    </tr>\n",
       "    <tr>\n",
       "      <th>2121</th>\n",
       "      <td>2059.0</td>\n",
       "      <td>2867.0</td>\n",
       "      <td>0.0</td>\n",
       "      <td>0.0</td>\n",
       "      <td>6.0</td>\n",
       "      <td>0.0</td>\n",
       "      <td>0.0</td>\n",
       "      <td>0.0</td>\n",
       "      <td>0.0</td>\n",
       "      <td>140.0</td>\n",
       "      <td>...</td>\n",
       "      <td>-1.0</td>\n",
       "      <td>-1.0</td>\n",
       "      <td>1.0</td>\n",
       "      <td>-1.0</td>\n",
       "      <td>-1.0</td>\n",
       "      <td>-1.0</td>\n",
       "      <td>-1.0</td>\n",
       "      <td>-1.0</td>\n",
       "      <td>5.0</td>\n",
       "      <td>2.0</td>\n",
       "    </tr>\n",
       "    <tr>\n",
       "      <th>2122</th>\n",
       "      <td>1576.0</td>\n",
       "      <td>2867.0</td>\n",
       "      <td>1.0</td>\n",
       "      <td>0.0</td>\n",
       "      <td>9.0</td>\n",
       "      <td>0.0</td>\n",
       "      <td>0.0</td>\n",
       "      <td>0.0</td>\n",
       "      <td>0.0</td>\n",
       "      <td>140.0</td>\n",
       "      <td>...</td>\n",
       "      <td>-1.0</td>\n",
       "      <td>-1.0</td>\n",
       "      <td>1.0</td>\n",
       "      <td>-1.0</td>\n",
       "      <td>-1.0</td>\n",
       "      <td>-1.0</td>\n",
       "      <td>-1.0</td>\n",
       "      <td>-1.0</td>\n",
       "      <td>5.0</td>\n",
       "      <td>2.0</td>\n",
       "    </tr>\n",
       "    <tr>\n",
       "      <th>2123</th>\n",
       "      <td>1576.0</td>\n",
       "      <td>2596.0</td>\n",
       "      <td>1.0</td>\n",
       "      <td>0.0</td>\n",
       "      <td>7.0</td>\n",
       "      <td>0.0</td>\n",
       "      <td>0.0</td>\n",
       "      <td>0.0</td>\n",
       "      <td>0.0</td>\n",
       "      <td>140.0</td>\n",
       "      <td>...</td>\n",
       "      <td>-1.0</td>\n",
       "      <td>-1.0</td>\n",
       "      <td>1.0</td>\n",
       "      <td>-1.0</td>\n",
       "      <td>-1.0</td>\n",
       "      <td>-1.0</td>\n",
       "      <td>-1.0</td>\n",
       "      <td>-1.0</td>\n",
       "      <td>5.0</td>\n",
       "      <td>2.0</td>\n",
       "    </tr>\n",
       "    <tr>\n",
       "      <th>2124</th>\n",
       "      <td>1576.0</td>\n",
       "      <td>3049.0</td>\n",
       "      <td>1.0</td>\n",
       "      <td>0.0</td>\n",
       "      <td>9.0</td>\n",
       "      <td>0.0</td>\n",
       "      <td>0.0</td>\n",
       "      <td>0.0</td>\n",
       "      <td>0.0</td>\n",
       "      <td>140.0</td>\n",
       "      <td>...</td>\n",
       "      <td>-1.0</td>\n",
       "      <td>-1.0</td>\n",
       "      <td>1.0</td>\n",
       "      <td>-1.0</td>\n",
       "      <td>-1.0</td>\n",
       "      <td>-1.0</td>\n",
       "      <td>-1.0</td>\n",
       "      <td>-1.0</td>\n",
       "      <td>5.0</td>\n",
       "      <td>2.0</td>\n",
       "    </tr>\n",
       "    <tr>\n",
       "      <th>2125</th>\n",
       "      <td>2796.0</td>\n",
       "      <td>3415.0</td>\n",
       "      <td>1.0</td>\n",
       "      <td>1.0</td>\n",
       "      <td>5.0</td>\n",
       "      <td>0.0</td>\n",
       "      <td>0.0</td>\n",
       "      <td>0.0</td>\n",
       "      <td>0.0</td>\n",
       "      <td>142.0</td>\n",
       "      <td>...</td>\n",
       "      <td>-1.0</td>\n",
       "      <td>-1.0</td>\n",
       "      <td>-1.0</td>\n",
       "      <td>-1.0</td>\n",
       "      <td>-1.0</td>\n",
       "      <td>-1.0</td>\n",
       "      <td>-1.0</td>\n",
       "      <td>-1.0</td>\n",
       "      <td>1.0</td>\n",
       "      <td>1.0</td>\n",
       "    </tr>\n",
       "  </tbody>\n",
       "</table>\n",
       "<p>2126 rows × 42 columns</p>\n",
       "</div>"
      ],
      "text/plain": [
       "           b       e   AC   FM   UC   DL   DS   DP   DR     LB  ...    C    D  \\\n",
       "0      240.0   357.0  0.0  0.0  0.0  0.0  0.0  0.0  0.0  120.0  ... -1.0 -1.0   \n",
       "1        5.0   632.0  4.0  0.0  4.0  2.0  0.0  0.0  0.0  132.0  ... -1.0 -1.0   \n",
       "2      177.0   779.0  2.0  0.0  5.0  2.0  0.0  0.0  0.0  133.0  ... -1.0 -1.0   \n",
       "3      411.0  1192.0  2.0  0.0  6.0  2.0  0.0  0.0  0.0  134.0  ... -1.0 -1.0   \n",
       "4      533.0  1147.0  4.0  0.0  5.0  0.0  0.0  0.0  0.0  132.0  ... -1.0 -1.0   \n",
       "...      ...     ...  ...  ...  ...  ...  ...  ...  ...    ...  ...  ...  ...   \n",
       "2121  2059.0  2867.0  0.0  0.0  6.0  0.0  0.0  0.0  0.0  140.0  ... -1.0 -1.0   \n",
       "2122  1576.0  2867.0  1.0  0.0  9.0  0.0  0.0  0.0  0.0  140.0  ... -1.0 -1.0   \n",
       "2123  1576.0  2596.0  1.0  0.0  7.0  0.0  0.0  0.0  0.0  140.0  ... -1.0 -1.0   \n",
       "2124  1576.0  3049.0  1.0  0.0  9.0  0.0  0.0  0.0  0.0  140.0  ... -1.0 -1.0   \n",
       "2125  2796.0  3415.0  1.0  1.0  5.0  0.0  0.0  0.0  0.0  142.0  ... -1.0 -1.0   \n",
       "\n",
       "        E   AD   DE   LD   FS  SUSP  CLASS  NSP  \n",
       "0    -1.0 -1.0 -1.0 -1.0  1.0  -1.0    9.0  2.0  \n",
       "1    -1.0  1.0 -1.0 -1.0 -1.0  -1.0    6.0  1.0  \n",
       "2    -1.0  1.0 -1.0 -1.0 -1.0  -1.0    6.0  1.0  \n",
       "3    -1.0  1.0 -1.0 -1.0 -1.0  -1.0    6.0  1.0  \n",
       "4    -1.0 -1.0 -1.0 -1.0 -1.0  -1.0    2.0  1.0  \n",
       "...   ...  ...  ...  ...  ...   ...    ...  ...  \n",
       "2121  1.0 -1.0 -1.0 -1.0 -1.0  -1.0    5.0  2.0  \n",
       "2122  1.0 -1.0 -1.0 -1.0 -1.0  -1.0    5.0  2.0  \n",
       "2123  1.0 -1.0 -1.0 -1.0 -1.0  -1.0    5.0  2.0  \n",
       "2124  1.0 -1.0 -1.0 -1.0 -1.0  -1.0    5.0  2.0  \n",
       "2125 -1.0 -1.0 -1.0 -1.0 -1.0  -1.0    1.0  1.0  \n",
       "\n",
       "[2126 rows x 42 columns]"
      ]
     },
     "execution_count": 16,
     "metadata": {},
     "output_type": "execute_result"
    }
   ],
   "source": [
    "#Cleaning unnecessary rows\n",
    "df.dropna(axis=1, how='all', inplace=True)\n",
    "df.drop(index=[2126,2127,2128], inplace=True)\n",
    "df"
   ]
  },
  {
   "cell_type": "markdown",
   "metadata": {},
   "source": [
    "## Splitting the data into features/labels, training/validation/test sets"
   ]
  },
  {
   "cell_type": "code",
   "execution_count": 17,
   "metadata": {
    "ExecuteTime": {
     "end_time": "2021-11-05T21:26:51.857693Z",
     "start_time": "2021-11-05T21:26:51.854595Z"
    }
   },
   "outputs": [],
   "source": [
    "#Splitting data into features and label\n",
    "X_data = df.iloc[:,9:30]\n",
    "y_data_class = df['CLASS']\n",
    "y_data_nsp = df['NSP']"
   ]
  },
  {
   "cell_type": "code",
   "execution_count": 18,
   "metadata": {
    "ExecuteTime": {
     "end_time": "2021-11-05T21:26:57.747254Z",
     "start_time": "2021-11-05T21:26:57.739200Z"
    }
   },
   "outputs": [],
   "source": [
    "#Splitting data into training+validation and test for FHR morphologic pattern\n",
    "X_trainval_c, X_test_c, y_trainval_c, y_test_c = train_test_split(X_data, y_data_class, random_state=10)\n",
    "#Splitting train+validation set into training and validation sets for FHR morphologic pattern\n",
    "X_train_c, X_valid_c, y_train_c, y_valid_c = train_test_split(X_trainval_c, y_trainval_c, random_state=10)"
   ]
  },
  {
   "cell_type": "code",
   "execution_count": 19,
   "metadata": {
    "ExecuteTime": {
     "end_time": "2021-11-05T21:26:58.592258Z",
     "start_time": "2021-11-05T21:26:58.586841Z"
    }
   },
   "outputs": [],
   "source": [
    "#Splitting data into training+validation and test for NSP fetal state class\n",
    "X_trainval_n, X_test_n, y_trainval_n, y_test_n = train_test_split(X_data, y_data_nsp, random_state=10)\n",
    "#Splitting train+validation set into training and validation sets for NSP fetal state class\n",
    "X_train_n, X_valid_n, y_train_n, y_valid_n = train_test_split(X_trainval_n, y_trainval_n, random_state=10)"
   ]
  },
  {
   "cell_type": "markdown",
   "metadata": {},
   "source": [
    "## Creating the grids for the different parameters and algorithms"
   ]
  },
  {
   "cell_type": "code",
   "execution_count": 20,
   "metadata": {
    "ExecuteTime": {
     "end_time": "2021-11-05T21:27:02.769403Z",
     "start_time": "2021-11-05T21:27:02.764895Z"
    }
   },
   "outputs": [],
   "source": [
    "#Creating parameter grids for the different parameters and algorithm\n",
    "param_grid_ctg = [\n",
    "    {'scaler': [StandardScaler(), None],\n",
    "     'model': [SVC(max_iter=30000)],\n",
    "     'model__tol': [0.001, 0.01, 0.1],\n",
    "     'model__C': [0.001, 0.01, 0.1]},\n",
    "    {'scaler': [None],\n",
    "     'model': [RandomForestClassifier(n_estimators=100,random_state=10)],\n",
    "     'model__ccp_alpha': [0.001, 0.01, 0.1],\n",
    "     'model__max_features': [5, 10, 15,21]},\n",
    "    {'scaler': [None],\n",
    "     'model': [GradientBoostingClassifier(random_state=10)], \n",
    "     'model__ccp_alpha': [0.001, 0.01, 0.1],\n",
    "     'model__max_features': [5, 10, 15,21]}\n",
    "]"
   ]
  },
  {
   "cell_type": "code",
   "execution_count": 21,
   "metadata": {
    "ExecuteTime": {
     "end_time": "2021-11-05T21:27:03.886506Z",
     "start_time": "2021-11-05T21:27:03.883632Z"
    }
   },
   "outputs": [],
   "source": [
    "#Setting the grid search using the pipeline and parameter grids\n",
    "grid_ctg = GridSearchCV(run_pipeline(sca=StandardScaler(),mod=SVC(max_iter=30000)), param_grid_ctg)"
   ]
  },
  {
   "cell_type": "code",
   "execution_count": 27,
   "metadata": {
    "ExecuteTime": {
     "end_time": "2021-11-05T21:33:54.847136Z",
     "start_time": "2021-11-05T21:33:54.843412Z"
    }
   },
   "outputs": [],
   "source": [
    "#Fitting the grid on data and printing results\n",
    "def fit_grid(X_train,y_train, X_test, y_test):\n",
    "    #Recording time\n",
    "    start = time()\n",
    "    #Fitting the grid on data \n",
    "    grid_ctg.fit(X_train, y_train)\n",
    "    #Printing the results\n",
    "    print(\"The Gridsearch took %.2f seconds for the 3 algorithm with different parameter settings \" \n",
    "          % ((time() - start)))\n",
    "    print(\"Best params:\\n{}\\n\".format(grid_ctg.best_params_))\n",
    "    print(\"Best cross-validation score: {:.2f}\".format(grid_ctg.best_score_))\n",
    "    print(\"Test set score: {:.2f}\".format(grid_ctg.score(X_test, y_test)))"
   ]
  },
  {
   "cell_type": "markdown",
   "metadata": {},
   "source": [
    "## Running the grid using the pipeline to classify the FHR Morphologic pattern"
   ]
  },
  {
   "cell_type": "code",
   "execution_count": 28,
   "metadata": {
    "ExecuteTime": {
     "end_time": "2021-11-05T21:35:08.424406Z",
     "start_time": "2021-11-05T21:33:59.274995Z"
    }
   },
   "outputs": [
    {
     "name": "stdout",
     "output_type": "stream",
     "text": [
      "The Gridsearch took 69.14 seconds for the 3 algorithm with different parameter settings \n",
      "Best params:\n",
      "{'model': GradientBoostingClassifier(ccp_alpha=0.001, max_features=21, random_state=10), 'model__ccp_alpha': 0.001, 'model__max_features': 21, 'scaler': None}\n",
      "\n",
      "Best cross-validation score: 0.83\n",
      "Test set score: 0.81\n"
     ]
    }
   ],
   "source": [
    "#Running the models for FHR morphologic pattern\n",
    "fit_grid(X_train=X_valid_c, y_train=y_valid_c, X_test=X_test_c, y_test=y_test_c)"
   ]
  },
  {
   "cell_type": "markdown",
   "metadata": {},
   "source": [
    "## Running the grid using the pipeline to classify the NSP fetal state"
   ]
  },
  {
   "cell_type": "code",
   "execution_count": 29,
   "metadata": {
    "ExecuteTime": {
     "end_time": "2021-11-05T21:35:44.089090Z",
     "start_time": "2021-11-05T21:35:14.807296Z"
    }
   },
   "outputs": [
    {
     "name": "stdout",
     "output_type": "stream",
     "text": [
      "The Gridsearch took 29.27 seconds for the 3 algorithm with different parameter settings \n",
      "Best params:\n",
      "{'model': GradientBoostingClassifier(ccp_alpha=0.001, max_features=15, random_state=10), 'model__ccp_alpha': 0.001, 'model__max_features': 15, 'scaler': None}\n",
      "\n",
      "Best cross-validation score: 0.90\n",
      "Test set score: 0.94\n"
     ]
    }
   ],
   "source": [
    "#Running the model for the NSP fetal state\n",
    "fit_grid(X_train=X_valid_n, y_train=y_valid_n, X_test=X_test_n, y_test=y_test_n)"
   ]
  },
  {
   "cell_type": "markdown",
   "metadata": {},
   "source": [
    "## Comments on time and Performance metrics"
   ]
  },
  {
   "cell_type": "markdown",
   "metadata": {},
   "source": [
    "The models classifying the morphologic patterns took a much longer time running than the models (seconds) classifying the fetal state (seconds).\n",
    "\n",
    "The best model for classifying the morphologic patterns is the GradientBoostingClassifier with parameters: ccp_alpha=0.001 and max_features=21. This resulted in a cross-validation score of 0.83 and a test score of 81.\n",
    "\n",
    "The best model for classifying the fetal state resulted in the much higher accuracy scores (cross-validation of 0.90 and test score of 0.94). The best model was also GradientBoostingClassifier but with the parameters ccp_alpha=0.001 and max_features=15."
   ]
  },
  {
   "cell_type": "code",
   "execution_count": null,
   "metadata": {},
   "outputs": [],
   "source": []
  }
 ],
 "metadata": {
  "hide_input": false,
  "kernelspec": {
   "display_name": "Python 3 (ipykernel)",
   "language": "python",
   "name": "python3"
  },
  "language_info": {
   "codemirror_mode": {
    "name": "ipython",
    "version": 3
   },
   "file_extension": ".py",
   "mimetype": "text/x-python",
   "name": "python",
   "nbconvert_exporter": "python",
   "pygments_lexer": "ipython3",
   "version": "3.7.8"
  }
 },
 "nbformat": 4,
 "nbformat_minor": 4
}
