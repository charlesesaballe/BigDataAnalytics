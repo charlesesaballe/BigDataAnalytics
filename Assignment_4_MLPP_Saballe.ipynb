{
 "cells": [
  {
   "cell_type": "markdown",
   "metadata": {},
   "source": [
    "# Exercise 4\n",
    "\n",
    "Feature selection:\n",
    "\n",
    "1. You need to load the UCI Arrhythmia dataset\n",
    "https://archive.ics.uci.edu/ml/datasets/arrhythmia\n",
    "* the problem is a multi-class classification\n",
    "\n",
    "2. For comparing the result you need to use kNN (k=3), and compare based on the accuracy with the original dataset (with the all features).\n",
    "\n",
    "2. Run three different types of feature selection methods (Univariate Statistics, model based, and Iterative Feature Selection).\n",
    "* The original data set has 279 features.\n",
    "* You need to run the methods for number_of_features= 20, 50, 100, 150, 200\n",
    "* All the results should show in the same figure (At the end we have just one figure)"
   ]
  },
  {
   "cell_type": "markdown",
   "metadata": {},
   "source": [
    "### Updating Environment"
   ]
  },
  {
   "cell_type": "code",
   "execution_count": null,
   "metadata": {},
   "outputs": [],
   "source": [
    "#Updating and restarting sklearn\n",
    "!pip install --upgrade scikit-learn --quiet"
   ]
  },
  {
   "cell_type": "code",
   "execution_count": null,
   "metadata": {},
   "outputs": [],
   "source": [
    "import sklearn\n",
    "sklearn.__version__"
   ]
  },
  {
   "cell_type": "code",
   "execution_count": null,
   "metadata": {},
   "outputs": [],
   "source": [
    "!pip install --upgrade seaborn==0.11.2"
   ]
  },
  {
   "cell_type": "code",
   "execution_count": null,
   "metadata": {},
   "outputs": [],
   "source": [
    "# First upgrade the environment.\n",
    "import pip\n",
    "from subprocess import run\n",
    "# add what you will need\n",
    "modules =[\n",
    "    'matplotlib', \n",
    "    'numpy',\n",
    "    'pandas',\n",
    "    'prettytable',\n",
    "    'plotly'\n",
    "]\n",
    "proc = run(f'pip install {\" \".join(modules)} --upgrade --no-input', \n",
    "       shell=True, \n",
    "       text=True, \n",
    "       capture_output=True, \n",
    "       timeout=120) #a couple of minutes\n",
    "print(proc.stderr)"
   ]
  },
  {
   "cell_type": "markdown",
   "metadata": {},
   "source": [
    "## Collecting and importing needed libraries"
   ]
  },
  {
   "cell_type": "code",
   "execution_count": 1,
   "metadata": {
    "ExecuteTime": {
     "end_time": "2021-11-02T16:30:20.097698Z",
     "start_time": "2021-11-02T16:30:18.311701Z"
    }
   },
   "outputs": [],
   "source": [
    "import pandas as pd\n",
    "import numpy as np\n",
    "import seaborn as sns   \n",
    "import matplotlib.pyplot as plt\n",
    "from pandas import set_option\n",
    "from prettytable import PrettyTable\n",
    "import plotly.graph_objects as go\n",
    "from pandas import set_option\n",
    "\n",
    "from sklearn.model_selection import train_test_split\n",
    "from sklearn.preprocessing import MinMaxScaler, StandardScaler\n",
    "from sklearn.model_selection import cross_val_score, GridSearchCV\n",
    "from sklearn.impute import KNNImputer\n",
    "from sklearn.pipeline import Pipeline, make_pipeline\n",
    "\n",
    "from sklearn.feature_selection import SelectKBest, SelectFromModel,SelectPercentile, RFE, f_classif, chi2, mutual_info_classif\n",
    "\n",
    "from sklearn.svm import LinearSVC, SVC\n",
    "from sklearn.neighbors import KNeighborsClassifier\n",
    "from sklearn.linear_model import RidgeClassifier, RidgeClassifierCV\n",
    "from sklearn.ensemble import GradientBoostingClassifier, RandomForestClassifier\n",
    "from sklearn.naive_bayes import MultinomialNB \n",
    "\n",
    "from sklearn.metrics import confusion_matrix, accuracy_score, f1_score\n",
    "\n",
    "np.seterr(invalid='ignore')\n",
    "np.set_printoptions(precision=2)"
   ]
  },
  {
   "cell_type": "markdown",
   "metadata": {},
   "source": [
    "## Uploading the data and renaming columns"
   ]
  },
  {
   "cell_type": "code",
   "execution_count": 2,
   "metadata": {
    "ExecuteTime": {
     "end_time": "2021-11-02T16:30:26.692081Z",
     "start_time": "2021-11-02T16:30:25.335554Z"
    }
   },
   "outputs": [],
   "source": [
    "# Uploading the dataset\n",
    "url = 'https://archive.ics.uci.edu/ml/machine-learning-databases/arrhythmia/'\n",
    "file_name = 'arrhythmia.data'\n",
    "data = pd.read_csv(url+file_name,header=None, na_values=\"?\")"
   ]
  },
  {
   "cell_type": "code",
   "execution_count": 3,
   "metadata": {
    "ExecuteTime": {
     "end_time": "2021-11-02T16:30:26.852167Z",
     "start_time": "2021-11-02T16:30:26.842134Z"
    }
   },
   "outputs": [],
   "source": [
    "#Renaming column names\n",
    "col_names = ['Age', 'Sex', 'Height', 'Weight', 'QRS_duration', 'PR_int', 'QT_int', 'T_int', 'P_int', 'QRS', 'T', 'P', 'QRST', 'J','Heart_rate',\n",
    "             'DI_Q_wave','DI_R_wave', 'DI_S_wave','DI_R*_Wave', 'DI_S*_wave','DI_int_deflec', 'DI_ragged_R','DI_diphasic_R',\n",
    "             'DI_ragged_P', 'DI_diphasic_P','DI_ragged_T', 'DI_diphasic_T',\n",
    "             'DII_Q_wave','DII_R_wave', 'DII_S_wave','DII_R*_Wave', 'DII_S*_wave','DII_int_deflec', 'DII_ragged_R','DII_diphasic_R',\n",
    "             'DII_ragged_P', 'DII_diphasic_P','DII_ragged_T', 'DII_diphasic_T',\n",
    "             'DIII_Q_wave','DIII_R_wave', 'DIII_S_wave','DIII_R*_Wave', 'DIII_S*_wave','DIII_int_deflec', 'DIII_ragged_R','DIII_diphasic_R',\n",
    "             'DIII_ragged_P', 'DIII_diphasic_P','DIII_ragged_T', 'DIII_diphasic_T',\n",
    "             'AVR_Q_wave','AVR_R_wave', 'AVR_S_wave','AVR_R*_Wave', 'AVR_S*_wave','AVR_int_deflec', 'AVR_ragged_R','AVR_diphasic_R',\n",
    "             'AVR_ragged_P', 'AVR_diphasic_P','AVR_ragged_T', 'AVR_diphasic_T',\n",
    "             'AVL_Q_wave','AVL_R_wave', 'AVL_S_wave','AVL_R*_Wave', 'AVL_S*_wave','AVL_int_deflec', 'AVL_ragged_R','AVL_diphasic_R',\n",
    "             'AVL_ragged_P', 'AVL_diphasic_P','AVL_ragged_T', 'AVL_diphasic_T',\n",
    "             'AVF_Q_wave','AVF_R_wave', 'AVF_S_wave','AVF_R*_Wave', 'AVF_S*_wave','AVF_int_deflec', 'AVF_ragged_R','AVF_diphasic_R',\n",
    "             'AVF_ragged_P', 'AVF_diphasic_P','AVF_ragged_T', 'AVF_diphasic_T',\n",
    "             'V1_Q_wave','V1_R_wave', 'V1_S_wave','V1_R*_Wave', 'V1_S*_wave','V1_int_deflec', 'V1_ragged_R','V1_diphasic_R',\n",
    "             'V1_ragged_P', 'V1_diphasic_P','V1_ragged_T', 'V1_diphasic_T',\n",
    "             'V2_Q_wave','V2_R_wave', 'V2_S_wave','V2_R*_Wave', 'V2_S*_wave','V2_int_deflec', 'V2_ragged_R','V2_diphasic_R',\n",
    "             'V2_ragged_P', 'V2_diphasic_P','V2_ragged_T', 'V2_diphasic_T',\n",
    "             'V3_Q_wave','V3_R_wave', 'V3_S_wave','V3_R*_Wave', 'V3_S*_wave','V3_int_deflec', 'V3_ragged_R','V3_diphasic_R',\n",
    "             'V3_ragged_P', 'V3_diphasic_P','V3_ragged_T', 'V3_diphasic_T',\n",
    "             'V4_Q_wave','V4_R_wave', 'V4_S_wave','V4_R*_Wave', 'V4_S*_wave','V4_int_deflec', 'V4_ragged_R','V4_diphasic_R',\n",
    "             'V4_ragged_P', 'V4_diphasic_P','V4_ragged_T', 'V4_diphasic_T',\n",
    "             'V5_Q_wave','V5_R_wave', 'V5_S_wave','V5_R*_Wave', 'V5_S*_wave','V5_int_deflec', 'V5_ragged_R','V5_diphasic_R',\n",
    "             'V5_ragged_P', 'V5_diphasic_P','V5_ragged_T', 'V5_diphasic_T',\n",
    "             'V6_Q_wave','V6_R_wave', 'V6_S_wave','V6_R*_Wave', 'V6_S*_wave','V6_int_deflec', 'V6_ragged_R','V6_diphasic_R',\n",
    "             'V6_ragged_P', 'V6_diphasic_P','V6_ragged_T', 'V6_diphasic_T',\n",
    "             'DI_Amp_JJ','DI_Amp_Q','DI_Amp_R','DI_Amp_S','DI_Amp_R*','DI_Amp_S*','DI_Amp_P','DI_Amp_T', 'DI_Amp_QRSA','DI_Amp_QRSTA',\n",
    "             'DII_Amp_JJ','DII_Amp_Q','DII_Amp_R','DII_Amp_S','DII_Amp_R*','DII_Amp_S*','DII_Amp_P','DII_Amp_T', 'DII_Amp_QRSA','DII_Amp_QRSTA',\n",
    "             'DIII_Amp_JJ','DIII_Amp_Q','DIII_Amp_R','DIII_Amp_S','DIII_Amp_R*','DIII_Amp_S*','DIII_Amp_P','DIII_Amp_T', 'DIII_Amp_QRSA','DIII_Amp_QRSTA',\n",
    "             'AVR_Amp_JJ','AVR_Amp_Q','AVR_Amp_R','AVR_Amp_S','AVR_Amp_R*','AVR_Amp_S*','AVR_Amp_P','AVR_Amp_T', 'AVR_Amp_QRSA','AVR_Amp_QRSTA',\n",
    "             'AVL_Amp_JJ','AVL_Amp_Q','AVL_Amp_R','AVL_Amp_S','AVL_Amp_R*','AVL_Amp_S*','AVL_Amp_P','AVL_Amp_T', 'AVL_Amp_QRSA','AVL_Amp_QRSTA',\n",
    "             'AVF_Amp_JJ','AVF_Amp_Q','AVF_Amp_R','AVF_Amp_S','AVF_Amp_R*','AVF_Amp_S*','AVF_Amp_P','AVF_Amp_T', 'AVF_Amp_QRSA','AVF_Amp_QRSTA',\n",
    "             'V1_Amp_JJ','V1_Amp_Q','V1_Amp_R','V1_Amp_S','V1_Amp_R*','V1_Amp_S*','V1_Amp_P','V1_Amp_T', 'V1_Amp_QRSA','V1_Amp_QRSTA',\n",
    "             'V2_Amp_JJ','V2_Amp_Q','V2_Amp_R','V2_Amp_S','V2_Amp_R*','V2_Amp_S*','V2_Amp_P','V2_Amp_T', 'V2_Amp_QRSA','V2_Amp_QRSTA',\n",
    "             'V3_Amp_JJ','V3_Amp_Q','V3_Amp_R','V3_Amp_S','V3_Amp_R*','V3_Amp_S*','V3_Amp_P','V3_Amp_T', 'V3_Amp_QRSA','V3_Amp_QRSTA',\n",
    "             'V4_Amp_JJ','V4_Amp_Q','V4_Amp_R','V4_Amp_S','V4_Amp_R*','V4_Amp_S*','V4_Amp_P','V4_Amp_T', 'V4_Amp_QRSA','V4_Amp_QRSTA',\n",
    "             'V5_Amp_JJ','V5_Amp_Q','V5_Amp_R','V5_Amp_S','V5_Amp_R*','V5_Amp_S*','V5_Amp_P','V5_Amp_T', 'V5_Amp_QRSA','V5_Amp_QRSTA',\n",
    "             'V6_Amp_JJ','V6_Amp_Q','V6_Amp_R','V6_Amp_S','V6_Amp_R*','V6_Amp_S*','V6_Amp_P','V6_Amp_T', 'V6_Amp_QRSA','V6_Amp_QRSTA',\n",
    "             'Arrhythmia']\n",
    "data.columns = col_names"
   ]
  },
  {
   "cell_type": "markdown",
   "metadata": {},
   "source": [
    "### Splitting data into features/label, training/validation/test sets"
   ]
  },
  {
   "cell_type": "code",
   "execution_count": 4,
   "metadata": {
    "ExecuteTime": {
     "end_time": "2021-11-02T16:30:29.261524Z",
     "start_time": "2021-11-02T16:30:29.257489Z"
    }
   },
   "outputs": [],
   "source": [
    "#Splitting data into features and label\n",
    "X_data = data.loc[:, data.columns != 'Arrhythmia']\n",
    "y_data = data['Arrhythmia']"
   ]
  },
  {
   "cell_type": "code",
   "execution_count": 5,
   "metadata": {
    "ExecuteTime": {
     "end_time": "2021-11-02T16:30:31.925586Z",
     "start_time": "2021-11-02T16:30:31.917552Z"
    }
   },
   "outputs": [
    {
     "name": "stdout",
     "output_type": "stream",
     "text": [
      "Size of training set: 254 | Size of validation set: 85 | Size of test set: 113\n",
      "\n"
     ]
    }
   ],
   "source": [
    "#Splitting data into training+validation and test\n",
    "X_trainval, X_test, y_trainval, y_test = train_test_split(X_data, y_data, random_state=11)\n",
    "\n",
    "#Splitting train+validation set into training and validation sets\n",
    "X_train, X_valid, y_train, y_valid = train_test_split(X_trainval, y_trainval, random_state=10)\n",
    "\n",
    "print(\"Size of training set: {} | Size of validation set: {} | Size of test set:\" \n",
    "      \" {}\\n\".format(X_train.shape[0], X_valid.shape[0], X_test.shape[0]))"
   ]
  },
  {
   "cell_type": "markdown",
   "metadata": {},
   "source": [
    "### Creating Pipeline for scaling, Imputing missing values and classification"
   ]
  },
  {
   "cell_type": "code",
   "execution_count": 6,
   "metadata": {
    "ExecuteTime": {
     "end_time": "2021-11-02T16:30:36.096722Z",
     "start_time": "2021-11-02T16:30:36.093620Z"
    }
   },
   "outputs": [],
   "source": [
    "#Creating a function for running the pipeline for scaling, imputing missing values, selection and classification\n",
    "def run_pipeline(sca,imp,sel,mod):\n",
    "    scaler = sca\n",
    "    imputer = imp\n",
    "    selection = sel\n",
    "    model = mod\n",
    "    pipe = Pipeline([(\"scaler\", scaler),('imputer', imputer),('select', selection),(\"model\", model)])\n",
    "    return pipe"
   ]
  },
  {
   "cell_type": "markdown",
   "metadata": {},
   "source": [
    "### Running model in training and test datasets"
   ]
  },
  {
   "cell_type": "code",
   "execution_count": 7,
   "metadata": {
    "ExecuteTime": {
     "end_time": "2021-11-02T16:30:38.295366Z",
     "start_time": "2021-11-02T16:30:38.221851Z"
    }
   },
   "outputs": [
    {
     "name": "stdout",
     "output_type": "stream",
     "text": [
      "Validation score: 0.60\n"
     ]
    }
   ],
   "source": [
    "#Running the classifier model on the training data using the pipeline\n",
    "pipe1 = run_pipeline(sca=MinMaxScaler(),imp=KNNImputer(),sel=None,mod=KNeighborsClassifier(n_neighbors=3))\n",
    "model_train = pipe1.fit(X_train, y_train)\n",
    "\n",
    "#Scoring and printing the model using the validation data\n",
    "val_score = model_train.score(X_valid, y_valid)\n",
    "print(\"Validation score: {:.2f}\".format(val_score))"
   ]
  },
  {
   "cell_type": "code",
   "execution_count": 8,
   "metadata": {
    "ExecuteTime": {
     "end_time": "2021-11-02T16:30:41.306871Z",
     "start_time": "2021-11-02T16:30:41.191585Z"
    }
   },
   "outputs": [
    {
     "name": "stdout",
     "output_type": "stream",
     "text": [
      "Test score: 0.58\n"
     ]
    }
   ],
   "source": [
    "#Building the model on training+validation set using the pipeline\n",
    "model_trainval = pipe1.fit(X_trainval,y_trainval)\n",
    "\n",
    "#Scoring the model using the test data\n",
    "test_score = model_trainval.score(X_test, y_test)\n",
    "print(\"Test score: {:.2f}\".format(test_score))"
   ]
  },
  {
   "cell_type": "markdown",
   "metadata": {
    "ExecuteTime": {
     "end_time": "2021-11-01T22:00:30.833793Z",
     "start_time": "2021-11-01T22:00:30.795166Z"
    }
   },
   "source": [
    "### Feature Selection : Univariate Statistics"
   ]
  },
  {
   "cell_type": "code",
   "execution_count": 9,
   "metadata": {
    "ExecuteTime": {
     "end_time": "2021-11-02T16:33:20.363075Z",
     "start_time": "2021-11-02T16:33:20.359745Z"
    }
   },
   "outputs": [],
   "source": [
    "#Defining scaler, imputer, selection and model for Univariate Statistics feature selection\n",
    "scaler = MinMaxScaler()\n",
    "imputer = KNNImputer()\n",
    "selection = SelectKBest()\n",
    "model = KNeighborsClassifier(n_neighbors=3)\n",
    "number_features = [20,50,100,150,200]\n",
    "\n",
    "#Running the pipeline\n",
    "pipe2 = run_pipeline(sca=scaler,imp=imputer,sel=selection,mod=model)"
   ]
  },
  {
   "cell_type": "code",
   "execution_count": 10,
   "metadata": {
    "ExecuteTime": {
     "end_time": "2021-11-02T16:33:21.986720Z",
     "start_time": "2021-11-02T16:33:21.984249Z"
    }
   },
   "outputs": [],
   "source": [
    "#param_grid_uni = {'select__k': [7.168,17.92,35.84,53.76,71.68]}\n",
    "param_grid_uni = {'select__k': number_features}"
   ]
  },
  {
   "cell_type": "code",
   "execution_count": 11,
   "metadata": {
    "ExecuteTime": {
     "end_time": "2021-11-02T16:33:26.131569Z",
     "start_time": "2021-11-02T16:33:23.425814Z"
    }
   },
   "outputs": [
    {
     "name": "stderr",
     "output_type": "stream",
     "text": [
      "/opt/conda/lib/python3.7/site-packages/sklearn/model_selection/_split.py:680: UserWarning: The least populated class in y has only 1 members, which is less than n_splits=10.\n",
      "  UserWarning,\n",
      "/opt/conda/lib/python3.7/site-packages/sklearn/feature_selection/_univariate_selection.py:112: UserWarning: Features [ 19  24  36  47  50  67  69  71  74  83  85 131 132 139 141 143 145 151\n",
      " 156 157 164 204 264 274] are constant.\n",
      "  warnings.warn(\"Features %s are constant.\" % constant_features_idx, UserWarning)\n",
      "/opt/conda/lib/python3.7/site-packages/sklearn/feature_selection/_univariate_selection.py:112: UserWarning: Features [ 19  24  36  47  50  67  69  71  74  83  85 131 132 139 141 143 144 145\n",
      " 151 156 157 164 204 264 274] are constant.\n",
      "  warnings.warn(\"Features %s are constant.\" % constant_features_idx, UserWarning)\n",
      "/opt/conda/lib/python3.7/site-packages/sklearn/feature_selection/_univariate_selection.py:112: UserWarning: Features [ 19  24  36  47  50  60  67  69  71  74  83  85 131 132 139 141 143 145\n",
      " 151 156 157 164 204 264 274] are constant.\n",
      "  warnings.warn(\"Features %s are constant.\" % constant_features_idx, UserWarning)\n",
      "/opt/conda/lib/python3.7/site-packages/sklearn/feature_selection/_univariate_selection.py:112: UserWarning: Features [ 19  24  26  36  47  50  67  69  71  74  83  85 115 131 132 139 141 142\n",
      " 143 145 151 153 156 157 164 204 244 264 274] are constant.\n",
      "  warnings.warn(\"Features %s are constant.\" % constant_features_idx, UserWarning)\n",
      "/opt/conda/lib/python3.7/site-packages/sklearn/feature_selection/_univariate_selection.py:112: UserWarning: Features [ 19  24  36  47  50  55  61  67  69  71  74  83  85  86 129 131 132 139\n",
      " 141 143 145 151 156 157 164 194 204 264 274] are constant.\n",
      "  warnings.warn(\"Features %s are constant.\" % constant_features_idx, UserWarning)\n",
      "/opt/conda/lib/python3.7/site-packages/sklearn/feature_selection/_univariate_selection.py:112: UserWarning: Features [ 19  21  24  31  35  36  37  47  50  67  69  71  74  83  85 131 132 139\n",
      " 141 143 145 151 156 157 164 174 204 264 274] are constant.\n",
      "  warnings.warn(\"Features %s are constant.\" % constant_features_idx, UserWarning)\n",
      "/opt/conda/lib/python3.7/site-packages/sklearn/feature_selection/_univariate_selection.py:112: UserWarning: Features [ 19  24  25  36  47  50  58  67  69  71  74  83  85 131 132 139 141 143\n",
      " 145 151 156 157 164 204 264 274] are constant.\n",
      "  warnings.warn(\"Features %s are constant.\" % constant_features_idx, UserWarning)\n",
      "/opt/conda/lib/python3.7/site-packages/sklearn/feature_selection/_univariate_selection.py:112: UserWarning: Features [ 19  24  36  45  47  50  67  69  71  74  83  85  95 127 131 132 139 141\n",
      " 143 145 151 156 157 164 204 254 264 274] are constant.\n",
      "  warnings.warn(\"Features %s are constant.\" % constant_features_idx, UserWarning)\n",
      "/opt/conda/lib/python3.7/site-packages/sklearn/feature_selection/_univariate_selection.py:112: UserWarning: Features [ 19  24  36  47  50  67  69  71  72  74  83  85 103 131 132 139 141 143\n",
      " 145 151 156 157 164 204 234 264 274] are constant.\n",
      "  warnings.warn(\"Features %s are constant.\" % constant_features_idx, UserWarning)\n",
      "/opt/conda/lib/python3.7/site-packages/sklearn/feature_selection/_univariate_selection.py:113: RuntimeWarning: divide by zero encountered in true_divide\n",
      "  f = msb / msw\n",
      "/opt/conda/lib/python3.7/site-packages/sklearn/feature_selection/_univariate_selection.py:112: UserWarning: Features [ 19  24  36  47  50  67  69  71  74  83  84  85 131 132 139 141 143 145\n",
      " 151 154 156 157 164 204 264 274] are constant.\n",
      "  warnings.warn(\"Features %s are constant.\" % constant_features_idx, UserWarning)\n",
      "/opt/conda/lib/python3.7/site-packages/sklearn/feature_selection/_univariate_selection.py:112: UserWarning: Features [ 19  24  36  47  50  67  69  71  74  83  85 131 132 139 141 143 145 151\n",
      " 156 157 164 204 264 274] are constant.\n",
      "  warnings.warn(\"Features %s are constant.\" % constant_features_idx, UserWarning)\n",
      "/opt/conda/lib/python3.7/site-packages/sklearn/feature_selection/_univariate_selection.py:112: UserWarning: Features [ 19  24  36  47  50  67  69  71  74  83  85 131 132 139 141 143 144 145\n",
      " 151 156 157 164 204 264 274] are constant.\n",
      "  warnings.warn(\"Features %s are constant.\" % constant_features_idx, UserWarning)\n",
      "/opt/conda/lib/python3.7/site-packages/sklearn/feature_selection/_univariate_selection.py:112: UserWarning: Features [ 19  24  36  47  50  60  67  69  71  74  83  85 131 132 139 141 143 145\n",
      " 151 156 157 164 204 264 274] are constant.\n",
      "  warnings.warn(\"Features %s are constant.\" % constant_features_idx, UserWarning)\n",
      "/opt/conda/lib/python3.7/site-packages/sklearn/feature_selection/_univariate_selection.py:112: UserWarning: Features [ 19  24  26  36  47  50  67  69  71  74  83  85 115 131 132 139 141 142\n",
      " 143 145 151 153 156 157 164 204 244 264 274] are constant.\n",
      "  warnings.warn(\"Features %s are constant.\" % constant_features_idx, UserWarning)\n",
      "/opt/conda/lib/python3.7/site-packages/sklearn/feature_selection/_univariate_selection.py:112: UserWarning: Features [ 19  24  36  47  50  55  61  67  69  71  74  83  85  86 129 131 132 139\n",
      " 141 143 145 151 156 157 164 194 204 264 274] are constant.\n",
      "  warnings.warn(\"Features %s are constant.\" % constant_features_idx, UserWarning)\n",
      "/opt/conda/lib/python3.7/site-packages/sklearn/feature_selection/_univariate_selection.py:112: UserWarning: Features [ 19  21  24  31  35  36  37  47  50  67  69  71  74  83  85 131 132 139\n",
      " 141 143 145 151 156 157 164 174 204 264 274] are constant.\n",
      "  warnings.warn(\"Features %s are constant.\" % constant_features_idx, UserWarning)\n",
      "/opt/conda/lib/python3.7/site-packages/sklearn/feature_selection/_univariate_selection.py:112: UserWarning: Features [ 19  24  25  36  47  50  58  67  69  71  74  83  85 131 132 139 141 143\n",
      " 145 151 156 157 164 204 264 274] are constant.\n",
      "  warnings.warn(\"Features %s are constant.\" % constant_features_idx, UserWarning)\n",
      "/opt/conda/lib/python3.7/site-packages/sklearn/feature_selection/_univariate_selection.py:112: UserWarning: Features [ 19  24  36  45  47  50  67  69  71  74  83  85  95 127 131 132 139 141\n",
      " 143 145 151 156 157 164 204 254 264 274] are constant.\n",
      "  warnings.warn(\"Features %s are constant.\" % constant_features_idx, UserWarning)\n",
      "/opt/conda/lib/python3.7/site-packages/sklearn/feature_selection/_univariate_selection.py:112: UserWarning: Features [ 19  24  36  47  50  67  69  71  72  74  83  85 103 131 132 139 141 143\n",
      " 145 151 156 157 164 204 234 264 274] are constant.\n",
      "  warnings.warn(\"Features %s are constant.\" % constant_features_idx, UserWarning)\n",
      "/opt/conda/lib/python3.7/site-packages/sklearn/feature_selection/_univariate_selection.py:113: RuntimeWarning: divide by zero encountered in true_divide\n",
      "  f = msb / msw\n",
      "/opt/conda/lib/python3.7/site-packages/sklearn/feature_selection/_univariate_selection.py:112: UserWarning: Features [ 19  24  36  47  50  67  69  71  74  83  84  85 131 132 139 141 143 145\n",
      " 151 154 156 157 164 204 264 274] are constant.\n",
      "  warnings.warn(\"Features %s are constant.\" % constant_features_idx, UserWarning)\n",
      "/opt/conda/lib/python3.7/site-packages/sklearn/feature_selection/_univariate_selection.py:112: UserWarning: Features [ 19  24  36  47  50  67  69  71  74  83  85 131 132 139 141 143 145 151\n",
      " 156 157 164 204 264 274] are constant.\n",
      "  warnings.warn(\"Features %s are constant.\" % constant_features_idx, UserWarning)\n",
      "/opt/conda/lib/python3.7/site-packages/sklearn/feature_selection/_univariate_selection.py:112: UserWarning: Features [ 19  24  36  47  50  67  69  71  74  83  85 131 132 139 141 143 144 145\n",
      " 151 156 157 164 204 264 274] are constant.\n",
      "  warnings.warn(\"Features %s are constant.\" % constant_features_idx, UserWarning)\n",
      "/opt/conda/lib/python3.7/site-packages/sklearn/feature_selection/_univariate_selection.py:112: UserWarning: Features [ 19  24  36  47  50  60  67  69  71  74  83  85 131 132 139 141 143 145\n",
      " 151 156 157 164 204 264 274] are constant.\n",
      "  warnings.warn(\"Features %s are constant.\" % constant_features_idx, UserWarning)\n",
      "/opt/conda/lib/python3.7/site-packages/sklearn/feature_selection/_univariate_selection.py:112: UserWarning: Features [ 19  24  26  36  47  50  67  69  71  74  83  85 115 131 132 139 141 142\n",
      " 143 145 151 153 156 157 164 204 244 264 274] are constant.\n",
      "  warnings.warn(\"Features %s are constant.\" % constant_features_idx, UserWarning)\n",
      "/opt/conda/lib/python3.7/site-packages/sklearn/feature_selection/_univariate_selection.py:112: UserWarning: Features [ 19  24  36  47  50  55  61  67  69  71  74  83  85  86 129 131 132 139\n",
      " 141 143 145 151 156 157 164 194 204 264 274] are constant.\n",
      "  warnings.warn(\"Features %s are constant.\" % constant_features_idx, UserWarning)\n",
      "/opt/conda/lib/python3.7/site-packages/sklearn/feature_selection/_univariate_selection.py:112: UserWarning: Features [ 19  21  24  31  35  36  37  47  50  67  69  71  74  83  85 131 132 139\n",
      " 141 143 145 151 156 157 164 174 204 264 274] are constant.\n",
      "  warnings.warn(\"Features %s are constant.\" % constant_features_idx, UserWarning)\n",
      "/opt/conda/lib/python3.7/site-packages/sklearn/feature_selection/_univariate_selection.py:112: UserWarning: Features [ 19  24  25  36  47  50  58  67  69  71  74  83  85 131 132 139 141 143\n",
      " 145 151 156 157 164 204 264 274] are constant.\n",
      "  warnings.warn(\"Features %s are constant.\" % constant_features_idx, UserWarning)\n",
      "/opt/conda/lib/python3.7/site-packages/sklearn/feature_selection/_univariate_selection.py:112: UserWarning: Features [ 19  24  36  45  47  50  67  69  71  74  83  85  95 127 131 132 139 141\n",
      " 143 145 151 156 157 164 204 254 264 274] are constant.\n",
      "  warnings.warn(\"Features %s are constant.\" % constant_features_idx, UserWarning)\n",
      "/opt/conda/lib/python3.7/site-packages/sklearn/feature_selection/_univariate_selection.py:112: UserWarning: Features [ 19  24  36  47  50  67  69  71  72  74  83  85 103 131 132 139 141 143\n",
      " 145 151 156 157 164 204 234 264 274] are constant.\n",
      "  warnings.warn(\"Features %s are constant.\" % constant_features_idx, UserWarning)\n",
      "/opt/conda/lib/python3.7/site-packages/sklearn/feature_selection/_univariate_selection.py:113: RuntimeWarning: divide by zero encountered in true_divide\n",
      "  f = msb / msw\n",
      "/opt/conda/lib/python3.7/site-packages/sklearn/feature_selection/_univariate_selection.py:112: UserWarning: Features [ 19  24  36  47  50  67  69  71  74  83  84  85 131 132 139 141 143 145\n",
      " 151 154 156 157 164 204 264 274] are constant.\n",
      "  warnings.warn(\"Features %s are constant.\" % constant_features_idx, UserWarning)\n",
      "/opt/conda/lib/python3.7/site-packages/sklearn/feature_selection/_univariate_selection.py:112: UserWarning: Features [ 19  24  36  47  50  67  69  71  74  83  85 131 132 139 141 143 145 151\n",
      " 156 157 164 204 264 274] are constant.\n",
      "  warnings.warn(\"Features %s are constant.\" % constant_features_idx, UserWarning)\n",
      "/opt/conda/lib/python3.7/site-packages/sklearn/feature_selection/_univariate_selection.py:112: UserWarning: Features [ 19  24  36  47  50  67  69  71  74  83  85 131 132 139 141 143 144 145\n",
      " 151 156 157 164 204 264 274] are constant.\n",
      "  warnings.warn(\"Features %s are constant.\" % constant_features_idx, UserWarning)\n",
      "/opt/conda/lib/python3.7/site-packages/sklearn/feature_selection/_univariate_selection.py:112: UserWarning: Features [ 19  24  36  47  50  60  67  69  71  74  83  85 131 132 139 141 143 145\n",
      " 151 156 157 164 204 264 274] are constant.\n",
      "  warnings.warn(\"Features %s are constant.\" % constant_features_idx, UserWarning)\n",
      "/opt/conda/lib/python3.7/site-packages/sklearn/feature_selection/_univariate_selection.py:112: UserWarning: Features [ 19  24  26  36  47  50  67  69  71  74  83  85 115 131 132 139 141 142\n",
      " 143 145 151 153 156 157 164 204 244 264 274] are constant.\n",
      "  warnings.warn(\"Features %s are constant.\" % constant_features_idx, UserWarning)\n",
      "/opt/conda/lib/python3.7/site-packages/sklearn/feature_selection/_univariate_selection.py:112: UserWarning: Features [ 19  24  36  47  50  55  61  67  69  71  74  83  85  86 129 131 132 139\n",
      " 141 143 145 151 156 157 164 194 204 264 274] are constant.\n",
      "  warnings.warn(\"Features %s are constant.\" % constant_features_idx, UserWarning)\n",
      "/opt/conda/lib/python3.7/site-packages/sklearn/feature_selection/_univariate_selection.py:112: UserWarning: Features [ 19  21  24  31  35  36  37  47  50  67  69  71  74  83  85 131 132 139\n",
      " 141 143 145 151 156 157 164 174 204 264 274] are constant.\n",
      "  warnings.warn(\"Features %s are constant.\" % constant_features_idx, UserWarning)\n",
      "/opt/conda/lib/python3.7/site-packages/sklearn/feature_selection/_univariate_selection.py:112: UserWarning: Features [ 19  24  25  36  47  50  58  67  69  71  74  83  85 131 132 139 141 143\n",
      " 145 151 156 157 164 204 264 274] are constant.\n",
      "  warnings.warn(\"Features %s are constant.\" % constant_features_idx, UserWarning)\n",
      "/opt/conda/lib/python3.7/site-packages/sklearn/feature_selection/_univariate_selection.py:112: UserWarning: Features [ 19  24  36  45  47  50  67  69  71  74  83  85  95 127 131 132 139 141\n",
      " 143 145 151 156 157 164 204 254 264 274] are constant.\n",
      "  warnings.warn(\"Features %s are constant.\" % constant_features_idx, UserWarning)\n",
      "/opt/conda/lib/python3.7/site-packages/sklearn/feature_selection/_univariate_selection.py:112: UserWarning: Features [ 19  24  36  47  50  67  69  71  72  74  83  85 103 131 132 139 141 143\n",
      " 145 151 156 157 164 204 234 264 274] are constant.\n",
      "  warnings.warn(\"Features %s are constant.\" % constant_features_idx, UserWarning)\n",
      "/opt/conda/lib/python3.7/site-packages/sklearn/feature_selection/_univariate_selection.py:113: RuntimeWarning: divide by zero encountered in true_divide\n",
      "  f = msb / msw\n",
      "/opt/conda/lib/python3.7/site-packages/sklearn/feature_selection/_univariate_selection.py:112: UserWarning: Features [ 19  24  36  47  50  67  69  71  74  83  84  85 131 132 139 141 143 145\n",
      " 151 154 156 157 164 204 264 274] are constant.\n",
      "  warnings.warn(\"Features %s are constant.\" % constant_features_idx, UserWarning)\n",
      "/opt/conda/lib/python3.7/site-packages/sklearn/feature_selection/_univariate_selection.py:112: UserWarning: Features [ 19  24  36  47  50  67  69  71  74  83  85 131 132 139 141 143 145 151\n",
      " 156 157 164 204 264 274] are constant.\n",
      "  warnings.warn(\"Features %s are constant.\" % constant_features_idx, UserWarning)\n",
      "/opt/conda/lib/python3.7/site-packages/sklearn/feature_selection/_univariate_selection.py:112: UserWarning: Features [ 19  24  36  47  50  67  69  71  74  83  85 131 132 139 141 143 144 145\n",
      " 151 156 157 164 204 264 274] are constant.\n",
      "  warnings.warn(\"Features %s are constant.\" % constant_features_idx, UserWarning)\n",
      "/opt/conda/lib/python3.7/site-packages/sklearn/feature_selection/_univariate_selection.py:112: UserWarning: Features [ 19  24  36  47  50  60  67  69  71  74  83  85 131 132 139 141 143 145\n",
      " 151 156 157 164 204 264 274] are constant.\n",
      "  warnings.warn(\"Features %s are constant.\" % constant_features_idx, UserWarning)\n",
      "/opt/conda/lib/python3.7/site-packages/sklearn/feature_selection/_univariate_selection.py:112: UserWarning: Features [ 19  24  26  36  47  50  67  69  71  74  83  85 115 131 132 139 141 142\n",
      " 143 145 151 153 156 157 164 204 244 264 274] are constant.\n",
      "  warnings.warn(\"Features %s are constant.\" % constant_features_idx, UserWarning)\n",
      "/opt/conda/lib/python3.7/site-packages/sklearn/feature_selection/_univariate_selection.py:112: UserWarning: Features [ 19  24  36  47  50  55  61  67  69  71  74  83  85  86 129 131 132 139\n",
      " 141 143 145 151 156 157 164 194 204 264 274] are constant.\n",
      "  warnings.warn(\"Features %s are constant.\" % constant_features_idx, UserWarning)\n",
      "/opt/conda/lib/python3.7/site-packages/sklearn/feature_selection/_univariate_selection.py:112: UserWarning: Features [ 19  21  24  31  35  36  37  47  50  67  69  71  74  83  85 131 132 139\n",
      " 141 143 145 151 156 157 164 174 204 264 274] are constant.\n",
      "  warnings.warn(\"Features %s are constant.\" % constant_features_idx, UserWarning)\n",
      "/opt/conda/lib/python3.7/site-packages/sklearn/feature_selection/_univariate_selection.py:112: UserWarning: Features [ 19  24  25  36  47  50  58  67  69  71  74  83  85 131 132 139 141 143\n",
      " 145 151 156 157 164 204 264 274] are constant.\n",
      "  warnings.warn(\"Features %s are constant.\" % constant_features_idx, UserWarning)\n"
     ]
    },
    {
     "name": "stdout",
     "output_type": "stream",
     "text": [
      "Best params:\n",
      "{'select__k': 20}\n",
      "\n",
      "Best cross-validation score: 0.65\n"
     ]
    },
    {
     "name": "stderr",
     "output_type": "stream",
     "text": [
      "/opt/conda/lib/python3.7/site-packages/sklearn/feature_selection/_univariate_selection.py:112: UserWarning: Features [ 19  24  36  45  47  50  67  69  71  74  83  85  95 127 131 132 139 141\n",
      " 143 145 151 156 157 164 204 254 264 274] are constant.\n",
      "  warnings.warn(\"Features %s are constant.\" % constant_features_idx, UserWarning)\n",
      "/opt/conda/lib/python3.7/site-packages/sklearn/feature_selection/_univariate_selection.py:112: UserWarning: Features [ 19  24  36  47  50  67  69  71  72  74  83  85 103 131 132 139 141 143\n",
      " 145 151 156 157 164 204 234 264 274] are constant.\n",
      "  warnings.warn(\"Features %s are constant.\" % constant_features_idx, UserWarning)\n",
      "/opt/conda/lib/python3.7/site-packages/sklearn/feature_selection/_univariate_selection.py:113: RuntimeWarning: divide by zero encountered in true_divide\n",
      "  f = msb / msw\n",
      "/opt/conda/lib/python3.7/site-packages/sklearn/feature_selection/_univariate_selection.py:112: UserWarning: Features [ 19  24  36  47  50  67  69  71  74  83  84  85 131 132 139 141 143 145\n",
      " 151 154 156 157 164 204 264 274] are constant.\n",
      "  warnings.warn(\"Features %s are constant.\" % constant_features_idx, UserWarning)\n",
      "/opt/conda/lib/python3.7/site-packages/sklearn/feature_selection/_univariate_selection.py:112: UserWarning: Features [ 19  24  36  47  50  67  69  71  74  83  85 131 132 139 141 143 145 151\n",
      " 156 157 164 204 264 274] are constant.\n",
      "  warnings.warn(\"Features %s are constant.\" % constant_features_idx, UserWarning)\n"
     ]
    }
   ],
   "source": [
    "#Fitting classifier on training set using grid search for number of features = [20,50,100,150,200]\n",
    "grid_uni_train = GridSearchCV(pipe2, param_grid=param_grid_uni, cv=10).fit(X_train, y_train)\n",
    "\n",
    "#Printing results\n",
    "print(\"Best params:\\n{}\\n\".format(grid_uni_train.best_params_))\n",
    "print(\"Best cross-validation score: {:.2f}\".format(grid_uni_train.best_score_))\n",
    "\n",
    "#Collecting training scores\n",
    "train_score_uni = grid_uni_train.cv_results_['mean_test_score']"
   ]
  },
  {
   "cell_type": "code",
   "execution_count": 12,
   "metadata": {
    "ExecuteTime": {
     "end_time": "2021-11-02T16:36:17.887329Z",
     "start_time": "2021-11-02T16:36:17.877579Z"
    }
   },
   "outputs": [
    {
     "data": {
      "text/plain": [
       "array([0.65, 0.62, 0.62, 0.58, 0.58])"
      ]
     },
     "execution_count": 12,
     "metadata": {},
     "output_type": "execute_result"
    }
   ],
   "source": [
    "train_score_uni"
   ]
  },
  {
   "cell_type": "code",
   "execution_count": 13,
   "metadata": {
    "ExecuteTime": {
     "end_time": "2021-11-02T16:36:23.492192Z",
     "start_time": "2021-11-02T16:36:19.178447Z"
    }
   },
   "outputs": [
    {
     "name": "stderr",
     "output_type": "stream",
     "text": [
      "/opt/conda/lib/python3.7/site-packages/sklearn/model_selection/_split.py:680: UserWarning: The least populated class in y has only 2 members, which is less than n_splits=10.\n",
      "  UserWarning,\n",
      "/opt/conda/lib/python3.7/site-packages/sklearn/feature_selection/_univariate_selection.py:112: UserWarning: Features [ 19  26  58  67  69  83  91 129 131 132 139 141 142 143 145 151 156 157\n",
      " 164 204 224 264 274] are constant.\n",
      "  warnings.warn(\"Features %s are constant.\" % constant_features_idx, UserWarning)\n",
      "/opt/conda/lib/python3.7/site-packages/sklearn/feature_selection/_univariate_selection.py:112: UserWarning: Features [ 19  45  67  69  83  85 115 131 132 139 141 143 145 151 156 157 164 204\n",
      " 244 264 274] are constant.\n",
      "  warnings.warn(\"Features %s are constant.\" % constant_features_idx, UserWarning)\n",
      "/opt/conda/lib/python3.7/site-packages/sklearn/feature_selection/_univariate_selection.py:112: UserWarning: Features [ 19  36  67  69  83 131 132 139 141 143 145 151 156 157 164 204 264 274] are constant.\n",
      "  warnings.warn(\"Features %s are constant.\" % constant_features_idx, UserWarning)\n",
      "/opt/conda/lib/python3.7/site-packages/sklearn/feature_selection/_univariate_selection.py:112: UserWarning: Features [ 19  21  55  67  69  72  83 131 132 139 141 143 144 145 151 156 157 164\n",
      " 194 204 264 274] are constant.\n",
      "  warnings.warn(\"Features %s are constant.\" % constant_features_idx, UserWarning)\n",
      "/opt/conda/lib/python3.7/site-packages/sklearn/feature_selection/_univariate_selection.py:112: UserWarning: Features [ 19  67  69  83 131 132 139 141 143 145 151 156 157 164 204 264 274] are constant.\n",
      "  warnings.warn(\"Features %s are constant.\" % constant_features_idx, UserWarning)\n",
      "/opt/conda/lib/python3.7/site-packages/sklearn/feature_selection/_univariate_selection.py:112: UserWarning: Features [ 19  47  67  69  83 131 132 139 141 143 145 151 156 157 164 204 264 274] are constant.\n",
      "  warnings.warn(\"Features %s are constant.\" % constant_features_idx, UserWarning)\n",
      "/opt/conda/lib/python3.7/site-packages/sklearn/feature_selection/_univariate_selection.py:112: UserWarning: Features [ 19  67  69  71  83 131 132 139 141 143 145 151 154 156 157 164 204 264\n",
      " 274] are constant.\n",
      "  warnings.warn(\"Features %s are constant.\" % constant_features_idx, UserWarning)\n",
      "/opt/conda/lib/python3.7/site-packages/sklearn/feature_selection/_univariate_selection.py:112: UserWarning: Features [ 19  35  67  69  83 131 132 139 141 143 145 151 153 156 157 164 204 264\n",
      " 274] are constant.\n",
      "  warnings.warn(\"Features %s are constant.\" % constant_features_idx, UserWarning)\n",
      "/opt/conda/lib/python3.7/site-packages/sklearn/feature_selection/_univariate_selection.py:112: UserWarning: Features [ 19  50  67  69  74  83  84  86 127 131 132 139 141 143 145 151 156 157\n",
      " 164 204 254 264 274] are constant.\n",
      "  warnings.warn(\"Features %s are constant.\" % constant_features_idx, UserWarning)\n",
      "/opt/conda/lib/python3.7/site-packages/sklearn/feature_selection/_univariate_selection.py:112: UserWarning: Features [ 19  25  67  69  83 131 132 139 141 143 145 151 156 157 164 204 264 274] are constant.\n",
      "  warnings.warn(\"Features %s are constant.\" % constant_features_idx, UserWarning)\n",
      "/opt/conda/lib/python3.7/site-packages/sklearn/feature_selection/_univariate_selection.py:112: UserWarning: Features [ 19  26  58  67  69  83  91 129 131 132 139 141 142 143 145 151 156 157\n",
      " 164 204 224 264 274] are constant.\n",
      "  warnings.warn(\"Features %s are constant.\" % constant_features_idx, UserWarning)\n",
      "/opt/conda/lib/python3.7/site-packages/sklearn/feature_selection/_univariate_selection.py:112: UserWarning: Features [ 19  45  67  69  83  85 115 131 132 139 141 143 145 151 156 157 164 204\n",
      " 244 264 274] are constant.\n",
      "  warnings.warn(\"Features %s are constant.\" % constant_features_idx, UserWarning)\n",
      "/opt/conda/lib/python3.7/site-packages/sklearn/feature_selection/_univariate_selection.py:112: UserWarning: Features [ 19  36  67  69  83 131 132 139 141 143 145 151 156 157 164 204 264 274] are constant.\n",
      "  warnings.warn(\"Features %s are constant.\" % constant_features_idx, UserWarning)\n",
      "/opt/conda/lib/python3.7/site-packages/sklearn/feature_selection/_univariate_selection.py:112: UserWarning: Features [ 19  21  55  67  69  72  83 131 132 139 141 143 144 145 151 156 157 164\n",
      " 194 204 264 274] are constant.\n",
      "  warnings.warn(\"Features %s are constant.\" % constant_features_idx, UserWarning)\n",
      "/opt/conda/lib/python3.7/site-packages/sklearn/feature_selection/_univariate_selection.py:112: UserWarning: Features [ 19  67  69  83 131 132 139 141 143 145 151 156 157 164 204 264 274] are constant.\n",
      "  warnings.warn(\"Features %s are constant.\" % constant_features_idx, UserWarning)\n",
      "/opt/conda/lib/python3.7/site-packages/sklearn/feature_selection/_univariate_selection.py:112: UserWarning: Features [ 19  47  67  69  83 131 132 139 141 143 145 151 156 157 164 204 264 274] are constant.\n",
      "  warnings.warn(\"Features %s are constant.\" % constant_features_idx, UserWarning)\n",
      "/opt/conda/lib/python3.7/site-packages/sklearn/feature_selection/_univariate_selection.py:112: UserWarning: Features [ 19  67  69  71  83 131 132 139 141 143 145 151 154 156 157 164 204 264\n",
      " 274] are constant.\n",
      "  warnings.warn(\"Features %s are constant.\" % constant_features_idx, UserWarning)\n",
      "/opt/conda/lib/python3.7/site-packages/sklearn/feature_selection/_univariate_selection.py:112: UserWarning: Features [ 19  35  67  69  83 131 132 139 141 143 145 151 153 156 157 164 204 264\n",
      " 274] are constant.\n",
      "  warnings.warn(\"Features %s are constant.\" % constant_features_idx, UserWarning)\n",
      "/opt/conda/lib/python3.7/site-packages/sklearn/feature_selection/_univariate_selection.py:112: UserWarning: Features [ 19  50  67  69  74  83  84  86 127 131 132 139 141 143 145 151 156 157\n",
      " 164 204 254 264 274] are constant.\n",
      "  warnings.warn(\"Features %s are constant.\" % constant_features_idx, UserWarning)\n",
      "/opt/conda/lib/python3.7/site-packages/sklearn/feature_selection/_univariate_selection.py:112: UserWarning: Features [ 19  25  67  69  83 131 132 139 141 143 145 151 156 157 164 204 264 274] are constant.\n",
      "  warnings.warn(\"Features %s are constant.\" % constant_features_idx, UserWarning)\n",
      "/opt/conda/lib/python3.7/site-packages/sklearn/feature_selection/_univariate_selection.py:112: UserWarning: Features [ 19  26  58  67  69  83  91 129 131 132 139 141 142 143 145 151 156 157\n",
      " 164 204 224 264 274] are constant.\n",
      "  warnings.warn(\"Features %s are constant.\" % constant_features_idx, UserWarning)\n",
      "/opt/conda/lib/python3.7/site-packages/sklearn/feature_selection/_univariate_selection.py:112: UserWarning: Features [ 19  45  67  69  83  85 115 131 132 139 141 143 145 151 156 157 164 204\n",
      " 244 264 274] are constant.\n",
      "  warnings.warn(\"Features %s are constant.\" % constant_features_idx, UserWarning)\n",
      "/opt/conda/lib/python3.7/site-packages/sklearn/feature_selection/_univariate_selection.py:112: UserWarning: Features [ 19  36  67  69  83 131 132 139 141 143 145 151 156 157 164 204 264 274] are constant.\n",
      "  warnings.warn(\"Features %s are constant.\" % constant_features_idx, UserWarning)\n",
      "/opt/conda/lib/python3.7/site-packages/sklearn/feature_selection/_univariate_selection.py:112: UserWarning: Features [ 19  21  55  67  69  72  83 131 132 139 141 143 144 145 151 156 157 164\n",
      " 194 204 264 274] are constant.\n",
      "  warnings.warn(\"Features %s are constant.\" % constant_features_idx, UserWarning)\n",
      "/opt/conda/lib/python3.7/site-packages/sklearn/feature_selection/_univariate_selection.py:112: UserWarning: Features [ 19  67  69  83 131 132 139 141 143 145 151 156 157 164 204 264 274] are constant.\n",
      "  warnings.warn(\"Features %s are constant.\" % constant_features_idx, UserWarning)\n",
      "/opt/conda/lib/python3.7/site-packages/sklearn/feature_selection/_univariate_selection.py:112: UserWarning: Features [ 19  47  67  69  83 131 132 139 141 143 145 151 156 157 164 204 264 274] are constant.\n",
      "  warnings.warn(\"Features %s are constant.\" % constant_features_idx, UserWarning)\n",
      "/opt/conda/lib/python3.7/site-packages/sklearn/feature_selection/_univariate_selection.py:112: UserWarning: Features [ 19  67  69  71  83 131 132 139 141 143 145 151 154 156 157 164 204 264\n",
      " 274] are constant.\n",
      "  warnings.warn(\"Features %s are constant.\" % constant_features_idx, UserWarning)\n",
      "/opt/conda/lib/python3.7/site-packages/sklearn/feature_selection/_univariate_selection.py:112: UserWarning: Features [ 19  35  67  69  83 131 132 139 141 143 145 151 153 156 157 164 204 264\n",
      " 274] are constant.\n",
      "  warnings.warn(\"Features %s are constant.\" % constant_features_idx, UserWarning)\n",
      "/opt/conda/lib/python3.7/site-packages/sklearn/feature_selection/_univariate_selection.py:112: UserWarning: Features [ 19  50  67  69  74  83  84  86 127 131 132 139 141 143 145 151 156 157\n",
      " 164 204 254 264 274] are constant.\n",
      "  warnings.warn(\"Features %s are constant.\" % constant_features_idx, UserWarning)\n",
      "/opt/conda/lib/python3.7/site-packages/sklearn/feature_selection/_univariate_selection.py:112: UserWarning: Features [ 19  25  67  69  83 131 132 139 141 143 145 151 156 157 164 204 264 274] are constant.\n",
      "  warnings.warn(\"Features %s are constant.\" % constant_features_idx, UserWarning)\n",
      "/opt/conda/lib/python3.7/site-packages/sklearn/feature_selection/_univariate_selection.py:112: UserWarning: Features [ 19  26  58  67  69  83  91 129 131 132 139 141 142 143 145 151 156 157\n",
      " 164 204 224 264 274] are constant.\n",
      "  warnings.warn(\"Features %s are constant.\" % constant_features_idx, UserWarning)\n",
      "/opt/conda/lib/python3.7/site-packages/sklearn/feature_selection/_univariate_selection.py:112: UserWarning: Features [ 19  45  67  69  83  85 115 131 132 139 141 143 145 151 156 157 164 204\n",
      " 244 264 274] are constant.\n",
      "  warnings.warn(\"Features %s are constant.\" % constant_features_idx, UserWarning)\n",
      "/opt/conda/lib/python3.7/site-packages/sklearn/feature_selection/_univariate_selection.py:112: UserWarning: Features [ 19  36  67  69  83 131 132 139 141 143 145 151 156 157 164 204 264 274] are constant.\n",
      "  warnings.warn(\"Features %s are constant.\" % constant_features_idx, UserWarning)\n",
      "/opt/conda/lib/python3.7/site-packages/sklearn/feature_selection/_univariate_selection.py:112: UserWarning: Features [ 19  21  55  67  69  72  83 131 132 139 141 143 144 145 151 156 157 164\n",
      " 194 204 264 274] are constant.\n",
      "  warnings.warn(\"Features %s are constant.\" % constant_features_idx, UserWarning)\n",
      "/opt/conda/lib/python3.7/site-packages/sklearn/feature_selection/_univariate_selection.py:112: UserWarning: Features [ 19  67  69  83 131 132 139 141 143 145 151 156 157 164 204 264 274] are constant.\n",
      "  warnings.warn(\"Features %s are constant.\" % constant_features_idx, UserWarning)\n",
      "/opt/conda/lib/python3.7/site-packages/sklearn/feature_selection/_univariate_selection.py:112: UserWarning: Features [ 19  47  67  69  83 131 132 139 141 143 145 151 156 157 164 204 264 274] are constant.\n",
      "  warnings.warn(\"Features %s are constant.\" % constant_features_idx, UserWarning)\n",
      "/opt/conda/lib/python3.7/site-packages/sklearn/feature_selection/_univariate_selection.py:112: UserWarning: Features [ 19  67  69  71  83 131 132 139 141 143 145 151 154 156 157 164 204 264\n",
      " 274] are constant.\n",
      "  warnings.warn(\"Features %s are constant.\" % constant_features_idx, UserWarning)\n",
      "/opt/conda/lib/python3.7/site-packages/sklearn/feature_selection/_univariate_selection.py:112: UserWarning: Features [ 19  35  67  69  83 131 132 139 141 143 145 151 153 156 157 164 204 264\n",
      " 274] are constant.\n",
      "  warnings.warn(\"Features %s are constant.\" % constant_features_idx, UserWarning)\n",
      "/opt/conda/lib/python3.7/site-packages/sklearn/feature_selection/_univariate_selection.py:112: UserWarning: Features [ 19  50  67  69  74  83  84  86 127 131 132 139 141 143 145 151 156 157\n",
      " 164 204 254 264 274] are constant.\n",
      "  warnings.warn(\"Features %s are constant.\" % constant_features_idx, UserWarning)\n",
      "/opt/conda/lib/python3.7/site-packages/sklearn/feature_selection/_univariate_selection.py:112: UserWarning: Features [ 19  25  67  69  83 131 132 139 141 143 145 151 156 157 164 204 264 274] are constant.\n",
      "  warnings.warn(\"Features %s are constant.\" % constant_features_idx, UserWarning)\n",
      "/opt/conda/lib/python3.7/site-packages/sklearn/feature_selection/_univariate_selection.py:112: UserWarning: Features [ 19  26  58  67  69  83  91 129 131 132 139 141 142 143 145 151 156 157\n",
      " 164 204 224 264 274] are constant.\n",
      "  warnings.warn(\"Features %s are constant.\" % constant_features_idx, UserWarning)\n",
      "/opt/conda/lib/python3.7/site-packages/sklearn/feature_selection/_univariate_selection.py:112: UserWarning: Features [ 19  45  67  69  83  85 115 131 132 139 141 143 145 151 156 157 164 204\n",
      " 244 264 274] are constant.\n",
      "  warnings.warn(\"Features %s are constant.\" % constant_features_idx, UserWarning)\n",
      "/opt/conda/lib/python3.7/site-packages/sklearn/feature_selection/_univariate_selection.py:112: UserWarning: Features [ 19  36  67  69  83 131 132 139 141 143 145 151 156 157 164 204 264 274] are constant.\n",
      "  warnings.warn(\"Features %s are constant.\" % constant_features_idx, UserWarning)\n",
      "/opt/conda/lib/python3.7/site-packages/sklearn/feature_selection/_univariate_selection.py:112: UserWarning: Features [ 19  21  55  67  69  72  83 131 132 139 141 143 144 145 151 156 157 164\n",
      " 194 204 264 274] are constant.\n",
      "  warnings.warn(\"Features %s are constant.\" % constant_features_idx, UserWarning)\n",
      "/opt/conda/lib/python3.7/site-packages/sklearn/feature_selection/_univariate_selection.py:112: UserWarning: Features [ 19  67  69  83 131 132 139 141 143 145 151 156 157 164 204 264 274] are constant.\n",
      "  warnings.warn(\"Features %s are constant.\" % constant_features_idx, UserWarning)\n",
      "/opt/conda/lib/python3.7/site-packages/sklearn/feature_selection/_univariate_selection.py:112: UserWarning: Features [ 19  47  67  69  83 131 132 139 141 143 145 151 156 157 164 204 264 274] are constant.\n",
      "  warnings.warn(\"Features %s are constant.\" % constant_features_idx, UserWarning)\n",
      "/opt/conda/lib/python3.7/site-packages/sklearn/feature_selection/_univariate_selection.py:112: UserWarning: Features [ 19  67  69  71  83 131 132 139 141 143 145 151 154 156 157 164 204 264\n",
      " 274] are constant.\n",
      "  warnings.warn(\"Features %s are constant.\" % constant_features_idx, UserWarning)\n",
      "/opt/conda/lib/python3.7/site-packages/sklearn/feature_selection/_univariate_selection.py:112: UserWarning: Features [ 19  35  67  69  83 131 132 139 141 143 145 151 153 156 157 164 204 264\n",
      " 274] are constant.\n",
      "  warnings.warn(\"Features %s are constant.\" % constant_features_idx, UserWarning)\n",
      "/opt/conda/lib/python3.7/site-packages/sklearn/feature_selection/_univariate_selection.py:112: UserWarning: Features [ 19  50  67  69  74  83  84  86 127 131 132 139 141 143 145 151 156 157\n",
      " 164 204 254 264 274] are constant.\n",
      "  warnings.warn(\"Features %s are constant.\" % constant_features_idx, UserWarning)\n",
      "/opt/conda/lib/python3.7/site-packages/sklearn/feature_selection/_univariate_selection.py:112: UserWarning: Features [ 19  25  67  69  83 131 132 139 141 143 145 151 156 157 164 204 264 274] are constant.\n",
      "  warnings.warn(\"Features %s are constant.\" % constant_features_idx, UserWarning)\n"
     ]
    },
    {
     "name": "stdout",
     "output_type": "stream",
     "text": [
      "Best params:\n",
      "{'select__k': 20}\n",
      "\n",
      "Best cross-validation score: 0.68\n",
      "Test set score: 0.65\n"
     ]
    },
    {
     "name": "stderr",
     "output_type": "stream",
     "text": [
      "/opt/conda/lib/python3.7/site-packages/sklearn/feature_selection/_univariate_selection.py:112: UserWarning: Features [ 19  67  69  83 131 132 139 141 143 145 151 156 157 164 204 264 274] are constant.\n",
      "  warnings.warn(\"Features %s are constant.\" % constant_features_idx, UserWarning)\n"
     ]
    }
   ],
   "source": [
    "#Fitting classifier on training and validation set using grid search for number of features = [20,50,100,150,200]\n",
    "grid_uni_test = GridSearchCV(pipe2, param_grid=param_grid_uni, cv=10).fit(X_trainval, y_trainval)\n",
    "\n",
    "#Printing results\n",
    "print(\"Best params:\\n{}\\n\".format(grid_uni_test.best_params_))\n",
    "print(\"Best cross-validation score: {:.2f}\".format(grid_uni_test.best_score_))\n",
    "print(\"Test set score: {:.2f}\".format(grid_uni_test.score(X_test, y_test)))\n",
    "\n",
    "#Collecting test scores\n",
    "test_score_uni = grid_uni_test.cv_results_['mean_test_score']"
   ]
  },
  {
   "cell_type": "code",
   "execution_count": 14,
   "metadata": {
    "ExecuteTime": {
     "end_time": "2021-11-02T16:36:26.866415Z",
     "start_time": "2021-11-02T16:36:26.862029Z"
    }
   },
   "outputs": [
    {
     "data": {
      "text/plain": [
       "array([0.68, 0.67, 0.63, 0.61, 0.59])"
      ]
     },
     "execution_count": 14,
     "metadata": {},
     "output_type": "execute_result"
    }
   ],
   "source": [
    "test_score_uni"
   ]
  },
  {
   "cell_type": "markdown",
   "metadata": {
    "ExecuteTime": {
     "end_time": "2021-11-02T00:17:24.361294Z",
     "start_time": "2021-11-02T00:17:24.356279Z"
    }
   },
   "source": [
    "### Feature Selection : Model based"
   ]
  },
  {
   "cell_type": "code",
   "execution_count": 15,
   "metadata": {
    "ExecuteTime": {
     "end_time": "2021-11-02T16:36:30.533480Z",
     "start_time": "2021-11-02T16:36:30.530307Z"
    }
   },
   "outputs": [],
   "source": [
    "#Setting selection method for Model-based feature selection\n",
    "selection_mod = SelectFromModel(estimator=RidgeClassifier(),threshold=-np.inf)\n",
    "\n",
    "#Running pipeline\n",
    "pipe3 = run_pipeline(sca=scaler,imp=imputer,sel=selection_mod,mod=model)"
   ]
  },
  {
   "cell_type": "code",
   "execution_count": 16,
   "metadata": {
    "ExecuteTime": {
     "end_time": "2021-11-02T16:36:31.518019Z",
     "start_time": "2021-11-02T16:36:31.515627Z"
    }
   },
   "outputs": [],
   "source": [
    "#Setting the parameter grid\n",
    "param_grid_mod = {'select__max_features': number_features}"
   ]
  },
  {
   "cell_type": "code",
   "execution_count": 28,
   "metadata": {
    "ExecuteTime": {
     "end_time": "2021-11-02T16:46:55.876963Z",
     "start_time": "2021-11-02T16:46:52.576159Z"
    }
   },
   "outputs": [
    {
     "name": "stderr",
     "output_type": "stream",
     "text": [
      "/opt/conda/lib/python3.7/site-packages/sklearn/model_selection/_split.py:680: UserWarning:\n",
      "\n",
      "The least populated class in y has only 1 members, which is less than n_splits=10.\n",
      "\n"
     ]
    },
    {
     "name": "stdout",
     "output_type": "stream",
     "text": [
      "Best params:\n",
      "{'select__max_features': 20}\n",
      "\n",
      "Best cross-validation score: 0.63\n"
     ]
    }
   ],
   "source": [
    "#Fitting classifier on training set using grid search for number of features = [20,50,100,150,200]\n",
    "grid_mod_train = GridSearchCV(pipe3, param_grid=param_grid_mod, cv=10).fit(X_train, y_train)\n",
    "\n",
    "#Printing results\n",
    "print(\"Best params:\\n{}\\n\".format(grid_mod_train.best_params_))\n",
    "print(\"Best cross-validation score: {:.2f}\".format(grid_mod_train.best_score_))\n",
    "\n",
    "#Collecting training scores\n",
    "train_score_mod = grid_mod_train.cv_results_['mean_test_score']"
   ]
  },
  {
   "cell_type": "code",
   "execution_count": 29,
   "metadata": {
    "ExecuteTime": {
     "end_time": "2021-11-02T16:46:59.362952Z",
     "start_time": "2021-11-02T16:46:59.358279Z"
    }
   },
   "outputs": [
    {
     "data": {
      "text/plain": [
       "array([0.63, 0.63, 0.59, 0.57, 0.56])"
      ]
     },
     "execution_count": 29,
     "metadata": {},
     "output_type": "execute_result"
    }
   ],
   "source": [
    "train_score_mod"
   ]
  },
  {
   "cell_type": "code",
   "execution_count": 30,
   "metadata": {
    "ExecuteTime": {
     "end_time": "2021-11-02T16:47:08.055573Z",
     "start_time": "2021-11-02T16:47:03.257827Z"
    }
   },
   "outputs": [
    {
     "name": "stderr",
     "output_type": "stream",
     "text": [
      "/opt/conda/lib/python3.7/site-packages/sklearn/model_selection/_split.py:680: UserWarning:\n",
      "\n",
      "The least populated class in y has only 2 members, which is less than n_splits=10.\n",
      "\n"
     ]
    },
    {
     "name": "stdout",
     "output_type": "stream",
     "text": [
      "Best params:\n",
      "{'select__max_features': 50}\n",
      "\n",
      "Best cross-validation score: 0.63\n",
      "Test set score: 0.61\n"
     ]
    }
   ],
   "source": [
    "#Fitting classifier on training and validation set using grid search for number of features = [20,50,100,150,200]\n",
    "grid_mod_test = GridSearchCV(pipe3, param_grid=param_grid_mod, cv=10).fit(X_trainval, y_trainval)\n",
    "\n",
    "#Printing results\n",
    "print(\"Best params:\\n{}\\n\".format(grid_mod_test.best_params_))\n",
    "print(\"Best cross-validation score: {:.2f}\".format(grid_mod_test.best_score_))\n",
    "print(\"Test set score: {:.2f}\".format(grid_mod_test.score(X_test, y_test)))\n",
    "\n",
    "#Collecting test scores\n",
    "test_score_mod = grid_mod_test.cv_results_['mean_test_score']"
   ]
  },
  {
   "cell_type": "code",
   "execution_count": 31,
   "metadata": {
    "ExecuteTime": {
     "end_time": "2021-11-02T16:47:08.063169Z",
     "start_time": "2021-11-02T16:47:08.058213Z"
    }
   },
   "outputs": [
    {
     "data": {
      "text/plain": [
       "array([0.62, 0.63, 0.6 , 0.6 , 0.59])"
      ]
     },
     "execution_count": 31,
     "metadata": {},
     "output_type": "execute_result"
    }
   ],
   "source": [
    "test_score_mod"
   ]
  },
  {
   "cell_type": "markdown",
   "metadata": {
    "ExecuteTime": {
     "end_time": "2021-11-01T23:56:58.115831Z",
     "start_time": "2021-11-01T23:56:58.112065Z"
    }
   },
   "source": [
    "### Feature Selection : Iterative "
   ]
  },
  {
   "cell_type": "code",
   "execution_count": 21,
   "metadata": {
    "ExecuteTime": {
     "end_time": "2021-11-02T16:36:48.989050Z",
     "start_time": "2021-11-02T16:36:48.985938Z"
    }
   },
   "outputs": [],
   "source": [
    "#Selection selection method for Iterative feature selection\n",
    "selection_iter = RFE(estimator=RidgeClassifier(),step=2)\n",
    "\n",
    "#Running the pipeline\n",
    "pipe4 = run_pipeline(sca=scaler,imp=imputer,sel=selection_iter,mod=model)"
   ]
  },
  {
   "cell_type": "code",
   "execution_count": 22,
   "metadata": {
    "ExecuteTime": {
     "end_time": "2021-11-02T16:36:51.198460Z",
     "start_time": "2021-11-02T16:36:51.195851Z"
    }
   },
   "outputs": [],
   "source": [
    "#Setting the parameter grid\n",
    "param_grid_iter = {'select__n_features_to_select': number_features}"
   ]
  },
  {
   "cell_type": "code",
   "execution_count": 32,
   "metadata": {
    "ExecuteTime": {
     "end_time": "2021-11-02T16:48:14.707566Z",
     "start_time": "2021-11-02T16:47:40.627039Z"
    }
   },
   "outputs": [
    {
     "name": "stderr",
     "output_type": "stream",
     "text": [
      "/opt/conda/lib/python3.7/site-packages/sklearn/model_selection/_split.py:680: UserWarning:\n",
      "\n",
      "The least populated class in y has only 1 members, which is less than n_splits=10.\n",
      "\n"
     ]
    },
    {
     "name": "stdout",
     "output_type": "stream",
     "text": [
      "Best params:\n",
      "{'select__n_features_to_select': 20}\n",
      "\n",
      "Best cross-validation score: 0.63\n"
     ]
    }
   ],
   "source": [
    "#Fitting classifier on training set using grid search for number of features = [20,50,100,150,200]\n",
    "grid_iter_train = GridSearchCV(pipe4, param_grid=param_grid_iter, cv=10).fit(X_train, y_train)\n",
    "\n",
    "#Printing results\n",
    "print(\"Best params:\\n{}\\n\".format(grid_iter_train.best_params_))\n",
    "print(\"Best cross-validation score: {:.2f}\".format(grid_iter_train.best_score_))\n",
    "\n",
    "#Collecting training scores\n",
    "train_score_iter = grid_iter_train.cv_results_['mean_test_score']"
   ]
  },
  {
   "cell_type": "code",
   "execution_count": 33,
   "metadata": {
    "ExecuteTime": {
     "end_time": "2021-11-02T16:48:53.530640Z",
     "start_time": "2021-11-02T16:48:19.597002Z"
    }
   },
   "outputs": [
    {
     "name": "stderr",
     "output_type": "stream",
     "text": [
      "/opt/conda/lib/python3.7/site-packages/sklearn/model_selection/_split.py:680: UserWarning:\n",
      "\n",
      "The least populated class in y has only 2 members, which is less than n_splits=10.\n",
      "\n"
     ]
    },
    {
     "name": "stdout",
     "output_type": "stream",
     "text": [
      "Best params:\n",
      "{'select__n_features_to_select': 20}\n",
      "\n",
      "Best cross-validation score: 0.66\n",
      "Test set score: 0.72\n"
     ]
    }
   ],
   "source": [
    "#Fitting classifier on training and validation set using grid search for number of features = [20,50,100,150,200]\n",
    "grid_iter_test = GridSearchCV(pipe4, param_grid=param_grid_iter, cv=10).fit(X_trainval, y_trainval)\n",
    "\n",
    "#Printing results\n",
    "print(\"Best params:\\n{}\\n\".format(grid_iter_test.best_params_))\n",
    "print(\"Best cross-validation score: {:.2f}\".format(grid_iter_test.best_score_))\n",
    "print(\"Test set score: {:.2f}\".format(grid_iter_test.score(X_test, y_test)))\n",
    "\n",
    "#Collecting test scores\n",
    "test_score_iter = grid_iter_test.cv_results_['mean_test_score']"
   ]
  },
  {
   "cell_type": "markdown",
   "metadata": {},
   "source": [
    "### Showing tables of scores"
   ]
  },
  {
   "cell_type": "code",
   "execution_count": 35,
   "metadata": {
    "ExecuteTime": {
     "end_time": "2021-11-02T16:50:18.096670Z",
     "start_time": "2021-11-02T16:50:18.081230Z"
    }
   },
   "outputs": [
    {
     "name": "stdout",
     "output_type": "stream",
     "text": [
      "All features:\n",
      "train score: 0.6000\n",
      "test score: 0.5841\n"
     ]
    },
    {
     "data": {
      "application/vnd.plotly.v1+json": {
       "config": {
        "plotlyServerURL": "https://plot.ly"
       },
       "data": [
        {
         "cells": {
          "align": [
           "left",
           "center"
          ],
          "fill": {
           "color": [
            [
             "white",
             "lightgrey",
             "white",
             "lightgrey",
             "white",
             "white",
             "lightgrey",
             "white",
             "lightgrey",
             "white",
             "white",
             "lightgrey",
             "white",
             "lightgrey",
             "white",
             "white",
             "lightgrey",
             "white",
             "lightgrey",
             "white",
             "white",
             "lightgrey",
             "white",
             "lightgrey",
             "white"
            ]
           ]
          },
          "font": {
           "color": "darkslategray",
           "size": 12
          },
          "format": [
           ".0f",
           ".4f"
          ],
          "line": {
           "color": "darkslategray"
          },
          "values": [
           [
            20,
            50,
            100,
            150,
            200
           ],
           [
            0.6493846153846153,
            0.6183076923076921,
            0.6184615384615384,
            0.5752307692307694,
            0.5786153846153846
           ],
           [
            0.6815508021390375,
            0.6666666666666667,
            0.6311942959001783,
            0.6135472370766488,
            0.590017825311943
           ],
           [
            0.626,
            0.6258461538461539,
            0.5904615384615385,
            0.5749230769230769,
            0.5627692307692307
           ],
           [
            0.6194295900178254,
            0.6311942959001782,
            0.5959001782531195,
            0.5959893048128343,
            0.5929590017825312
           ],
           [
            0.6338461538461537,
            0.6264615384615385,
            0.5673846153846153,
            0.570923076923077,
            0.5512307692307692
           ],
           [
            0.6605169340463459,
            0.6253119429590018,
            0.6254010695187167,
            0.5988413547237077,
            0.5929590017825312
           ]
          ]
         },
         "header": {
          "align": [
           "left",
           "center"
          ],
          "fill": {
           "color": "grey"
          },
          "font": {
           "color": "white",
           "size": 15
          },
          "line": {
           "color": "darkslategray"
          },
          "values": [
           "<b>Features</b>",
           "<b>Univariate Train</b>",
           "<b>Univariate Train_Val (Test) </b>",
           "<b>Model-based Train</b>",
           "<b>Model-based Train_Val (Test)</b>",
           "<b>Iterative Train</b>",
           "<b>Iterative Train_Val (Test)</b>"
          ]
         },
         "type": "table"
        }
       ],
       "layout": {
        "template": {
         "data": {
          "bar": [
           {
            "error_x": {
             "color": "#2a3f5f"
            },
            "error_y": {
             "color": "#2a3f5f"
            },
            "marker": {
             "line": {
              "color": "#E5ECF6",
              "width": 0.5
             },
             "pattern": {
              "fillmode": "overlay",
              "size": 10,
              "solidity": 0.2
             }
            },
            "type": "bar"
           }
          ],
          "barpolar": [
           {
            "marker": {
             "line": {
              "color": "#E5ECF6",
              "width": 0.5
             },
             "pattern": {
              "fillmode": "overlay",
              "size": 10,
              "solidity": 0.2
             }
            },
            "type": "barpolar"
           }
          ],
          "carpet": [
           {
            "aaxis": {
             "endlinecolor": "#2a3f5f",
             "gridcolor": "white",
             "linecolor": "white",
             "minorgridcolor": "white",
             "startlinecolor": "#2a3f5f"
            },
            "baxis": {
             "endlinecolor": "#2a3f5f",
             "gridcolor": "white",
             "linecolor": "white",
             "minorgridcolor": "white",
             "startlinecolor": "#2a3f5f"
            },
            "type": "carpet"
           }
          ],
          "choropleth": [
           {
            "colorbar": {
             "outlinewidth": 0,
             "ticks": ""
            },
            "type": "choropleth"
           }
          ],
          "contour": [
           {
            "colorbar": {
             "outlinewidth": 0,
             "ticks": ""
            },
            "colorscale": [
             [
              0,
              "#0d0887"
             ],
             [
              0.1111111111111111,
              "#46039f"
             ],
             [
              0.2222222222222222,
              "#7201a8"
             ],
             [
              0.3333333333333333,
              "#9c179e"
             ],
             [
              0.4444444444444444,
              "#bd3786"
             ],
             [
              0.5555555555555556,
              "#d8576b"
             ],
             [
              0.6666666666666666,
              "#ed7953"
             ],
             [
              0.7777777777777778,
              "#fb9f3a"
             ],
             [
              0.8888888888888888,
              "#fdca26"
             ],
             [
              1,
              "#f0f921"
             ]
            ],
            "type": "contour"
           }
          ],
          "contourcarpet": [
           {
            "colorbar": {
             "outlinewidth": 0,
             "ticks": ""
            },
            "type": "contourcarpet"
           }
          ],
          "heatmap": [
           {
            "colorbar": {
             "outlinewidth": 0,
             "ticks": ""
            },
            "colorscale": [
             [
              0,
              "#0d0887"
             ],
             [
              0.1111111111111111,
              "#46039f"
             ],
             [
              0.2222222222222222,
              "#7201a8"
             ],
             [
              0.3333333333333333,
              "#9c179e"
             ],
             [
              0.4444444444444444,
              "#bd3786"
             ],
             [
              0.5555555555555556,
              "#d8576b"
             ],
             [
              0.6666666666666666,
              "#ed7953"
             ],
             [
              0.7777777777777778,
              "#fb9f3a"
             ],
             [
              0.8888888888888888,
              "#fdca26"
             ],
             [
              1,
              "#f0f921"
             ]
            ],
            "type": "heatmap"
           }
          ],
          "heatmapgl": [
           {
            "colorbar": {
             "outlinewidth": 0,
             "ticks": ""
            },
            "colorscale": [
             [
              0,
              "#0d0887"
             ],
             [
              0.1111111111111111,
              "#46039f"
             ],
             [
              0.2222222222222222,
              "#7201a8"
             ],
             [
              0.3333333333333333,
              "#9c179e"
             ],
             [
              0.4444444444444444,
              "#bd3786"
             ],
             [
              0.5555555555555556,
              "#d8576b"
             ],
             [
              0.6666666666666666,
              "#ed7953"
             ],
             [
              0.7777777777777778,
              "#fb9f3a"
             ],
             [
              0.8888888888888888,
              "#fdca26"
             ],
             [
              1,
              "#f0f921"
             ]
            ],
            "type": "heatmapgl"
           }
          ],
          "histogram": [
           {
            "marker": {
             "pattern": {
              "fillmode": "overlay",
              "size": 10,
              "solidity": 0.2
             }
            },
            "type": "histogram"
           }
          ],
          "histogram2d": [
           {
            "colorbar": {
             "outlinewidth": 0,
             "ticks": ""
            },
            "colorscale": [
             [
              0,
              "#0d0887"
             ],
             [
              0.1111111111111111,
              "#46039f"
             ],
             [
              0.2222222222222222,
              "#7201a8"
             ],
             [
              0.3333333333333333,
              "#9c179e"
             ],
             [
              0.4444444444444444,
              "#bd3786"
             ],
             [
              0.5555555555555556,
              "#d8576b"
             ],
             [
              0.6666666666666666,
              "#ed7953"
             ],
             [
              0.7777777777777778,
              "#fb9f3a"
             ],
             [
              0.8888888888888888,
              "#fdca26"
             ],
             [
              1,
              "#f0f921"
             ]
            ],
            "type": "histogram2d"
           }
          ],
          "histogram2dcontour": [
           {
            "colorbar": {
             "outlinewidth": 0,
             "ticks": ""
            },
            "colorscale": [
             [
              0,
              "#0d0887"
             ],
             [
              0.1111111111111111,
              "#46039f"
             ],
             [
              0.2222222222222222,
              "#7201a8"
             ],
             [
              0.3333333333333333,
              "#9c179e"
             ],
             [
              0.4444444444444444,
              "#bd3786"
             ],
             [
              0.5555555555555556,
              "#d8576b"
             ],
             [
              0.6666666666666666,
              "#ed7953"
             ],
             [
              0.7777777777777778,
              "#fb9f3a"
             ],
             [
              0.8888888888888888,
              "#fdca26"
             ],
             [
              1,
              "#f0f921"
             ]
            ],
            "type": "histogram2dcontour"
           }
          ],
          "mesh3d": [
           {
            "colorbar": {
             "outlinewidth": 0,
             "ticks": ""
            },
            "type": "mesh3d"
           }
          ],
          "parcoords": [
           {
            "line": {
             "colorbar": {
              "outlinewidth": 0,
              "ticks": ""
             }
            },
            "type": "parcoords"
           }
          ],
          "pie": [
           {
            "automargin": true,
            "type": "pie"
           }
          ],
          "scatter": [
           {
            "marker": {
             "colorbar": {
              "outlinewidth": 0,
              "ticks": ""
             }
            },
            "type": "scatter"
           }
          ],
          "scatter3d": [
           {
            "line": {
             "colorbar": {
              "outlinewidth": 0,
              "ticks": ""
             }
            },
            "marker": {
             "colorbar": {
              "outlinewidth": 0,
              "ticks": ""
             }
            },
            "type": "scatter3d"
           }
          ],
          "scattercarpet": [
           {
            "marker": {
             "colorbar": {
              "outlinewidth": 0,
              "ticks": ""
             }
            },
            "type": "scattercarpet"
           }
          ],
          "scattergeo": [
           {
            "marker": {
             "colorbar": {
              "outlinewidth": 0,
              "ticks": ""
             }
            },
            "type": "scattergeo"
           }
          ],
          "scattergl": [
           {
            "marker": {
             "colorbar": {
              "outlinewidth": 0,
              "ticks": ""
             }
            },
            "type": "scattergl"
           }
          ],
          "scattermapbox": [
           {
            "marker": {
             "colorbar": {
              "outlinewidth": 0,
              "ticks": ""
             }
            },
            "type": "scattermapbox"
           }
          ],
          "scatterpolar": [
           {
            "marker": {
             "colorbar": {
              "outlinewidth": 0,
              "ticks": ""
             }
            },
            "type": "scatterpolar"
           }
          ],
          "scatterpolargl": [
           {
            "marker": {
             "colorbar": {
              "outlinewidth": 0,
              "ticks": ""
             }
            },
            "type": "scatterpolargl"
           }
          ],
          "scatterternary": [
           {
            "marker": {
             "colorbar": {
              "outlinewidth": 0,
              "ticks": ""
             }
            },
            "type": "scatterternary"
           }
          ],
          "surface": [
           {
            "colorbar": {
             "outlinewidth": 0,
             "ticks": ""
            },
            "colorscale": [
             [
              0,
              "#0d0887"
             ],
             [
              0.1111111111111111,
              "#46039f"
             ],
             [
              0.2222222222222222,
              "#7201a8"
             ],
             [
              0.3333333333333333,
              "#9c179e"
             ],
             [
              0.4444444444444444,
              "#bd3786"
             ],
             [
              0.5555555555555556,
              "#d8576b"
             ],
             [
              0.6666666666666666,
              "#ed7953"
             ],
             [
              0.7777777777777778,
              "#fb9f3a"
             ],
             [
              0.8888888888888888,
              "#fdca26"
             ],
             [
              1,
              "#f0f921"
             ]
            ],
            "type": "surface"
           }
          ],
          "table": [
           {
            "cells": {
             "fill": {
              "color": "#EBF0F8"
             },
             "line": {
              "color": "white"
             }
            },
            "header": {
             "fill": {
              "color": "#C8D4E3"
             },
             "line": {
              "color": "white"
             }
            },
            "type": "table"
           }
          ]
         },
         "layout": {
          "annotationdefaults": {
           "arrowcolor": "#2a3f5f",
           "arrowhead": 0,
           "arrowwidth": 1
          },
          "autotypenumbers": "strict",
          "coloraxis": {
           "colorbar": {
            "outlinewidth": 0,
            "ticks": ""
           }
          },
          "colorscale": {
           "diverging": [
            [
             0,
             "#8e0152"
            ],
            [
             0.1,
             "#c51b7d"
            ],
            [
             0.2,
             "#de77ae"
            ],
            [
             0.3,
             "#f1b6da"
            ],
            [
             0.4,
             "#fde0ef"
            ],
            [
             0.5,
             "#f7f7f7"
            ],
            [
             0.6,
             "#e6f5d0"
            ],
            [
             0.7,
             "#b8e186"
            ],
            [
             0.8,
             "#7fbc41"
            ],
            [
             0.9,
             "#4d9221"
            ],
            [
             1,
             "#276419"
            ]
           ],
           "sequential": [
            [
             0,
             "#0d0887"
            ],
            [
             0.1111111111111111,
             "#46039f"
            ],
            [
             0.2222222222222222,
             "#7201a8"
            ],
            [
             0.3333333333333333,
             "#9c179e"
            ],
            [
             0.4444444444444444,
             "#bd3786"
            ],
            [
             0.5555555555555556,
             "#d8576b"
            ],
            [
             0.6666666666666666,
             "#ed7953"
            ],
            [
             0.7777777777777778,
             "#fb9f3a"
            ],
            [
             0.8888888888888888,
             "#fdca26"
            ],
            [
             1,
             "#f0f921"
            ]
           ],
           "sequentialminus": [
            [
             0,
             "#0d0887"
            ],
            [
             0.1111111111111111,
             "#46039f"
            ],
            [
             0.2222222222222222,
             "#7201a8"
            ],
            [
             0.3333333333333333,
             "#9c179e"
            ],
            [
             0.4444444444444444,
             "#bd3786"
            ],
            [
             0.5555555555555556,
             "#d8576b"
            ],
            [
             0.6666666666666666,
             "#ed7953"
            ],
            [
             0.7777777777777778,
             "#fb9f3a"
            ],
            [
             0.8888888888888888,
             "#fdca26"
            ],
            [
             1,
             "#f0f921"
            ]
           ]
          },
          "colorway": [
           "#636efa",
           "#EF553B",
           "#00cc96",
           "#ab63fa",
           "#FFA15A",
           "#19d3f3",
           "#FF6692",
           "#B6E880",
           "#FF97FF",
           "#FECB52"
          ],
          "font": {
           "color": "#2a3f5f"
          },
          "geo": {
           "bgcolor": "white",
           "lakecolor": "white",
           "landcolor": "#E5ECF6",
           "showlakes": true,
           "showland": true,
           "subunitcolor": "white"
          },
          "hoverlabel": {
           "align": "left"
          },
          "hovermode": "closest",
          "mapbox": {
           "style": "light"
          },
          "paper_bgcolor": "white",
          "plot_bgcolor": "#E5ECF6",
          "polar": {
           "angularaxis": {
            "gridcolor": "white",
            "linecolor": "white",
            "ticks": ""
           },
           "bgcolor": "#E5ECF6",
           "radialaxis": {
            "gridcolor": "white",
            "linecolor": "white",
            "ticks": ""
           }
          },
          "scene": {
           "xaxis": {
            "backgroundcolor": "#E5ECF6",
            "gridcolor": "white",
            "gridwidth": 2,
            "linecolor": "white",
            "showbackground": true,
            "ticks": "",
            "zerolinecolor": "white"
           },
           "yaxis": {
            "backgroundcolor": "#E5ECF6",
            "gridcolor": "white",
            "gridwidth": 2,
            "linecolor": "white",
            "showbackground": true,
            "ticks": "",
            "zerolinecolor": "white"
           },
           "zaxis": {
            "backgroundcolor": "#E5ECF6",
            "gridcolor": "white",
            "gridwidth": 2,
            "linecolor": "white",
            "showbackground": true,
            "ticks": "",
            "zerolinecolor": "white"
           }
          },
          "shapedefaults": {
           "line": {
            "color": "#2a3f5f"
           }
          },
          "ternary": {
           "aaxis": {
            "gridcolor": "white",
            "linecolor": "white",
            "ticks": ""
           },
           "baxis": {
            "gridcolor": "white",
            "linecolor": "white",
            "ticks": ""
           },
           "bgcolor": "#E5ECF6",
           "caxis": {
            "gridcolor": "white",
            "linecolor": "white",
            "ticks": ""
           }
          },
          "title": {
           "x": 0.05
          },
          "xaxis": {
           "automargin": true,
           "gridcolor": "white",
           "linecolor": "white",
           "ticks": "",
           "title": {
            "standoff": 15
           },
           "zerolinecolor": "white",
           "zerolinewidth": 2
          },
          "yaxis": {
           "automargin": true,
           "gridcolor": "white",
           "linecolor": "white",
           "ticks": "",
           "title": {
            "standoff": 15
           },
           "zerolinecolor": "white",
           "zerolinewidth": 2
          }
         }
        }
       }
      },
      "text/html": [
       "<div>                            <div id=\"c724cf0d-b6ed-401b-8263-43de3fb323a9\" class=\"plotly-graph-div\" style=\"height:525px; width:100%;\"></div>            <script type=\"text/javascript\">                require([\"plotly\"], function(Plotly) {                    window.PLOTLYENV=window.PLOTLYENV || {};                                    if (document.getElementById(\"c724cf0d-b6ed-401b-8263-43de3fb323a9\")) {                    Plotly.newPlot(                        \"c724cf0d-b6ed-401b-8263-43de3fb323a9\",                        [{\"cells\":{\"align\":[\"left\",\"center\"],\"fill\":{\"color\":[[\"white\",\"lightgrey\",\"white\",\"lightgrey\",\"white\",\"white\",\"lightgrey\",\"white\",\"lightgrey\",\"white\",\"white\",\"lightgrey\",\"white\",\"lightgrey\",\"white\",\"white\",\"lightgrey\",\"white\",\"lightgrey\",\"white\",\"white\",\"lightgrey\",\"white\",\"lightgrey\",\"white\"]]},\"font\":{\"color\":\"darkslategray\",\"size\":12},\"format\":[\".0f\",\".4f\"],\"line\":{\"color\":\"darkslategray\"},\"values\":[[20,50,100,150,200],[0.6493846153846153,0.6183076923076921,0.6184615384615384,0.5752307692307694,0.5786153846153846],[0.6815508021390375,0.6666666666666667,0.6311942959001783,0.6135472370766488,0.590017825311943],[0.626,0.6258461538461539,0.5904615384615385,0.5749230769230769,0.5627692307692307],[0.6194295900178254,0.6311942959001782,0.5959001782531195,0.5959893048128343,0.5929590017825312],[0.6338461538461537,0.6264615384615385,0.5673846153846153,0.570923076923077,0.5512307692307692],[0.6605169340463459,0.6253119429590018,0.6254010695187167,0.5988413547237077,0.5929590017825312]]},\"header\":{\"align\":[\"left\",\"center\"],\"fill\":{\"color\":\"grey\"},\"font\":{\"color\":\"white\",\"size\":15},\"line\":{\"color\":\"darkslategray\"},\"values\":[\"<b>Features</b>\",\"<b>Univariate Train</b>\",\"<b>Univariate Train_Val (Test) </b>\",\"<b>Model-based Train</b>\",\"<b>Model-based Train_Val (Test)</b>\",\"<b>Iterative Train</b>\",\"<b>Iterative Train_Val (Test)</b>\"]},\"type\":\"table\"}],                        {\"template\":{\"data\":{\"bar\":[{\"error_x\":{\"color\":\"#2a3f5f\"},\"error_y\":{\"color\":\"#2a3f5f\"},\"marker\":{\"line\":{\"color\":\"#E5ECF6\",\"width\":0.5},\"pattern\":{\"fillmode\":\"overlay\",\"size\":10,\"solidity\":0.2}},\"type\":\"bar\"}],\"barpolar\":[{\"marker\":{\"line\":{\"color\":\"#E5ECF6\",\"width\":0.5},\"pattern\":{\"fillmode\":\"overlay\",\"size\":10,\"solidity\":0.2}},\"type\":\"barpolar\"}],\"carpet\":[{\"aaxis\":{\"endlinecolor\":\"#2a3f5f\",\"gridcolor\":\"white\",\"linecolor\":\"white\",\"minorgridcolor\":\"white\",\"startlinecolor\":\"#2a3f5f\"},\"baxis\":{\"endlinecolor\":\"#2a3f5f\",\"gridcolor\":\"white\",\"linecolor\":\"white\",\"minorgridcolor\":\"white\",\"startlinecolor\":\"#2a3f5f\"},\"type\":\"carpet\"}],\"choropleth\":[{\"colorbar\":{\"outlinewidth\":0,\"ticks\":\"\"},\"type\":\"choropleth\"}],\"contour\":[{\"colorbar\":{\"outlinewidth\":0,\"ticks\":\"\"},\"colorscale\":[[0.0,\"#0d0887\"],[0.1111111111111111,\"#46039f\"],[0.2222222222222222,\"#7201a8\"],[0.3333333333333333,\"#9c179e\"],[0.4444444444444444,\"#bd3786\"],[0.5555555555555556,\"#d8576b\"],[0.6666666666666666,\"#ed7953\"],[0.7777777777777778,\"#fb9f3a\"],[0.8888888888888888,\"#fdca26\"],[1.0,\"#f0f921\"]],\"type\":\"contour\"}],\"contourcarpet\":[{\"colorbar\":{\"outlinewidth\":0,\"ticks\":\"\"},\"type\":\"contourcarpet\"}],\"heatmap\":[{\"colorbar\":{\"outlinewidth\":0,\"ticks\":\"\"},\"colorscale\":[[0.0,\"#0d0887\"],[0.1111111111111111,\"#46039f\"],[0.2222222222222222,\"#7201a8\"],[0.3333333333333333,\"#9c179e\"],[0.4444444444444444,\"#bd3786\"],[0.5555555555555556,\"#d8576b\"],[0.6666666666666666,\"#ed7953\"],[0.7777777777777778,\"#fb9f3a\"],[0.8888888888888888,\"#fdca26\"],[1.0,\"#f0f921\"]],\"type\":\"heatmap\"}],\"heatmapgl\":[{\"colorbar\":{\"outlinewidth\":0,\"ticks\":\"\"},\"colorscale\":[[0.0,\"#0d0887\"],[0.1111111111111111,\"#46039f\"],[0.2222222222222222,\"#7201a8\"],[0.3333333333333333,\"#9c179e\"],[0.4444444444444444,\"#bd3786\"],[0.5555555555555556,\"#d8576b\"],[0.6666666666666666,\"#ed7953\"],[0.7777777777777778,\"#fb9f3a\"],[0.8888888888888888,\"#fdca26\"],[1.0,\"#f0f921\"]],\"type\":\"heatmapgl\"}],\"histogram\":[{\"marker\":{\"pattern\":{\"fillmode\":\"overlay\",\"size\":10,\"solidity\":0.2}},\"type\":\"histogram\"}],\"histogram2d\":[{\"colorbar\":{\"outlinewidth\":0,\"ticks\":\"\"},\"colorscale\":[[0.0,\"#0d0887\"],[0.1111111111111111,\"#46039f\"],[0.2222222222222222,\"#7201a8\"],[0.3333333333333333,\"#9c179e\"],[0.4444444444444444,\"#bd3786\"],[0.5555555555555556,\"#d8576b\"],[0.6666666666666666,\"#ed7953\"],[0.7777777777777778,\"#fb9f3a\"],[0.8888888888888888,\"#fdca26\"],[1.0,\"#f0f921\"]],\"type\":\"histogram2d\"}],\"histogram2dcontour\":[{\"colorbar\":{\"outlinewidth\":0,\"ticks\":\"\"},\"colorscale\":[[0.0,\"#0d0887\"],[0.1111111111111111,\"#46039f\"],[0.2222222222222222,\"#7201a8\"],[0.3333333333333333,\"#9c179e\"],[0.4444444444444444,\"#bd3786\"],[0.5555555555555556,\"#d8576b\"],[0.6666666666666666,\"#ed7953\"],[0.7777777777777778,\"#fb9f3a\"],[0.8888888888888888,\"#fdca26\"],[1.0,\"#f0f921\"]],\"type\":\"histogram2dcontour\"}],\"mesh3d\":[{\"colorbar\":{\"outlinewidth\":0,\"ticks\":\"\"},\"type\":\"mesh3d\"}],\"parcoords\":[{\"line\":{\"colorbar\":{\"outlinewidth\":0,\"ticks\":\"\"}},\"type\":\"parcoords\"}],\"pie\":[{\"automargin\":true,\"type\":\"pie\"}],\"scatter\":[{\"marker\":{\"colorbar\":{\"outlinewidth\":0,\"ticks\":\"\"}},\"type\":\"scatter\"}],\"scatter3d\":[{\"line\":{\"colorbar\":{\"outlinewidth\":0,\"ticks\":\"\"}},\"marker\":{\"colorbar\":{\"outlinewidth\":0,\"ticks\":\"\"}},\"type\":\"scatter3d\"}],\"scattercarpet\":[{\"marker\":{\"colorbar\":{\"outlinewidth\":0,\"ticks\":\"\"}},\"type\":\"scattercarpet\"}],\"scattergeo\":[{\"marker\":{\"colorbar\":{\"outlinewidth\":0,\"ticks\":\"\"}},\"type\":\"scattergeo\"}],\"scattergl\":[{\"marker\":{\"colorbar\":{\"outlinewidth\":0,\"ticks\":\"\"}},\"type\":\"scattergl\"}],\"scattermapbox\":[{\"marker\":{\"colorbar\":{\"outlinewidth\":0,\"ticks\":\"\"}},\"type\":\"scattermapbox\"}],\"scatterpolar\":[{\"marker\":{\"colorbar\":{\"outlinewidth\":0,\"ticks\":\"\"}},\"type\":\"scatterpolar\"}],\"scatterpolargl\":[{\"marker\":{\"colorbar\":{\"outlinewidth\":0,\"ticks\":\"\"}},\"type\":\"scatterpolargl\"}],\"scatterternary\":[{\"marker\":{\"colorbar\":{\"outlinewidth\":0,\"ticks\":\"\"}},\"type\":\"scatterternary\"}],\"surface\":[{\"colorbar\":{\"outlinewidth\":0,\"ticks\":\"\"},\"colorscale\":[[0.0,\"#0d0887\"],[0.1111111111111111,\"#46039f\"],[0.2222222222222222,\"#7201a8\"],[0.3333333333333333,\"#9c179e\"],[0.4444444444444444,\"#bd3786\"],[0.5555555555555556,\"#d8576b\"],[0.6666666666666666,\"#ed7953\"],[0.7777777777777778,\"#fb9f3a\"],[0.8888888888888888,\"#fdca26\"],[1.0,\"#f0f921\"]],\"type\":\"surface\"}],\"table\":[{\"cells\":{\"fill\":{\"color\":\"#EBF0F8\"},\"line\":{\"color\":\"white\"}},\"header\":{\"fill\":{\"color\":\"#C8D4E3\"},\"line\":{\"color\":\"white\"}},\"type\":\"table\"}]},\"layout\":{\"annotationdefaults\":{\"arrowcolor\":\"#2a3f5f\",\"arrowhead\":0,\"arrowwidth\":1},\"autotypenumbers\":\"strict\",\"coloraxis\":{\"colorbar\":{\"outlinewidth\":0,\"ticks\":\"\"}},\"colorscale\":{\"diverging\":[[0,\"#8e0152\"],[0.1,\"#c51b7d\"],[0.2,\"#de77ae\"],[0.3,\"#f1b6da\"],[0.4,\"#fde0ef\"],[0.5,\"#f7f7f7\"],[0.6,\"#e6f5d0\"],[0.7,\"#b8e186\"],[0.8,\"#7fbc41\"],[0.9,\"#4d9221\"],[1,\"#276419\"]],\"sequential\":[[0.0,\"#0d0887\"],[0.1111111111111111,\"#46039f\"],[0.2222222222222222,\"#7201a8\"],[0.3333333333333333,\"#9c179e\"],[0.4444444444444444,\"#bd3786\"],[0.5555555555555556,\"#d8576b\"],[0.6666666666666666,\"#ed7953\"],[0.7777777777777778,\"#fb9f3a\"],[0.8888888888888888,\"#fdca26\"],[1.0,\"#f0f921\"]],\"sequentialminus\":[[0.0,\"#0d0887\"],[0.1111111111111111,\"#46039f\"],[0.2222222222222222,\"#7201a8\"],[0.3333333333333333,\"#9c179e\"],[0.4444444444444444,\"#bd3786\"],[0.5555555555555556,\"#d8576b\"],[0.6666666666666666,\"#ed7953\"],[0.7777777777777778,\"#fb9f3a\"],[0.8888888888888888,\"#fdca26\"],[1.0,\"#f0f921\"]]},\"colorway\":[\"#636efa\",\"#EF553B\",\"#00cc96\",\"#ab63fa\",\"#FFA15A\",\"#19d3f3\",\"#FF6692\",\"#B6E880\",\"#FF97FF\",\"#FECB52\"],\"font\":{\"color\":\"#2a3f5f\"},\"geo\":{\"bgcolor\":\"white\",\"lakecolor\":\"white\",\"landcolor\":\"#E5ECF6\",\"showlakes\":true,\"showland\":true,\"subunitcolor\":\"white\"},\"hoverlabel\":{\"align\":\"left\"},\"hovermode\":\"closest\",\"mapbox\":{\"style\":\"light\"},\"paper_bgcolor\":\"white\",\"plot_bgcolor\":\"#E5ECF6\",\"polar\":{\"angularaxis\":{\"gridcolor\":\"white\",\"linecolor\":\"white\",\"ticks\":\"\"},\"bgcolor\":\"#E5ECF6\",\"radialaxis\":{\"gridcolor\":\"white\",\"linecolor\":\"white\",\"ticks\":\"\"}},\"scene\":{\"xaxis\":{\"backgroundcolor\":\"#E5ECF6\",\"gridcolor\":\"white\",\"gridwidth\":2,\"linecolor\":\"white\",\"showbackground\":true,\"ticks\":\"\",\"zerolinecolor\":\"white\"},\"yaxis\":{\"backgroundcolor\":\"#E5ECF6\",\"gridcolor\":\"white\",\"gridwidth\":2,\"linecolor\":\"white\",\"showbackground\":true,\"ticks\":\"\",\"zerolinecolor\":\"white\"},\"zaxis\":{\"backgroundcolor\":\"#E5ECF6\",\"gridcolor\":\"white\",\"gridwidth\":2,\"linecolor\":\"white\",\"showbackground\":true,\"ticks\":\"\",\"zerolinecolor\":\"white\"}},\"shapedefaults\":{\"line\":{\"color\":\"#2a3f5f\"}},\"ternary\":{\"aaxis\":{\"gridcolor\":\"white\",\"linecolor\":\"white\",\"ticks\":\"\"},\"baxis\":{\"gridcolor\":\"white\",\"linecolor\":\"white\",\"ticks\":\"\"},\"bgcolor\":\"#E5ECF6\",\"caxis\":{\"gridcolor\":\"white\",\"linecolor\":\"white\",\"ticks\":\"\"}},\"title\":{\"x\":0.05},\"xaxis\":{\"automargin\":true,\"gridcolor\":\"white\",\"linecolor\":\"white\",\"ticks\":\"\",\"title\":{\"standoff\":15},\"zerolinecolor\":\"white\",\"zerolinewidth\":2},\"yaxis\":{\"automargin\":true,\"gridcolor\":\"white\",\"linecolor\":\"white\",\"ticks\":\"\",\"title\":{\"standoff\":15},\"zerolinecolor\":\"white\",\"zerolinewidth\":2}}}},                        {\"responsive\": true}                    ).then(function(){\n",
       "                            \n",
       "var gd = document.getElementById('c724cf0d-b6ed-401b-8263-43de3fb323a9');\n",
       "var x = new MutationObserver(function (mutations, observer) {{\n",
       "        var display = window.getComputedStyle(gd).display;\n",
       "        if (!display || display === 'none') {{\n",
       "            console.log([gd, 'removed!']);\n",
       "            Plotly.purge(gd);\n",
       "            observer.disconnect();\n",
       "        }}\n",
       "}});\n",
       "\n",
       "// Listen for the removal of the full notebook cells\n",
       "var notebookContainer = gd.closest('#notebook-container');\n",
       "if (notebookContainer) {{\n",
       "    x.observe(notebookContainer, {childList: true});\n",
       "}}\n",
       "\n",
       "// Listen for the clearing of the current output cell\n",
       "var outputEl = gd.closest('.output');\n",
       "if (outputEl) {{\n",
       "    x.observe(outputEl, {childList: true});\n",
       "}}\n",
       "\n",
       "                        })                };                });            </script>        </div>"
      ]
     },
     "metadata": {},
     "output_type": "display_data"
    }
   ],
   "source": [
    "print(\"All features:\")\n",
    "print(\"train score: {:.4f}\".format(val_score))\n",
    "print(\"test score: {:.4f}\".format(test_score))\n",
    "\n",
    "headerColor = 'grey'\n",
    "rowEvenColor = 'lightgrey'\n",
    "rowOddColor = 'white'\n",
    "\n",
    "fig = go.Figure(data=[go.Table(\n",
    "  header=dict(\n",
    "    values=['<b>Features</b>','<b>Univariate Train</b>','<b>Univariate Train_Val (Test) </b>','<b>Model-based Train</b>','<b>Model-based Train_Val (Test)</b>','<b>Iterative Train</b>','<b>Iterative Train_Val (Test)</b>'],\n",
    "    line_color='darkslategray',\n",
    "    fill_color=headerColor,\n",
    "    align=['left','center'],\n",
    "    font=dict(color='white', size=15)\n",
    "  ),\n",
    "  cells=dict(\n",
    "    #Adding the data (results)\n",
    "    values=[\n",
    "      number_features,\n",
    "      train_score_uni,\n",
    "      test_score_uni,\n",
    "      train_score_mod,\n",
    "      test_score_mod,\n",
    "      train_score_iter,\n",
    "      test_score_iter],\n",
    "    line_color='darkslategray',\n",
    "    # 2-D list of colors for alternating rows\n",
    "    fill_color = [[rowOddColor,rowEvenColor,rowOddColor, rowEvenColor,rowOddColor]*5],\n",
    "    align = ['left', 'center'],\n",
    "    font = dict(color = 'darkslategray', size = 12),\n",
    "    format=[\".0f\",\".4f\"]\n",
    "    ))\n",
    "])\n",
    "\n",
    "fig.show()"
   ]
  },
  {
   "cell_type": "code",
   "execution_count": 36,
   "metadata": {
    "ExecuteTime": {
     "end_time": "2021-11-02T16:50:37.886064Z",
     "start_time": "2021-11-02T16:50:37.782281Z"
    }
   },
   "outputs": [
    {
     "name": "stdout",
     "output_type": "stream",
     "text": [
      "For Univariate Statistics Feature Selection\n",
      "The best model is with features equal to {'select__k': 20}\n",
      "Best score for Testing data: 0.6494\n",
      "Best score Testing_Validation data: 0.6816\n",
      "Test-set score: 0.6460 \n",
      "\n",
      "For Model-based Feature Selection\n",
      "The best model is with features equal to {'select__max_features': 20}\n",
      "Best score for Testing data: 0.6260\n",
      "Best score Testing_Validation data: 0.6312\n",
      "Test-set score: 0.6106 \n",
      "\n",
      "For Iterative Feature Selection\n",
      "The best model is with features equal to {'select__n_features_to_select': 20}\n",
      "Best score for Testing data: 0.6338\n",
      "Best score Testing_Validation data: 0.6605\n",
      "Test-set score: 0.7168 \n",
      "\n"
     ]
    }
   ],
   "source": [
    "#Printing results\n",
    "print(\"For Univariate Statistics Feature Selection\")\n",
    "print(\"The best model is with features equal to {}\".format(grid_uni_train.best_params_))\n",
    "print(\"Best score for Testing data: {:.4f}\".format(grid_uni_train.best_score_))\n",
    "print(\"Best score Testing_Validation data: {:.4f}\".format(grid_uni_test.best_score_))\n",
    "print(\"Test-set score: {:.4f} \\n\".format(grid_uni_test.score(X_test, y_test)))\n",
    "\n",
    "#Printing results\n",
    "print(\"For Model-based Feature Selection\")\n",
    "print(\"The best model is with features equal to {}\".format(grid_mod_train.best_params_))\n",
    "print(\"Best score for Testing data: {:.4f}\".format(grid_mod_train.best_score_))\n",
    "print(\"Best score Testing_Validation data: {:.4f}\".format(grid_mod_test.best_score_))\n",
    "print(\"Test-set score: {:.4f} \\n\".format(grid_mod_test.score(X_test, y_test)))\n",
    "\n",
    "#Printing results\n",
    "print(\"For Iterative Feature Selection\")\n",
    "print(\"The best model is with features equal to {}\".format(grid_iter_train.best_params_))\n",
    "print(\"Best score for Testing data: {:.4f}\".format(grid_iter_train.best_score_))\n",
    "print(\"Best score Testing_Validation data: {:.4f}\".format(grid_iter_test.best_score_))\n",
    "print(\"Test-set score: {:.4f} \\n\".format(grid_iter_test.score(X_test, y_test)))"
   ]
  },
  {
   "cell_type": "code",
   "execution_count": null,
   "metadata": {},
   "outputs": [],
   "source": []
  }
 ],
 "metadata": {
  "hide_input": false,
  "kernelspec": {
   "display_name": "Python 3 (ipykernel)",
   "language": "python",
   "name": "python3"
  },
  "language_info": {
   "codemirror_mode": {
    "name": "ipython",
    "version": 3
   },
   "file_extension": ".py",
   "mimetype": "text/x-python",
   "name": "python",
   "nbconvert_exporter": "python",
   "pygments_lexer": "ipython3",
   "version": "3.7.8"
  }
 },
 "nbformat": 4,
 "nbformat_minor": 4
}
