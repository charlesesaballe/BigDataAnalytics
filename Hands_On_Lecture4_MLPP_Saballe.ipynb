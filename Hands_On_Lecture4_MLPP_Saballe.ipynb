{
 "cells": [
  {
   "cell_type": "markdown",
   "id": "52dad9a9",
   "metadata": {},
   "source": [
    "# Hands On"
   ]
  },
  {
   "cell_type": "markdown",
   "id": "ca9ba908",
   "metadata": {},
   "source": [
    "Use the Student performance dataset: https://archive.ics.uci.edu/ml/datasets/Student+Performance\n",
    "\n",
    "Load the dataset into a pandas dataframe.\n",
    "describe the type of features.\n",
    "Check the categorical variables and transform them into numerical values testing different techniques."
   ]
  },
  {
   "cell_type": "code",
   "execution_count": null,
   "id": "cbde60c6",
   "metadata": {},
   "outputs": [],
   "source": []
  }
 ],
 "metadata": {
  "hide_input": false,
  "kernelspec": {
   "display_name": "Python 3 (ipykernel)",
   "language": "python",
   "name": "python3"
  },
  "language_info": {
   "codemirror_mode": {
    "name": "ipython",
    "version": 3
   },
   "file_extension": ".py",
   "mimetype": "text/x-python",
   "name": "python",
   "nbconvert_exporter": "python",
   "pygments_lexer": "ipython3",
   "version": "3.7.8"
  }
 },
 "nbformat": 4,
 "nbformat_minor": 5
}
